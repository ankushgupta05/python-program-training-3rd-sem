{
 "cells": [
  {
   "cell_type": "code",
   "execution_count": 19,
   "id": "3e1f5173",
   "metadata": {},
   "outputs": [
    {
     "name": "stdout",
     "output_type": "stream",
     "text": [
      "additional operator : 22\n",
      "Substraction operator  : 18\n",
      "multyfication operator : 40\n",
      "Divission operator  : 10.0\n",
      "Divission in integer operator  : 10\n",
      "Modulus operator  : 0\n",
      "power of 2nd operance operator  : 400\n"
     ]
    }
   ],
   "source": [
    "# Earthmating operators\n",
    "x=20\n",
    "y=2 \n",
    "print(\"additional operator :\",x+y)   \n",
    "print(\"Substraction operator  :\",x-y)  \n",
    "print(\"multyfication operator :\",x*y)   \n",
    "print(\"Divission operator  :\",x/y)     # always give float value\n",
    "print(\"Divission in integer operator  :\",x//y) \n",
    "print(\"Modulus operator  :\",x%y)  \n",
    "print(\"power of 2nd operance operator  :\",x**y) "
   ]
  },
  {
   "cell_type": "code",
   "execution_count": 18,
   "id": "4ead555e",
   "metadata": {},
   "outputs": [
    {
     "name": "stdout",
     "output_type": "stream",
     "text": [
      "Ankush Gupta \n",
      "Ankush Ankush Ankush Ankush Ankush \n",
      "Gupta Gupta Gupta Gupta Gupta \n",
      "I Love My India \n",
      " I Love My India \n",
      " I Love My India \n",
      " I Love My India \n",
      " I Love My India \n",
      " \n"
     ]
    }
   ],
   "source": [
    "str1=\"Ankush \"\n",
    "str2=\"Gupta \"\n",
    "print(str1+str2)\n",
    "\n",
    "print(str1*5)\n",
    "print(str2*5)\n",
    "\n",
    "\"I Love My India , \" *5\n",
    "# print(\"I Love My India \\n \"*5)"
   ]
  },
  {
   "cell_type": "code",
   "execution_count": 24,
   "id": "0e9eb5a6",
   "metadata": {},
   "outputs": [
    {
     "name": "stdout",
     "output_type": "stream",
     "text": [
      "7.5\n",
      "7\n",
      "7.0\n",
      "7.0\n"
     ]
    }
   ],
   "source": [
    "print(30/4)\n",
    "print(30//4) # it give floor(round Down) value in integer\n",
    "print(30.6//4)  # it give floor(round Down) value in float because one value is float \n",
    "print(30.6//4.2)  # it give floor(round Down) value in float because both value are float "
   ]
  },
  {
   "cell_type": "code",
   "execution_count": 34,
   "id": "88ff3634",
   "metadata": {},
   "outputs": [
    {
     "name": "stdout",
     "output_type": "stream",
     "text": [
      "0\n",
      "0.7000000000000028\n",
      "1.0\n",
      "0\n",
      "5\n",
      "0\n",
      "-1\n",
      "5.549999999999997\n"
     ]
    }
   ],
   "source": [
    "print(66%6)\n",
    "print(66.7%6)\n",
    "print(66%6.5)\n",
    "print(-66%6)   # remender always give positive bcz one value is possitive\n",
    "print(-67%6)\n",
    "print(66%-6)\n",
    "print(-67%-6)    # remender is nagetive bcz both value are nagetive\n",
    "print(-66.45%6)    "
   ]
  },
  {
   "cell_type": "code",
   "execution_count": 37,
   "id": "686a9184",
   "metadata": {},
   "outputs": [
    {
     "name": "stdout",
     "output_type": "stream",
     "text": [
      "False\n",
      "False\n",
      "True\n",
      "True\n",
      "False\n",
      "True\n"
     ]
    }
   ],
   "source": [
    "# Relation operator(comperision operator)  [ \"<\" , \">\" , \"==\", \"!=\" ]\n",
    "a=44\n",
    "b=6\n",
    "print(a<b)    # Relation operator always Give in boolean(True/False)\n",
    "print(a<=b) \n",
    "print(a>b)\n",
    "print(a>=b)\n",
    "print(a==b)\n",
    "print(a!=b)"
   ]
  },
  {
   "cell_type": "code",
   "execution_count": 40,
   "id": "d3d3ea8a",
   "metadata": {},
   "outputs": [
    {
     "name": "stdout",
     "output_type": "stream",
     "text": [
      "False\n",
      "False\n",
      "True\n",
      "True\n",
      "False\n",
      "True\n"
     ]
    }
   ],
   "source": [
    "a=\"n\"    # if charactor so we use [ord(\"n\")] This fuction eithor chr(5) \n",
    "b=\"m\"\n",
    "print(a<b)\n",
    "print(a<=b)\n",
    "print(a>b)\n",
    "print(a>=b)\n",
    "print(a==b)\n",
    "print(a!=b) "
   ]
  },
  {
   "cell_type": "code",
   "execution_count": 41,
   "id": "e58080ac",
   "metadata": {},
   "outputs": [
    {
     "name": "stdout",
     "output_type": "stream",
     "text": [
      "True\n",
      "True\n",
      "False\n",
      "False\n",
      "False\n",
      "True\n"
     ]
    }
   ],
   "source": [
    "a=\"Ankush\"    \n",
    "b=\"ankush\"\n",
    "print(a<b)\n",
    "print(a<=b)\n",
    "print(a>b)\n",
    "print(a>=b)\n",
    "print(a==b)\n",
    "print(a!=b) "
   ]
  },
  {
   "cell_type": "code",
   "execution_count": 42,
   "id": "3cd1d03f",
   "metadata": {},
   "outputs": [
    {
     "name": "stdout",
     "output_type": "stream",
     "text": [
      "False\n",
      "True\n",
      "False\n",
      "True\n",
      "True\n",
      "False\n"
     ]
    }
   ],
   "source": [
    "a=\"Ankush\"    \n",
    "b=\"Ankush\"\n",
    "print(a<b)\n",
    "print(a<=b)\n",
    "print(a>b)\n",
    "print(a>=b)\n",
    "print(a==b)\n",
    "print(a!=b) "
   ]
  },
  {
   "cell_type": "code",
   "execution_count": 43,
   "id": "3ef92146",
   "metadata": {},
   "outputs": [
    {
     "name": "stdout",
     "output_type": "stream",
     "text": [
      "True\n",
      "True\n",
      "False\n",
      "False\n",
      "False\n",
      "True\n"
     ]
    }
   ],
   "source": [
    "a=\"Ankush\"    \n",
    "b=\"AnkushGupta\"\n",
    "print(a<b)\n",
    "print(a<=b)\n",
    "print(a>b)\n",
    "print(a>=b)\n",
    "print(a==b)\n",
    "print(a!=b) "
   ]
  },
  {
   "cell_type": "code",
   "execution_count": 46,
   "id": "62f06e18",
   "metadata": {},
   "outputs": [
    {
     "ename": "TypeError",
     "evalue": "'<' not supported between instances of 'str' and 'int'",
     "output_type": "error",
     "traceback": [
      "\u001b[1;31m---------------------------------------------------------------------------\u001b[0m",
      "\u001b[1;31mTypeError\u001b[0m                                 Traceback (most recent call last)",
      "Cell \u001b[1;32mIn[46], line 3\u001b[0m\n\u001b[0;32m      1\u001b[0m a\u001b[38;5;241m=\u001b[39m\u001b[38;5;124m\"\u001b[39m\u001b[38;5;124mAnkush\u001b[39m\u001b[38;5;124m\"\u001b[39m    \n\u001b[0;32m      2\u001b[0m b\u001b[38;5;241m=\u001b[39m\u001b[38;5;241m10\u001b[39m        \u001b[38;5;66;03m# comperision operator does not allows \u001b[39;00m\n\u001b[1;32m----> 3\u001b[0m \u001b[38;5;28mprint\u001b[39m(a\u001b[38;5;241m<\u001b[39mb)\n\u001b[0;32m      4\u001b[0m \u001b[38;5;28mprint\u001b[39m(a\u001b[38;5;241m<\u001b[39m\u001b[38;5;241m=\u001b[39mb)\n\u001b[0;32m      5\u001b[0m \u001b[38;5;28mprint\u001b[39m(a\u001b[38;5;241m>\u001b[39mb)\n",
      "\u001b[1;31mTypeError\u001b[0m: '<' not supported between instances of 'str' and 'int'"
     ]
    }
   ],
   "source": [
    "a=\"Ankush\"    \n",
    "b=10        # comperision operator does not allows \n",
    "print(a<b)\n",
    "print(a<=b)\n",
    "print(a>b)\n",
    "print(a>=b)"
   ]
  },
  {
   "cell_type": "code",
   "execution_count": 47,
   "id": "0174fb17",
   "metadata": {},
   "outputs": [
    {
     "name": "stdout",
     "output_type": "stream",
     "text": [
      "False\n",
      "True\n"
     ]
    }
   ],
   "source": [
    "a=\"Ankush\"    #  comperission operetor allows for these two operator\n",
    "b=10\n",
    "print(a==b)\n",
    "print(a!=b) "
   ]
  },
  {
   "cell_type": "code",
   "execution_count": 54,
   "id": "57cfed4a",
   "metadata": {},
   "outputs": [
    {
     "name": "stdout",
     "output_type": "stream",
     "text": [
      "True\n"
     ]
    },
    {
     "data": {
      "text/plain": [
       "True"
      ]
     },
     "execution_count": 54,
     "metadata": {},
     "output_type": "execute_result"
    }
   ],
   "source": [
    "print(1<2<3<4<5)\n",
    "5>4>3>2>1"
   ]
  },
  {
   "cell_type": "code",
   "execution_count": 57,
   "id": "40869e26",
   "metadata": {},
   "outputs": [
    {
     "data": {
      "text/plain": [
       "True"
      ]
     },
     "execution_count": 57,
     "metadata": {},
     "output_type": "execute_result"
    }
   ],
   "source": [
    "x=1\n",
    "y=2\n",
    "z=3\n",
    "x<y<z\n",
    "# print(x<y<z)"
   ]
  },
  {
   "cell_type": "code",
   "execution_count": 58,
   "id": "1eed63d5",
   "metadata": {},
   "outputs": [
    {
     "name": "stdout",
     "output_type": "stream",
     "text": [
      "True\n",
      "False\n",
      "False\n",
      "False\n",
      "False\n"
     ]
    }
   ],
   "source": [
    "# Logicle operators ( and operator)\n",
    "print(True and True)\n",
    "print(True and False)\n",
    "print(False and False)\n",
    "print(True and False)\n",
    "print(True and False)"
   ]
  },
  {
   "cell_type": "code",
   "execution_count": 61,
   "id": "76f7d461",
   "metadata": {},
   "outputs": [
    {
     "name": "stdout",
     "output_type": "stream",
     "text": [
      "True\n",
      "True\n",
      "False\n",
      "True\n",
      "True\n"
     ]
    }
   ],
   "source": [
    "# Logicle operator of ( or operator )\n",
    "print(True or True)\n",
    "print(True or False)\n",
    "print(False or False)\n",
    "print(True or False)\n",
    "print(True or False)"
   ]
  },
  {
   "cell_type": "code",
   "execution_count": 60,
   "id": "125dcfd7",
   "metadata": {},
   "outputs": [
    {
     "name": "stdout",
     "output_type": "stream",
     "text": [
      "False\n",
      "True\n"
     ]
    }
   ],
   "source": [
    "print(not True)\n",
    "print(not False)"
   ]
  },
  {
   "cell_type": "code",
   "execution_count": 63,
   "id": "fdebc272",
   "metadata": {},
   "outputs": [
    {
     "name": "stdout",
     "output_type": "stream",
     "text": [
      "6\n",
      "3\n"
     ]
    }
   ],
   "source": [
    "x=3\n",
    "y=6\n",
    "print(x and y)        \n",
    "print(x or y)"
   ]
  },
  {
   "cell_type": "code",
   "execution_count": 64,
   "id": "0c3b0e3f",
   "metadata": {},
   "outputs": [
    {
     "name": "stdout",
     "output_type": "stream",
     "text": [
      "0\n",
      "6\n"
     ]
    }
   ],
   "source": [
    "x=0\n",
    "y=6\n",
    "print(x and y)        \n",
    "print(x or y)"
   ]
  },
  {
   "cell_type": "code",
   "execution_count": 65,
   "id": "0e31c9e1",
   "metadata": {},
   "outputs": [
    {
     "name": "stdout",
     "output_type": "stream",
     "text": [
      "0\n",
      "6\n"
     ]
    }
   ],
   "source": [
    "x=6\n",
    "y=0\n",
    "print(x and y)       # \n",
    "print(x or y)"
   ]
  },
  {
   "cell_type": "code",
   "execution_count": 68,
   "id": "1d96ede6",
   "metadata": {},
   "outputs": [
    {
     "data": {
      "text/plain": [
       "False"
      ]
     },
     "execution_count": 68,
     "metadata": {},
     "output_type": "execute_result"
    }
   ],
   "source": [
    "5<10>15<33  \n"
   ]
  },
  {
   "cell_type": "code",
   "execution_count": 69,
   "id": "c4c948c4",
   "metadata": {},
   "outputs": [
    {
     "data": {
      "text/plain": [
       "True"
      ]
     },
     "execution_count": 69,
     "metadata": {},
     "output_type": "execute_result"
    }
   ],
   "source": [
    "\n",
    "5<10<15<33"
   ]
  },
  {
   "cell_type": "code",
   "execution_count": 70,
   "id": "546fd2a7",
   "metadata": {},
   "outputs": [
    {
     "data": {
      "text/plain": [
       "'white'"
      ]
     },
     "execution_count": 70,
     "metadata": {},
     "output_type": "execute_result"
    }
   ],
   "source": [
    "\"Red\"and\"white\"   # Fisrt value is true so by Default  second value of variable  prints , bcz of 'and' operator"
   ]
  },
  {
   "cell_type": "code",
   "execution_count": 71,
   "id": "9278619b",
   "metadata": {},
   "outputs": [
    {
     "data": {
      "text/plain": [
       "'Red'"
      ]
     },
     "execution_count": 71,
     "metadata": {},
     "output_type": "execute_result"
    }
   ],
   "source": [
    " \"Red\"or\"white\"  "
   ]
  },
  {
   "cell_type": "code",
   "execution_count": 75,
   "id": "36aea31a",
   "metadata": {},
   "outputs": [
    {
     "name": "stdout",
     "output_type": "stream",
     "text": [
      "66\n",
      "68\n",
      "66\n"
     ]
    }
   ],
   "source": [
    "# assignment operetor [ \"-=\" , \"+=\" , '*=']\n",
    "x=66\n",
    "print(x)\n",
    "x+=2\n",
    "print(x)\n",
    "x-=2\n",
    "print(x)"
   ]
  },
  {
   "cell_type": "code",
   "execution_count": 76,
   "id": "e045ce9b",
   "metadata": {},
   "outputs": [
    {
     "name": "stdout",
     "output_type": "stream",
     "text": [
      "10\n",
      "20\n",
      "40\n"
     ]
    }
   ],
   "source": [
    "a,b,c = 10 , 20, 40\n",
    "print(a)\n",
    "print(b)\n",
    "print(c)"
   ]
  },
  {
   "cell_type": "code",
   "execution_count": 79,
   "id": "455386c4",
   "metadata": {},
   "outputs": [
    {
     "name": "stdout",
     "output_type": "stream",
     "text": [
      "10\n",
      "20\n",
      "After value swwping \n",
      "20\n",
      "10\n"
     ]
    }
   ],
   "source": [
    "# swaping varible\n",
    "a=10\n",
    "b=20\n",
    "print(a)\n",
    "print(b)\n",
    "a,b = b,a\n",
    "print(\"After value swwping \")\n",
    "print(a)\n",
    "print(b)"
   ]
  },
  {
   "cell_type": "code",
   "execution_count": 86,
   "id": "da886930",
   "metadata": {},
   "outputs": [
    {
     "name": "stdout",
     "output_type": "stream",
     "text": [
      "Enter You Number :24154\n",
      "After removing last digit : 2415\n"
     ]
    }
   ],
   "source": [
    "# Task \n",
    "# 1) write a program to remove the last digit from a giving number ?\n",
    "\n",
    "x=int(input(\"Enter You Number :\"))\n",
    "print(\"After removing last digit :\",(x//10))\n",
    "\n"
   ]
  },
  {
   "cell_type": "code",
   "execution_count": 87,
   "id": "9b16388e",
   "metadata": {},
   "outputs": [
    {
     "name": "stdout",
     "output_type": "stream",
     "text": [
      "Enter You Number :44524\n",
      "Last Digit of a Number 4\n"
     ]
    }
   ],
   "source": [
    "# Task\n",
    "# 2) write a program to get last digit from a given number ?\n",
    "\n",
    "x=int(input(\"Enter You Number :\"))\n",
    "print(\"Last Digit of a Number\",x%10)\n"
   ]
  },
  {
   "cell_type": "code",
   "execution_count": 2,
   "id": "a3070608",
   "metadata": {},
   "outputs": [
    {
     "name": "stdout",
     "output_type": "stream",
     "text": [
      "Enter You Number :988\n",
      "First Digit is : 9\n"
     ]
    }
   ],
   "source": [
    "# Task\n",
    "# 3) wrie  a program which takes a three number from the user and display only its first digit ?\n",
    "\n",
    "x=int(input(\"Enter You Number :\"))\n",
    "print(\"First Digit is :\",x//100)\n",
    "    \n",
    "\n",
    "\n"
   ]
  },
  {
   "cell_type": "code",
   "execution_count": 33,
   "id": "5e20d923",
   "metadata": {},
   "outputs": [
    {
     "name": "stdout",
     "output_type": "stream",
     "text": [
      "Enter You Number :456\n",
      "The middle digit is  5\n",
      "\n",
      "Enter You Number :456\n",
      "5\n"
     ]
    }
   ],
   "source": [
    "# Task\n",
    "# 4) write  a program which takes thre digit number from thr user and display only middle digit ?\n",
    "\n",
    "x=int(input(\"Enter You Number :\"))\n",
    "y=x//10\n",
    "print(\"The middle digit is \",y%10)\n",
    "print()\n",
    "\n",
    "# This programe is also solve From This Kind.\n",
    "\n",
    "A=int(input(\"Enter You Number :\"))\n",
    "print((x//10)%10)"
   ]
  },
  {
   "cell_type": "code",
   "execution_count": 34,
   "id": "4ca6d652",
   "metadata": {},
   "outputs": [
    {
     "name": "stdout",
     "output_type": "stream",
     "text": [
      "Enter First value  :10\n",
      "Enter Second value  :20\n",
      "After swaping value of X variable : 20\n",
      "After swaping value of Y variable : 10\n",
      "\n",
      "Enter First value  :10\n",
      "Enter Second value  :20\n",
      "After swaping value of X variable : 20\n",
      "After swaping value of Y variable : 10\n"
     ]
    }
   ],
   "source": [
    "# Task\n",
    "# 5) write a program to swap a data of two varibles ?\n",
    "\n",
    "x=int(input(\"Enter First value  :\"))\n",
    "y=int(input(\"Enter Second value  :\"))\n",
    "Temp=x\n",
    "x=y\n",
    "y=Temp\n",
    "print(\"After swaping value of X variable :\",x)\n",
    "print(\"After swaping value of Y variable :\",y)\n",
    "print()\n",
    "\n",
    "# This program is also solve From This kind.\n",
    "\n",
    "a=int(input(\"Enter First value  :\"))\n",
    "b=int(input(\"Enter Second value  :\"))\n",
    "a=a+b\n",
    "\n",
    "b=a-b\n",
    "a=a-b\n",
    "print(\"After swaping value of X variable :\",a)\n",
    "print(\"After swaping value of Y variable :\",b)\n"
   ]
  },
  {
   "cell_type": "code",
   "execution_count": 30,
   "id": "16551a8f",
   "metadata": {},
   "outputs": [
    {
     "name": "stdout",
     "output_type": "stream",
     "text": [
      " ANKUSH \n",
      " ANKUSH \n",
      " ANKUSH \n",
      " ANKUSH \n",
      "\n",
      " ANKUSH  ANKUSH \n",
      " ANKUSH  ANKUSH \n",
      " ANKUSH  ANKUSH \n",
      " ANKUSH  ANKUSH \n",
      "\n",
      " ANKUSH  ANKUSH  ANKUSH \n",
      " ANKUSH  ANKUSH  ANKUSH \n",
      " ANKUSH  ANKUSH  ANKUSH \n",
      " ANKUSH  ANKUSH  ANKUSH \n",
      "\n",
      " ANKUSH  ANKUSH  ANKUSH  ANKUSH \n",
      " ANKUSH  ANKUSH  ANKUSH  ANKUSH \n",
      " ANKUSH  ANKUSH  ANKUSH  ANKUSH \n",
      " ANKUSH  ANKUSH  ANKUSH  ANKUSH \n",
      "\n"
     ]
    }
   ],
   "source": [
    "for i in range(1,5):\n",
    "    for j in range(1,5):\n",
    "        print(\" ANKUSH \" * i)\n",
    "    print()"
   ]
  },
  {
   "cell_type": "code",
   "execution_count": 31,
   "id": "008ba078",
   "metadata": {},
   "outputs": [
    {
     "name": "stdout",
     "output_type": "stream",
     "text": [
      " ANKUSH \n",
      " ANKUSH  ANKUSH \n",
      " ANKUSH  ANKUSH  ANKUSH \n",
      " ANKUSH  ANKUSH  ANKUSH  ANKUSH \n",
      "\n",
      " ANKUSH \n",
      " ANKUSH  ANKUSH \n",
      " ANKUSH  ANKUSH  ANKUSH \n",
      " ANKUSH  ANKUSH  ANKUSH  ANKUSH \n",
      "\n",
      " ANKUSH \n",
      " ANKUSH  ANKUSH \n",
      " ANKUSH  ANKUSH  ANKUSH \n",
      " ANKUSH  ANKUSH  ANKUSH  ANKUSH \n",
      "\n",
      " ANKUSH \n",
      " ANKUSH  ANKUSH \n",
      " ANKUSH  ANKUSH  ANKUSH \n",
      " ANKUSH  ANKUSH  ANKUSH  ANKUSH \n",
      "\n"
     ]
    }
   ],
   "source": [
    "for i in range(1,5):\n",
    "    for j in range(1,5):\n",
    "        print(\" ANKUSH \" * j)\n",
    "    print()"
   ]
  },
  {
   "cell_type": "code",
   "execution_count": 38,
   "id": "8c9f3b4d",
   "metadata": {},
   "outputs": [
    {
     "name": "stdout",
     "output_type": "stream",
     "text": [
      "4\n",
      "5\n"
     ]
    }
   ],
   "source": [
    "# Bitwise operator\n",
    "\n",
    "print(4 & 5)    # 4 and 5 convert into binary[(100 & 101)=100] The answer\n",
    "                    # is binary 100 than convert into Simple Number it that's (4)\n",
    "\n",
    "print(4 | 5)    # 4 and 5 convert into binary[(100 & 101)=101] The answer\n",
    "                      # is binary 101 than convert into Simple Number it that's (5)\n"
   ]
  },
  {
   "cell_type": "code",
   "execution_count": 40,
   "id": "44f68ef7",
   "metadata": {},
   "outputs": [
    {
     "name": "stdout",
     "output_type": "stream",
     "text": [
      "140736400036776\n",
      "140736400036776\n"
     ]
    },
    {
     "data": {
      "text/plain": [
       "True"
      ]
     },
     "execution_count": 40,
     "metadata": {},
     "output_type": "execute_result"
    }
   ],
   "source": [
    "# identity operator\n",
    "\n",
    "a=5\n",
    "b=5\n",
    "print(id(a))\n",
    "print(id(b))\n",
    "a is b"
   ]
  },
  {
   "cell_type": "code",
   "execution_count": 41,
   "id": "1ca1d91c",
   "metadata": {},
   "outputs": [
    {
     "name": "stdout",
     "output_type": "stream",
     "text": [
      "140736400036776\n",
      "140736400036808\n"
     ]
    },
    {
     "data": {
      "text/plain": [
       "False"
      ]
     },
     "execution_count": 41,
     "metadata": {},
     "output_type": "execute_result"
    }
   ],
   "source": [
    "# identity operator\n",
    "\n",
    "a=5\n",
    "b=6\n",
    "print(id(a))\n",
    "print(id(b))\n",
    "a is b"
   ]
  },
  {
   "cell_type": "code",
   "execution_count": 43,
   "id": "35a41af1",
   "metadata": {},
   "outputs": [
    {
     "name": "stdout",
     "output_type": "stream",
     "text": [
      "[10, 20, 'Ankush', 'Gupta']\n",
      "1775359294848\n",
      "\n",
      "[10, 20, 'Ankush', 'Gupta']\n",
      "1775359130176\n",
      "\n"
     ]
    },
    {
     "data": {
      "text/plain": [
       "False"
      ]
     },
     "execution_count": 43,
     "metadata": {},
     "output_type": "execute_result"
    }
   ],
   "source": [
    "a=[10,20,\"Ankush\",\"Gupta\"]  # on  List\n",
    "b=[10,20,\"Ankush\",\"Gupta\"]\n",
    "print(a)\n",
    "print(id(a))\n",
    "print()\n",
    "print(b)\n",
    "print(id(b))\n",
    "print()\n",
    "a is b"
   ]
  },
  {
   "cell_type": "code",
   "execution_count": 44,
   "id": "05e41e0f",
   "metadata": {},
   "outputs": [
    {
     "name": "stdout",
     "output_type": "stream",
     "text": [
      "Ankush\n",
      "Ankush\n"
     ]
    },
    {
     "data": {
      "text/plain": [
       "True"
      ]
     },
     "execution_count": 44,
     "metadata": {},
     "output_type": "execute_result"
    }
   ],
   "source": [
    "# on string apply identity opeerator\n",
    "a=\"Ankush\"\n",
    "b=\"Ankush\"\n",
    "print(a)\n",
    "print(b)\n",
    "a is b\n"
   ]
  },
  {
   "cell_type": "code",
   "execution_count": 45,
   "id": "6d9a99e1",
   "metadata": {},
   "outputs": [
    {
     "name": "stdout",
     "output_type": "stream",
     "text": [
      "(10, 20, 'Ankush', 'Gupta')\n",
      "1775359313936\n",
      "\n",
      "(10, 20, 'Ankush', 'Gupta')\n",
      "1775359315616\n",
      "\n"
     ]
    },
    {
     "data": {
      "text/plain": [
       "False"
      ]
     },
     "execution_count": 45,
     "metadata": {},
     "output_type": "execute_result"
    }
   ],
   "source": [
    "# on Touple\n",
    "a=(10,20,\"Ankush\",\"Gupta\")  \n",
    "b=(10,20,\"Ankush\",\"Gupta\")\n",
    "print(a)\n",
    "print(id(a))\n",
    "print()\n",
    "print(b)\n",
    "print(id(b))\n",
    "print()\n",
    "a is b"
   ]
  },
  {
   "cell_type": "code",
   "execution_count": 48,
   "id": "685beed5",
   "metadata": {},
   "outputs": [
    {
     "name": "stdout",
     "output_type": "stream",
     "text": [
      "True\n",
      "True\n",
      "False\n"
     ]
    }
   ],
   "source": [
    "# in operator\n",
    "\n",
    "print(\"G\" in \"Ankush Gupta\")\n",
    "print(\"A\" in \"Ankush Gupta\")\n",
    "print(\"B\" in \"Ankush Gupta\")"
   ]
  },
  {
   "cell_type": "code",
   "execution_count": 49,
   "id": "b18d35b4",
   "metadata": {},
   "outputs": [
    {
     "name": "stdout",
     "output_type": "stream",
     "text": [
      "A\n",
      "n\n",
      "k\n",
      "u\n",
      "s\n",
      "h\n",
      " \n",
      "G\n",
      "u\n",
      "p\n",
      "t\n",
      "a\n"
     ]
    }
   ],
   "source": [
    "for i in \"Ankush Gupta\":\n",
    "    print(i)"
   ]
  },
  {
   "cell_type": "code",
   "execution_count": 53,
   "id": "f2aada56",
   "metadata": {},
   "outputs": [
    {
     "name": "stdout",
     "output_type": "stream",
     "text": [
      "Enter your stringgdtygcpy\n",
      "True\n"
     ]
    }
   ],
   "source": [
    "# 1) Write a program to print true if the string entered by the user is contening 'py'.\n",
    "\n",
    "str=input(\"Enter your string\")\n",
    "print(\"py\" in str)"
   ]
  },
  {
   "cell_type": "code",
   "execution_count": 61,
   "id": "308b547d",
   "metadata": {},
   "outputs": [
    {
     "name": "stdout",
     "output_type": "stream",
     "text": [
      "Enter your First string :ankushgupta\n",
      "Enter your second string :ankushgupta\n",
      "False\n",
      "YES\n"
     ]
    }
   ],
   "source": [
    "# 2) write a program to input two string from user and display whether the two variables are same or not.\n",
    "\n",
    "str1=input(\"Enter your First string :\")\n",
    "str2=input(\"Enter your second string :\")\n",
    "print(str1 is str2)\n",
    "if(str1 in str2):\n",
    "    print(\"YES\")"
   ]
  },
  {
   "cell_type": "code",
   "execution_count": 63,
   "id": "14996f62",
   "metadata": {},
   "outputs": [
    {
     "name": "stdout",
     "output_type": "stream",
     "text": [
      "Enter First value :10\n",
      "Enter second value :20\n",
      "Enter Third value :30\n",
      "Enter Forth value :40\n",
      "Enter Five value :50\n",
      "All value is : 10 20 30 40 50\n"
     ]
    }
   ],
   "source": [
    "# 3) write a program to input five integer from the users integers and execute this expresion\n",
    "#                crossponding to the number entered by the users check the output ?\n",
    "a=int(input(\"Enter First value :\"))\n",
    "b=int(input(\"Enter second value :\"))\n",
    "c=int(input(\"Enter Third value :\"))\n",
    "d=int(input(\"Enter Forth value :\"))\n",
    "e=int(input(\"Enter Five value :\"))\n",
    "print(\"All value is :\",a,b,c,d,e)"
   ]
  },
  {
   "cell_type": "code",
   "execution_count": null,
   "id": "f137b514",
   "metadata": {},
   "outputs": [],
   "source": []
  }
 ],
 "metadata": {
  "kernelspec": {
   "display_name": "Python 3 (ipykernel)",
   "language": "python",
   "name": "python3"
  },
  "language_info": {
   "codemirror_mode": {
    "name": "ipython",
    "version": 3
   },
   "file_extension": ".py",
   "mimetype": "text/x-python",
   "name": "python",
   "nbconvert_exporter": "python",
   "pygments_lexer": "ipython3",
   "version": "3.11.3"
  }
 },
 "nbformat": 4,
 "nbformat_minor": 5
}
