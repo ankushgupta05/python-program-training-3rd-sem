{
 "cells": [
  {
   "cell_type": "markdown",
   "id": "e650cf3c",
   "metadata": {},
   "source": [
    "# Global and Globle variable"
   ]
  },
  {
   "cell_type": "code",
   "execution_count": 2,
   "id": "946df403",
   "metadata": {},
   "outputs": [
    {
     "name": "stdout",
     "output_type": "stream",
     "text": [
      "Fuction 1 100\n",
      "Fuction 2 100\n",
      "Fuction 3 100\n"
     ]
    }
   ],
   "source": [
    "#  Locle variable \n",
    "\n",
    "a=100  \n",
    "\n",
    "def f1():\n",
    "    print(\"Fuction 1\",a)\n",
    "    \n",
    "    \n",
    "def f2():\n",
    "    print(\"Fuction 2\",a)\n",
    "    \n",
    "def f3():\n",
    "    print(\"Fuction 3\",a)\n",
    "\n",
    "    \n",
    "f1()\n",
    "f2()\n",
    "f3()"
   ]
  },
  {
   "cell_type": "code",
   "execution_count": 3,
   "id": "a19ce27d",
   "metadata": {},
   "outputs": [
    {
     "name": "stdout",
     "output_type": "stream",
     "text": [
      "Fuction 1 100\n",
      "Fuction 2 55\n",
      "Fuction 3 100\n"
     ]
    }
   ],
   "source": [
    "#  globle varible [ FUCTION GIVE Priority OF GLOBLE VARIABKE ]   \n",
    "\n",
    "a=100  \n",
    "\n",
    "def f1():\n",
    "    print(\"Fuction 1\",a)\n",
    "    \n",
    "    \n",
    "def f2():\n",
    "    a=55           # This value is limited in this Fuction [ Local value ]\n",
    "    print(\"Fuction 2\",a)\n",
    "    \n",
    "def f3():\n",
    "    print(\"Fuction 3\",a)\n",
    "\n",
    "    \n",
    "f1()\n",
    "f2()\n",
    "f3()"
   ]
  },
  {
   "cell_type": "code",
   "execution_count": 4,
   "id": "f010b197",
   "metadata": {},
   "outputs": [
    {
     "name": "stdout",
     "output_type": "stream",
     "text": [
      "Fuction 2 555\n",
      "Fuction 3 100\n"
     ]
    }
   ],
   "source": [
    "# Local and globle variable \n",
    "\n",
    "\n",
    "a=100  # Globle value \n",
    "\n",
    "def f2():\n",
    "    a=555   # Local variable\n",
    "    print(\"Fuction 2\",a)\n",
    "    \n",
    "def f3():\n",
    "    print(\"Fuction 3\",a)\n",
    "\n",
    "\n",
    "f2()\n",
    "f3()"
   ]
  },
  {
   "cell_type": "code",
   "execution_count": 9,
   "id": "d678d8ea",
   "metadata": {},
   "outputs": [
    {
     "name": "stdout",
     "output_type": "stream",
     "text": [
      "Fuction 2 555\n",
      "Fuction 3 555\n"
     ]
    }
   ],
   "source": [
    "# keyword of globle inside Fuction \n",
    "\n",
    " \n",
    "\n",
    "def f2():\n",
    "    \n",
    "  #  global a=555 [ we can not defind this type ] \n",
    "\n",
    "\n",
    "    global a   # [ value of a variable can be use in all Fuction Bcz use of global keyword ]\n",
    "    a=555\n",
    "    print(\"Fuction 2\",a)\n",
    "    \n",
    "def f3():\n",
    "    print(\"Fuction 3\",a)\n",
    "\n",
    "\n",
    "f2()\n",
    "f3()"
   ]
  },
  {
   "cell_type": "code",
   "execution_count": 13,
   "id": "79572cea",
   "metadata": {},
   "outputs": [
    {
     "name": "stdout",
     "output_type": "stream",
     "text": [
      "Fuction 2 555\n",
      "Fuction 3 :Local variable  100\n"
     ]
    }
   ],
   "source": [
    "# make Local variable instead of available globle varible ?\n",
    "\n",
    "def f2():\n",
    "    \n",
    "    global a   # [ value of a variable can be use in all Fuction Bcz use of global keyword ]\n",
    "    a=555\n",
    "    print(\"Fuction 2\",a)\n",
    "    \n",
    "def f3():\n",
    "    a=100\n",
    "    print(\"Fuction 3 :Local variable \",a)\n",
    "\n",
    "    \n",
    "f2()\n",
    "f3()"
   ]
  },
  {
   "cell_type": "code",
   "execution_count": 14,
   "id": "d28480cc",
   "metadata": {},
   "outputs": [
    {
     "name": "stdout",
     "output_type": "stream",
     "text": [
      "Fuction 2 555\n",
      "Fuction 3 :Local variable   100\n",
      "Fuction 3 :Global varible   555\n"
     ]
    }
   ],
   "source": [
    "# after defind Local variable axies of Global variable  ? \n",
    "\n",
    "def f2():\n",
    "    \n",
    "    global a   # [ value of a variable can be use in all Fuction Bcz use of global keyword ]\n",
    "    a=555\n",
    "    print(\"Fuction 2\",a)\n",
    "    \n",
    "def f3():\n",
    "    a=100\n",
    "    print(\"Fuction 3 :Local variable  \",a)\n",
    "    print(\"Fuction 3 :Global varible  \",globals()[\"a\"])  # this type can be axies global variable \n",
    "\n",
    "    \n",
    "f2()\n",
    "f3()"
   ]
  },
  {
   "cell_type": "code",
   "execution_count": 15,
   "id": "1d38507c",
   "metadata": {},
   "outputs": [
    {
     "name": "stdout",
     "output_type": "stream",
     "text": [
      "Fuction 2 555\n",
      "Fuction 3 :Local variable   100\n",
      "Fuction 3 :Global varible   555\n",
      "Funtion 3 :  8888\n"
     ]
    }
   ],
   "source": [
    "# after defind Local variable axies of Global variable and modify global values   ? \n",
    "\n",
    "def f2():\n",
    "    \n",
    "    global a   # [ value of a variable can be use in all Fuction Bcz use of global keyword ]\n",
    "    a=555\n",
    "    print(\"Fuction 2\",a)\n",
    "    \n",
    "def f3():\n",
    "    a=100   # Local value use only this Fuction \n",
    "    print(\"Fuction 3 :Local variable  \",a)\n",
    "    print(\"Fuction 3 :Global varible  \",globals()[\"a\"]) \n",
    "    globals()[\"a\"]=8888    # globle variable change this type [ this value will be use in all Fuction ]\n",
    "    print(\"Funtion 3 : \",globals()[\"a\"])\n",
    "\n",
    "    \n",
    "f2()\n",
    "f3()"
   ]
  },
  {
   "cell_type": "code",
   "execution_count": 18,
   "id": "300299f2",
   "metadata": {},
   "outputs": [
    {
     "name": "stdout",
     "output_type": "stream",
     "text": [
      "Fuction 3 :Local variable   444\n",
      "Fuction 3: Global value 777\n",
      "Fuction 2 222\n",
      "222\n"
     ]
    }
   ],
   "source": [
    "# after defind Local variable axies of Global variable and modify global values   ? \n",
    "\n",
    "\n",
    "def f2():\n",
    "    \n",
    "    global a   # [ value of a variable can be use in all Fuction Bcz use of global keyword ]\n",
    "    a=222\n",
    "    print(\"Fuction 2\",a)\n",
    "    \n",
    "def f3():\n",
    "    a=444   # Local value use only this Fuction\n",
    "    globals()[\"a\"]=777\n",
    "    print(\"Fuction 3 :Local variable  \",a)\n",
    "    print(\"Fuction 3: Global value\",globals()[\"a\"])\n",
    "    \n",
    "\n",
    "    \n",
    "    \n",
    "f3()\n",
    "f2()\n",
    "print(a)"
   ]
  },
  {
   "cell_type": "code",
   "execution_count": 19,
   "id": "08a9b833",
   "metadata": {},
   "outputs": [
    {
     "name": "stdout",
     "output_type": "stream",
     "text": [
      "Fuction 2 222\n",
      "Fuction 3 :Local variable   444\n",
      "Fuction 3: Global value 777\n",
      "777\n"
     ]
    }
   ],
   "source": [
    "# after defind Local variable axies of Global variable and modify global values   ? \n",
    "\n",
    "\n",
    "def f2():\n",
    "    \n",
    "    global a   # [ value of a variable can be use in all Fuction Bcz use of global keyword ]\n",
    "    a=222\n",
    "    print(\"Fuction 2\",a)\n",
    "    \n",
    "def f3():\n",
    "    a=444   # Local value use only this Fuction\n",
    "    globals()[\"a\"]=777\n",
    "    print(\"Fuction 3 :Local variable  \",a)\n",
    "    print(\"Fuction 3: Global value\",globals()[\"a\"])\n",
    "    \n",
    "\n",
    "    \n",
    "    \n",
    "f2()\n",
    "f3()\n",
    "print(a)"
   ]
  },
  {
   "cell_type": "markdown",
   "id": "896c0170",
   "metadata": {},
   "source": [
    "# lambda / Anonymous Function "
   ]
  },
  {
   "cell_type": "code",
   "execution_count": 26,
   "id": "a08d1928",
   "metadata": {},
   "outputs": [
    {
     "name": "stdout",
     "output_type": "stream",
     "text": [
      "49\n"
     ]
    }
   ],
   "source": [
    "# This is a long way to defind Function ?\n",
    "\n",
    "\n",
    "def square(n):   \n",
    "    return n*n\n",
    "\n",
    "print(square(7))"
   ]
  },
  {
   "cell_type": "code",
   "execution_count": 30,
   "id": "a73835a8",
   "metadata": {},
   "outputs": [
    {
     "data": {
      "text/plain": [
       "49"
      ]
     },
     "execution_count": 30,
     "metadata": {},
     "output_type": "execute_result"
    }
   ],
   "source": [
    "\n",
    "# short way to defind function [ called lambda fuction ]\n",
    "\n",
    "\n",
    "( lambda n:n*n)(7)  # [(lambda n:n*n)] is a function defind and [(7)] is a callind from the Fuction \n"
   ]
  },
  {
   "cell_type": "code",
   "execution_count": 32,
   "id": "69501217",
   "metadata": {},
   "outputs": [
    {
     "data": {
      "text/plain": [
       "40"
      ]
     },
     "execution_count": 32,
     "metadata": {},
     "output_type": "execute_result"
    }
   ],
   "source": [
    "(lambda a,b,c:a+b+c) (20,10,10)  # addition of throught  lambda way "
   ]
  },
  {
   "cell_type": "code",
   "execution_count": 33,
   "id": "016b64d8",
   "metadata": {},
   "outputs": [
    {
     "data": {
      "text/plain": [
       "44"
      ]
     },
     "execution_count": 33,
     "metadata": {},
     "output_type": "execute_result"
    }
   ],
   "source": [
    "# also use if else ?\n",
    "\n",
    "(lambda a,b: a if a>b else b)(6,44)\n"
   ]
  },
  {
   "cell_type": "code",
   "execution_count": 35,
   "id": "a92eabc7",
   "metadata": {},
   "outputs": [
    {
     "data": {
      "text/plain": [
       "88"
      ]
     },
     "execution_count": 35,
     "metadata": {},
     "output_type": "execute_result"
    }
   ],
   "source": [
    "# we can store lambda Function to another variable\n",
    "\n",
    "\n",
    "a=lambda a,b: a if a>b else b\n",
    "a(5,88)\n"
   ]
  },
  {
   "cell_type": "code",
   "execution_count": null,
   "id": "f9d5a1fc",
   "metadata": {},
   "outputs": [],
   "source": [
    "# variable lenght of argument also work on lambda function ?\n",
    "\n",
    "(lambda *t :)"
   ]
  },
  {
   "cell_type": "code",
   "execution_count": 37,
   "id": "3e4e6af3",
   "metadata": {},
   "outputs": [
    {
     "name": "stdout",
     "output_type": "stream",
     "text": [
      "(1, 4, 3, 5, 6, 7)\n"
     ]
    }
   ],
   "source": [
    "# variable lenght of argument also work on lambda function ?\n",
    "\n",
    "x=lambda *t :print(t)\n",
    "(x)(1,4,3,5,6,7)\n"
   ]
  },
  {
   "cell_type": "code",
   "execution_count": 47,
   "id": "63814e42",
   "metadata": {},
   "outputs": [
    {
     "name": "stdout",
     "output_type": "stream",
     "text": [
      "([2, 5, 4, 8, 7],)\n",
      "(2, 5, 4, 8, 7)\n"
     ]
    }
   ],
   "source": [
    "# variable lenght of argument also work on lambda function ?\n",
    "\n",
    "x=lambda *t :print(t)\n",
    "lst=[2,5,4,8,7]\n",
    "(x)(lst)  # call in all value by one index\n",
    "(x)(*lst)  # call in all value by indivisually"
   ]
  },
  {
   "cell_type": "code",
   "execution_count": 73,
   "id": "744dcb3a",
   "metadata": {},
   "outputs": [
    {
     "data": {
      "text/plain": [
       "8"
      ]
     },
     "execution_count": 73,
     "metadata": {},
     "output_type": "execute_result"
    }
   ],
   "source": [
    "# find even nuber by lambda fuction ?\n",
    "\n",
    "(lambda x: x if x%2==0 else print(\"number is odd \"))(8)"
   ]
  },
  {
   "cell_type": "code",
   "execution_count": 74,
   "id": "2c6f0f24",
   "metadata": {},
   "outputs": [
    {
     "name": "stdout",
     "output_type": "stream",
     "text": [
      "number is odd \n"
     ]
    }
   ],
   "source": [
    "# find even nuber by lambda fuction ?\n",
    "\n",
    "(lambda x: x if x%2==0 else print(\"number is odd \"))(9)"
   ]
  },
  {
   "cell_type": "code",
   "execution_count": 75,
   "id": "bb501fc4",
   "metadata": {},
   "outputs": [
    {
     "data": {
      "text/plain": [
       "[2, 4, 6, 8, 10]"
      ]
     },
     "execution_count": 75,
     "metadata": {},
     "output_type": "execute_result"
    }
   ],
   "source": [
    "# find even nuber by lambda fuction ?\n",
    "\n",
    "l=[1,2,3,4,5,6,7,8,9,10]\n",
    "(lambda *x:[i for i in x if i%2==0])(*l)    # {[ i (output) \" Give output \" ] } , { [for i in x ] \" its for loop\"  }"
   ]
  },
  {
   "cell_type": "code",
   "execution_count": 83,
   "id": "71f7fdb4",
   "metadata": {},
   "outputs": [
    {
     "name": "stdout",
     "output_type": "stream",
     "text": [
      "10\n",
      "Area of circle : 314.1592653589793\n",
      "10\n",
      "Area of circle : 314.57\n"
     ]
    }
   ],
   "source": [
    "# write a lambda function to calculet area of circle ?\n",
    "\n",
    "import math\n",
    "r=int(input())\n",
    "(lambda r,pi:print(\"Area of circle :\",r*r*pi))(r,math.pi)\n",
    "\n",
    "# solve By Default argument ?\n",
    "\n",
    "r=int(input())\n",
    "(lambda r,pi=3.1457 :print(\"Area of circle :\",r*r*pi))(r)"
   ]
  },
  {
   "cell_type": "code",
   "execution_count": 37,
   "id": "6ece6374",
   "metadata": {},
   "outputs": [
    {
     "name": "stdout",
     "output_type": "stream",
     "text": [
      " Enter a Number :10 15\n",
      "The Hcf of Two number  : 5\n"
     ]
    }
   ],
   "source": [
    "# write a function to find Hcf of Two number ?\n",
    "\n",
    "\n",
    "t=input(\" Enter a Number :\").split()\n",
    "a,b=t\n",
    "a=int(a)\n",
    "b=int(b)\n",
    "\n",
    "l=(lambda a,b:[ i for i in range(1,a*b) if (a%i==0 and b%i==0) ])(a,b)\n",
    "print(\"The Hcf of Two number  :\",max(l))\n"
   ]
  },
  {
   "cell_type": "code",
   "execution_count": 45,
   "id": "50988a43",
   "metadata": {},
   "outputs": [
    {
     "name": "stdout",
     "output_type": "stream",
     "text": [
      "Enter a string  :I am Ankush Gupta\n",
      "The maximum word is present in string : 4\n"
     ]
    }
   ],
   "source": [
    "# write a Function to count words in a Given Text ?\n",
    "str1=input(\"Enter a string  :\").split(\" \")\n",
    "(lambda str1:print(\"The maximum word is present in string :\",len(str1))) (str1)"
   ]
  }
 ],
 "metadata": {
  "kernelspec": {
   "display_name": "Python 3 (ipykernel)",
   "language": "python",
   "name": "python3"
  },
  "language_info": {
   "codemirror_mode": {
    "name": "ipython",
    "version": 3
   },
   "file_extension": ".py",
   "mimetype": "text/x-python",
   "name": "python",
   "nbconvert_exporter": "python",
   "pygments_lexer": "ipython3",
   "version": "3.11.3"
  }
 },
 "nbformat": 4,
 "nbformat_minor": 5
}
