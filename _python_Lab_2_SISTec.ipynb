{
 "cells": [
  {
   "cell_type": "markdown",
   "id": "773934ee",
   "metadata": {},
   "source": [
    "# Recursion"
   ]
  },
  {
   "cell_type": "code",
   "execution_count": 75,
   "id": "54275e97",
   "metadata": {},
   "outputs": [
    {
     "name": "stdout",
     "output_type": "stream",
     "text": [
      "12\n",
      "[1, 2, 3, 4, 6, 12]\n"
     ]
    }
   ],
   "source": [
    "n=int(input())\n",
    "l=[]\n",
    "(lambda x: [ l.append(i) for i in range(1,x+1) if x%i==0])(n)\n",
    "print(l)"
   ]
  },
  {
   "cell_type": "code",
   "execution_count": 14,
   "id": "b96af666",
   "metadata": {},
   "outputs": [
    {
     "name": "stdout",
     "output_type": "stream",
     "text": [
      "Enter a number :10\n",
      "1 2 3 4 5 6 7 8 9 10 \n",
      "Enter a number :10\n",
      "0 1 2 3 4 5 6 7 8 9 10 "
     ]
    }
   ],
   "source": [
    "# write a program to print n natural number in incresing order by using recursion ?\n",
    "\n",
    "def natural_num(n):\n",
    "    if n>0:\n",
    "        natural_num(n-1)\n",
    "        print(n,end=\" \")\n",
    "    \n",
    "n=int(input(\"Enter a number :\"))\n",
    "natural_num(n)\n",
    "\n",
    "# second way to print n natural number ?\n",
    "print()\n",
    "\n",
    "def natural_num(n):\n",
    "    if n>0:\n",
    "        natural_num(n-1)\n",
    "    print(n,end=\" \")\n",
    "    \n",
    "n=int(input(\"Enter a number :\"))\n",
    "natural_num(n)"
   ]
  },
  {
   "cell_type": "code",
   "execution_count": 15,
   "id": "be16c10e",
   "metadata": {},
   "outputs": [
    {
     "name": "stdout",
     "output_type": "stream",
     "text": [
      "Enter a number :10\n",
      "10 9 8 7 6 5 4 3 2 1 "
     ]
    }
   ],
   "source": [
    "# write a program to print n natural number in reverse order by using recursion ?\n",
    "\n",
    "def natural_num(n):\n",
    "    if n>0:\n",
    "        print(n,end=\" \")\n",
    "        natural_num(n-1)\n",
    "    \n",
    "n=int(input(\"Enter a number :\"))\n",
    "natural_num(n)\n"
   ]
  },
  {
   "cell_type": "code",
   "execution_count": 19,
   "id": "735fdc71",
   "metadata": {},
   "outputs": [
    {
     "name": "stdout",
     "output_type": "stream",
     "text": [
      "Enter a number :10\n",
      "1 3 5 7 9 11 13 15 17 19 "
     ]
    }
   ],
   "source": [
    "# write a program to print n odd number in incresing order by using recursion ?\n",
    "\n",
    "def natural_num(n):\n",
    "    if n>0:\n",
    "        natural_num(n-1)\n",
    "        print(2*n-1,end=\" \")\n",
    "        \n",
    "    \n",
    "n=int(input(\"Enter a number :\"))\n",
    "natural_num(n)\n",
    "\n"
   ]
  },
  {
   "cell_type": "code",
   "execution_count": 17,
   "id": "50e3a5c0",
   "metadata": {},
   "outputs": [
    {
     "name": "stdout",
     "output_type": "stream",
     "text": [
      "Enter a number :10\n",
      "19 17 15 13 11 9 7 5 3 1 "
     ]
    }
   ],
   "source": [
    "# write a program to print n odd number in incresing order by using recursion ?\n",
    "\n",
    "def natural_num(n):\n",
    "    if n>0:\n",
    "        print(2*n-1,end=\" \")\n",
    "        natural_num(n-1)\n",
    "        \n",
    "    \n",
    "n=int(input(\"Enter a number :\"))\n",
    "natural_num(n)\n"
   ]
  },
  {
   "cell_type": "code",
   "execution_count": 21,
   "id": "71691a60",
   "metadata": {},
   "outputs": [
    {
     "name": "stdout",
     "output_type": "stream",
     "text": [
      "Enter a number :10\n",
      "1 4 9 16 25 36 49 64 81 100 "
     ]
    }
   ],
   "source": [
    "# write a program to print squar of n natural number by using recursion ?\n",
    "\n",
    "def squar(n):\n",
    "    if n>0:\n",
    "        squar(n-1)\n",
    "        print(n*n,end=\" \")\n",
    "    \n",
    "    \n",
    "    \n",
    "    \n",
    "n=int(input(\"Enter a number :\"))\n",
    "squar(n)\n"
   ]
  },
  {
   "cell_type": "code",
   "execution_count": 18,
   "id": "fd1b73f0",
   "metadata": {},
   "outputs": [
    {
     "name": "stdout",
     "output_type": "stream",
     "text": [
      "Enter a number :1235\n",
      "5321"
     ]
    }
   ],
   "source": [
    "# write a program to print revers of a single interger by using recursion ?\n",
    "\n",
    "def revers_num(n):\n",
    "    if len(n)-1>=0:\n",
    "        print(n[-1],end=\"\")\n",
    "        revers_num(n[:-1])\n",
    "        \n",
    "\n",
    "\n",
    "n=input(\"Enter a number :\")\n",
    "revers_num(n)"
   ]
  },
  {
   "cell_type": "code",
   "execution_count": 19,
   "id": "b47079d3",
   "metadata": {},
   "outputs": [
    {
     "name": "stdout",
     "output_type": "stream",
     "text": [
      "Enter a number :12345\n",
      "543211\n",
      "12\n",
      "123\n",
      "1234\n",
      "12345\n"
     ]
    }
   ],
   "source": [
    "# write a program to print revers of a single interger by using recursion ?\n",
    "\n",
    "def revers_num(n):\n",
    "    if len(n)-1>=0:\n",
    "        print(n[-1],end=\"\")\n",
    "        revers_num(n[:-1])\n",
    "        print(n[:])\n",
    "        \n",
    "\n",
    "\n",
    "n=input(\"Enter a number :\")\n",
    "revers_num(n)"
   ]
  },
  {
   "cell_type": "code",
   "execution_count": 25,
   "id": "b340a6b1",
   "metadata": {},
   "outputs": [
    {
     "name": "stdout",
     "output_type": "stream",
     "text": [
      "Enter a number :1234\n"
     ]
    },
    {
     "ename": "RecursionError",
     "evalue": "maximum recursion depth exceeded",
     "output_type": "error",
     "traceback": [
      "\u001b[1;31m---------------------------------------------------------------------------\u001b[0m",
      "\u001b[1;31mRecursionError\u001b[0m                            Traceback (most recent call last)",
      "Cell \u001b[1;32mIn[25], line 11\u001b[0m\n\u001b[0;32m      7\u001b[0m     \u001b[38;5;28mprint\u001b[39m(n)\n\u001b[0;32m     10\u001b[0m n\u001b[38;5;241m=\u001b[39m\u001b[38;5;28mint\u001b[39m(\u001b[38;5;28minput\u001b[39m(\u001b[38;5;124m\"\u001b[39m\u001b[38;5;124mEnter a number :\u001b[39m\u001b[38;5;124m\"\u001b[39m))\n\u001b[1;32m---> 11\u001b[0m revers_num(n)\n",
      "Cell \u001b[1;32mIn[25], line 6\u001b[0m, in \u001b[0;36mrevers_num\u001b[1;34m(n)\u001b[0m\n\u001b[0;32m      4\u001b[0m \u001b[38;5;28;01mif\u001b[39;00m n\u001b[38;5;241m==\u001b[39m\u001b[38;5;241m0\u001b[39m:\n\u001b[0;32m      5\u001b[0m     \u001b[38;5;28;01mreturn\u001b[39;00m;\n\u001b[1;32m----> 6\u001b[0m revers_num(n\u001b[38;5;241m%\u001b[39m\u001b[38;5;241m10\u001b[39m)\n\u001b[0;32m      7\u001b[0m \u001b[38;5;28mprint\u001b[39m(n)\n",
      "Cell \u001b[1;32mIn[25], line 6\u001b[0m, in \u001b[0;36mrevers_num\u001b[1;34m(n)\u001b[0m\n\u001b[0;32m      4\u001b[0m \u001b[38;5;28;01mif\u001b[39;00m n\u001b[38;5;241m==\u001b[39m\u001b[38;5;241m0\u001b[39m:\n\u001b[0;32m      5\u001b[0m     \u001b[38;5;28;01mreturn\u001b[39;00m;\n\u001b[1;32m----> 6\u001b[0m revers_num(n\u001b[38;5;241m%\u001b[39m\u001b[38;5;241m10\u001b[39m)\n\u001b[0;32m      7\u001b[0m \u001b[38;5;28mprint\u001b[39m(n)\n",
      "    \u001b[1;31m[... skipping similar frames: revers_num at line 6 (2971 times)]\u001b[0m\n",
      "Cell \u001b[1;32mIn[25], line 6\u001b[0m, in \u001b[0;36mrevers_num\u001b[1;34m(n)\u001b[0m\n\u001b[0;32m      4\u001b[0m \u001b[38;5;28;01mif\u001b[39;00m n\u001b[38;5;241m==\u001b[39m\u001b[38;5;241m0\u001b[39m:\n\u001b[0;32m      5\u001b[0m     \u001b[38;5;28;01mreturn\u001b[39;00m;\n\u001b[1;32m----> 6\u001b[0m revers_num(n\u001b[38;5;241m%\u001b[39m\u001b[38;5;241m10\u001b[39m)\n\u001b[0;32m      7\u001b[0m \u001b[38;5;28mprint\u001b[39m(n)\n",
      "\u001b[1;31mRecursionError\u001b[0m: maximum recursion depth exceeded"
     ]
    }
   ],
   "source": [
    "# write a program to print revers of a single interger by using recursion ?\n",
    "\n",
    "def revers_num(n):\n",
    "    if n==0:\n",
    "        return;\n",
    "    revers_num(n%10)\n",
    "    print(n)\n",
    "\n",
    "\n",
    "n=int(input(\"Enter a number :\"))\n",
    "revers_num(n)"
   ]
  },
  {
   "cell_type": "code",
   "execution_count": null,
   "id": "392f2665",
   "metadata": {},
   "outputs": [],
   "source": []
  }
 ],
 "metadata": {
  "kernelspec": {
   "display_name": "Python 3 (ipykernel)",
   "language": "python",
   "name": "python3"
  },
  "language_info": {
   "codemirror_mode": {
    "name": "ipython",
    "version": 3
   },
   "file_extension": ".py",
   "mimetype": "text/x-python",
   "name": "python",
   "nbconvert_exporter": "python",
   "pygments_lexer": "ipython3",
   "version": "3.11.3"
  }
 },
 "nbformat": 4,
 "nbformat_minor": 5
}
