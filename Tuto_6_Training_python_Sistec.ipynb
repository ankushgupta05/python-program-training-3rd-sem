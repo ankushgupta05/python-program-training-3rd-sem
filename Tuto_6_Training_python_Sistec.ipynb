{
 "cells": [
  {
   "cell_type": "markdown",
   "id": "c14739ed",
   "metadata": {},
   "source": [
    "# predefind Function in string Feture ."
   ]
  },
  {
   "cell_type": "code",
   "execution_count": 22,
   "id": "a91f6e2a",
   "metadata": {},
   "outputs": [
    {
     "name": "stdout",
     "output_type": "stream",
     "text": [
      "[10, 20, 30, 'ankush', 'gupta']\n"
     ]
    }
   ],
   "source": [
    "# append() function\n",
    "\n",
    "s=[10,20,30,\"ankush\"]  # List \n",
    "s.append(\"gupta\")\n",
    "print(s)"
   ]
  },
  {
   "cell_type": "code",
   "execution_count": 23,
   "id": "ed2782f7",
   "metadata": {},
   "outputs": [
    {
     "name": "stdout",
     "output_type": "stream",
     "text": [
      "[10, 20, 30, 'ankush', (40, 50, 60)]\n"
     ]
    }
   ],
   "source": [
    "# append() function\n",
    "\n",
    "s=[10,20,30,\"ankush\"]\n",
    "t=(40,50,60)    # List can be append to the Touple \n",
    "s.append(t)\n",
    "print(s)"
   ]
  },
  {
   "cell_type": "code",
   "execution_count": 27,
   "id": "aee69420",
   "metadata": {},
   "outputs": [
    {
     "name": "stdout",
     "output_type": "stream",
     "text": [
      "[10, 20, 30, 'ankush', 40, 50, 60]\n"
     ]
    }
   ],
   "source": [
    "# extend() Function \n",
    "s=[10,20,30,\"ankush\"]\n",
    "t=[40,50,60]\n",
    "s.extend(t)  #extend Funtion insert another eliment throught indivisualy \n",
    "print(s)"
   ]
  },
  {
   "cell_type": "code",
   "execution_count": 28,
   "id": "30d5f78e",
   "metadata": {},
   "outputs": [
    {
     "name": "stdout",
     "output_type": "stream",
     "text": [
      "[10, 20, 30, 'ankush', 40, 50, 60]\n"
     ]
    }
   ],
   "source": [
    "# extend() Fuction (add Touple or set)\n",
    "s=[10,20,30,\"ankush\"]\n",
    "t=(40,50,60)  \n",
    "s.extend(t)  # can be also insert Touple\n",
    "print(s)"
   ]
  },
  {
   "cell_type": "code",
   "execution_count": 26,
   "id": "734dadde",
   "metadata": {},
   "outputs": [
    {
     "name": "stdout",
     "output_type": "stream",
     "text": [
      "[10, 20, 'Gupta', 30, 'ankush']\n"
     ]
    }
   ],
   "source": [
    "# insert() Function ( Take Two argument )\n",
    "s=[10,20,30,\"ankush\"]\n",
    "s.insert(2,\"Gupta\")  # insert Fuction is insert on particuler index  \n",
    "print(s)"
   ]
  },
  {
   "cell_type": "code",
   "execution_count": 25,
   "id": "19d8ec64",
   "metadata": {},
   "outputs": [
    {
     "name": "stdout",
     "output_type": "stream",
     "text": [
      "[10, 20, 30, 'ankush']\n"
     ]
    }
   ],
   "source": [
    "# index() Fuction \n",
    "\n",
    "s=[10,20,30,\"ankush\"]\n",
    "s.index(20)   # it Give index of argument .\n",
    "print(s)    "
   ]
  },
  {
   "cell_type": "code",
   "execution_count": 37,
   "id": "37221cd6",
   "metadata": {},
   "outputs": [
    {
     "name": "stdout",
     "output_type": "stream",
     "text": [
      "[10, 20, 30]\n"
     ]
    }
   ],
   "source": [
    "### remove Function( Take one argument and remove one eliment at one time )\n",
    "\n",
    "s=[10,20,30,\"ankush\"] \n",
    "s.remove(\"ankush\") # it take one argument(Eliment Name) and removes eliment which is sent throught argument .\n",
    "print(s)"
   ]
  },
  {
   "cell_type": "code",
   "execution_count": 38,
   "id": "e796dd0d",
   "metadata": {},
   "outputs": [
    {
     "name": "stdout",
     "output_type": "stream",
     "text": [
      "[10, 20, 30]\n"
     ]
    }
   ],
   "source": [
    "### Pop() Fuction (Take one index Througt argument)\n",
    "\n",
    "s=[10,20,30,\"ankush\"] \n",
    "s.pop(3)    # it removes eliment of particuler index \n",
    "print(s)"
   ]
  },
  {
   "cell_type": "code",
   "execution_count": 39,
   "id": "f9fa9a68",
   "metadata": {},
   "outputs": [
    {
     "name": "stdout",
     "output_type": "stream",
     "text": [
      "[7, 10, 20, 30, 40, 50, 80, 90]\n"
     ]
    }
   ],
   "source": [
    "### sort() Fuction \n",
    "\n",
    "n=[10,40,20,50,30,7,90,80] \n",
    "n.sort()   # (incresing order) sort() applied only Homogenious eliment\n",
    "print(n)"
   ]
  },
  {
   "cell_type": "code",
   "execution_count": 43,
   "id": "b53dc407",
   "metadata": {},
   "outputs": [
    {
     "name": "stdout",
     "output_type": "stream",
     "text": [
      "[90, 80, 50, 40, 30, 20, 10, 7]\n"
     ]
    }
   ],
   "source": [
    "#   sort() Fuction \n",
    "\n",
    "n=[10,40,20,50,30,7,90,80]\n",
    "n.sort(reverse=True)  # Desending order \n",
    "print(n)"
   ]
  },
  {
   "cell_type": "markdown",
   "id": "096b52a8",
   "metadata": {},
   "source": [
    "# List aliasing"
   ]
  },
  {
   "cell_type": "code",
   "execution_count": 46,
   "id": "6e63b919",
   "metadata": {},
   "outputs": [
    {
     "name": "stdout",
     "output_type": "stream",
     "text": [
      "[10, 40, 20, 50, 30, 7, 90, 80]\n",
      "2482519682816\n",
      "<class 'list'>\n",
      "[10, 40, 20, 50, 30, 7, 90, 80]\n",
      "2482519682816\n",
      "<class 'list'>\n",
      "\n",
      "\n",
      "[10, 40, 20, 50, 30, 7, 90, 80, 555]\n",
      "2482519682816\n",
      "<class 'list'>\n",
      "[10, 40, 20, 50, 30, 7, 90, 80, 555]\n",
      "2482519682816\n",
      "<class 'list'>\n"
     ]
    }
   ],
   "source": [
    "# List aliasing (acject To copy)\n",
    "\n",
    "# Case 1\n",
    "n=[10,40,20,50,30,7,90,80]\n",
    "m=n    #(m and n point same address ) n assign in m [m takes same address]\n",
    "print(n)\n",
    "print(id(n))\n",
    "print(type(n))\n",
    "print(m)\n",
    "print(id(m))\n",
    "print(type(m))\n",
    "\n",
    "print()\n",
    "m.append(555)\n",
    "print()\n",
    "\n",
    "print(n)\n",
    "print(id(n))\n",
    "print(type(n))\n",
    "print(m)\n",
    "print(id(m))\n",
    "print(type(m))"
   ]
  },
  {
   "cell_type": "code",
   "execution_count": 47,
   "id": "a6b34ce3",
   "metadata": {},
   "outputs": [
    {
     "name": "stdout",
     "output_type": "stream",
     "text": [
      "[10, 40, 20, 50, 30, 7, 90, 80]\n",
      "2482519540928\n",
      "<class 'list'>\n",
      "[10, 40, 20, 50, 30, 7, 90, 80]\n",
      "2482519540928\n",
      "<class 'list'>\n",
      "\n",
      "\n",
      "[10, 40, 20, 50, 30, 7, 90, 80, 555]\n",
      "2482519540928\n",
      "<class 'list'>\n",
      "[10, 40, 20, 50, 30, 7, 90, 80, 555]\n",
      "2482519540928\n",
      "<class 'list'>\n"
     ]
    }
   ],
   "source": [
    "# List aliasing\n",
    "\n",
    "# Case 2\n",
    "n=[10,40,20,50,30,7,90,80]\n",
    "m=n            #( m and n take same address ) m assign in n [ also n takes same address]\n",
    "print(n)\n",
    "print(id(n))\n",
    "print(type(n))\n",
    "print(m)\n",
    "print(id(m))\n",
    "print(type(m))\n",
    "\n",
    "print()\n",
    "n.append(555)\n",
    "print()\n",
    "\n",
    "print(n)\n",
    "print(id(n))\n",
    "print(type(n))\n",
    "print(m)\n",
    "print(id(m))\n",
    "print(type(m))"
   ]
  },
  {
   "cell_type": "markdown",
   "id": "a35c9ab8",
   "metadata": {},
   "source": [
    "# cloning"
   ]
  },
  {
   "cell_type": "code",
   "execution_count": null,
   "id": "f9d71b32",
   "metadata": {},
   "outputs": [],
   "source": [
    "# cloning\n",
    "\n",
    "# Case 1\n",
    "n=[10,40,20,50,30,7,90,80]\n",
    "m=n[:]    # (m and n point To anthor address ) n assign in m [m takes Diffrend address]\n",
    "print(n)\n",
    "print(id(n))\n",
    "print(type(n))\n",
    "print(m)\n",
    "print(id(m))\n",
    "print(type(m))\n",
    "\n",
    "print()\n",
    "m.append(555)\n",
    "print()\n",
    "\n",
    "print(n)\n",
    "print(id(n))\n",
    "print(type(n))\n",
    "print(m)\n",
    "print(id(m))\n",
    "print(type(m))"
   ]
  },
  {
   "cell_type": "code",
   "execution_count": null,
   "id": "0c8ed4e4",
   "metadata": {},
   "outputs": [],
   "source": [
    "# cloning\n",
    "\n",
    "# Case 2\n",
    "n=[10,40,20,50,30,7,90,80]\n",
    "m=n[:]            #(m and n point anothoer address ) m assign in n [ also n Takes Diffrent address]\n",
    "print(n)\n",
    "print(id(n))\n",
    "print(type(n))\n",
    "print(m)\n",
    "print(id(m))\n",
    "print(type(m))\n",
    "\n",
    "print()\n",
    "n.append(555)\n",
    "print()\n",
    "\n",
    "print(n)\n",
    "print(id(n))\n",
    "print(type(n))\n",
    "print(m)\n",
    "print(id(m))\n",
    "print(type(m))"
   ]
  },
  {
   "cell_type": "markdown",
   "id": "7884e11c",
   "metadata": {},
   "source": [
    "# operator perform advanced datatype"
   ]
  },
  {
   "cell_type": "code",
   "execution_count": 50,
   "id": "5fd7b38e",
   "metadata": {},
   "outputs": [
    {
     "name": "stdout",
     "output_type": "stream",
     "text": [
      "[10, 20, 30, 40, 50, 60, 70, 80, 90, 100]\n",
      "[10, 20, 30, 40, 50, 10, 20, 30, 40, 50]\n"
     ]
    }
   ],
   "source": [
    "# operator perform only same datatype [But can not be possible in Diffrent datatype].\n",
    "\n",
    "x=[10,20,30,40,50]\n",
    "y=[60,70,80,90,100]\n",
    "print(x+y)      \n",
    "print(x*2)  \n",
    "# print(x*y) # it can not possible"
   ]
  },
  {
   "cell_type": "code",
   "execution_count": 54,
   "id": "98b56c7f",
   "metadata": {},
   "outputs": [
    {
     "name": "stdout",
     "output_type": "stream",
     "text": [
      "False\n"
     ]
    }
   ],
   "source": [
    "x=[10,20,30,40,50]\n",
    "y=[60,70,80,90,100]\n",
    "print(x==y)"
   ]
  },
  {
   "cell_type": "code",
   "execution_count": 55,
   "id": "04cf0c39",
   "metadata": {},
   "outputs": [
    {
     "name": "stdout",
     "output_type": "stream",
     "text": [
      "True\n"
     ]
    }
   ],
   "source": [
    "x=[10,20,30,40,50]\n",
    "y=[10,20,30,40,50]\n",
    "print(x==y)\n"
   ]
  },
  {
   "cell_type": "code",
   "execution_count": 56,
   "id": "2c30e7ce",
   "metadata": {},
   "outputs": [
    {
     "name": "stdout",
     "output_type": "stream",
     "text": [
      "False\n"
     ]
    }
   ],
   "source": [
    "x=[10,20,30,40,50]\n",
    "y=[10,20,30,40,\"50\"]\n",
    "print(x==y)\n"
   ]
  },
  {
   "cell_type": "code",
   "execution_count": 57,
   "id": "bbf2d5ec",
   "metadata": {},
   "outputs": [
    {
     "name": "stdout",
     "output_type": "stream",
     "text": [
      "False\n"
     ]
    }
   ],
   "source": [
    "x=[10,20,30,40,50]\n",
    "y=[60,70,80,90,100]\n",
    "print(x>y)\n"
   ]
  },
  {
   "cell_type": "code",
   "execution_count": 60,
   "id": "e5c70eab",
   "metadata": {},
   "outputs": [
    {
     "name": "stdout",
     "output_type": "stream",
     "text": [
      "True\n"
     ]
    }
   ],
   "source": [
    "x=[10,20,30,40,50]\n",
    "y=[60,70,80,90,100]\n",
    "print(x<y)\n"
   ]
  },
  {
   "cell_type": "code",
   "execution_count": 62,
   "id": "e8787bbc",
   "metadata": {},
   "outputs": [
    {
     "name": "stdout",
     "output_type": "stream",
     "text": [
      "False\n"
     ]
    }
   ],
   "source": [
    "x=[10,20,30,40,50]\n",
    "y=[10,20,30,40,100]\n",
    "print(x>=y)\n"
   ]
  },
  {
   "cell_type": "code",
   "execution_count": 65,
   "id": "28bf5408",
   "metadata": {},
   "outputs": [
    {
     "name": "stdout",
     "output_type": "stream",
     "text": [
      "True\n"
     ]
    }
   ],
   "source": [
    "x=[10,20,30,40,50]\n",
    "y=[10,20,30,40,50]\n",
    "print(x>=y)"
   ]
  },
  {
   "cell_type": "code",
   "execution_count": 66,
   "id": "3ea027ab",
   "metadata": {},
   "outputs": [
    {
     "name": "stdout",
     "output_type": "stream",
     "text": [
      "True\n"
     ]
    }
   ],
   "source": [
    "x=[\"10\",\"20\",\"30\",\"40\",\"50\"]\n",
    "y=[\"10\",\"20\",\"30\",\"40\",\"50\"]\n",
    "print(x>=y)"
   ]
  },
  {
   "cell_type": "code",
   "execution_count": 67,
   "id": "788f55d8",
   "metadata": {},
   "outputs": [
    {
     "name": "stdout",
     "output_type": "stream",
     "text": [
      "True\n"
     ]
    }
   ],
   "source": [
    "x=[10,20,30,40,50]\n",
    "y=[10,20,30,40]\n",
    "print(x>=y)     # by Default it gives False "
   ]
  },
  {
   "cell_type": "code",
   "execution_count": 68,
   "id": "92dee8b9",
   "metadata": {},
   "outputs": [
    {
     "name": "stdout",
     "output_type": "stream",
     "text": [
      "False\n"
     ]
    }
   ],
   "source": [
    "x=[10,20,30,40,50]\n",
    "y=[10,20,30,40]\n",
    "print(x<=y)     # by Default it gives False "
   ]
  },
  {
   "cell_type": "code",
   "execution_count": 72,
   "id": "99421bd7",
   "metadata": {},
   "outputs": [
    {
     "name": "stdout",
     "output_type": "stream",
     "text": [
      "[[1, 2, 3], [4, 5, 6]]\n",
      "[[10, 20, 30], [40, 50, 60]]\n"
     ]
    }
   ],
   "source": [
    "## Nested List\n",
    "\n",
    "s=[[[1,2,3],[4,5,6]],[[10,20,30],[40,50,60]]]\n",
    "print(s[0])\n",
    "print(s[1])"
   ]
  },
  {
   "cell_type": "markdown",
   "id": "b81749f5",
   "metadata": {},
   "source": [
    "# For making List"
   ]
  },
  {
   "cell_type": "code",
   "execution_count": 77,
   "id": "79739744",
   "metadata": {},
   "outputs": [
    {
     "name": "stdout",
     "output_type": "stream",
     "text": [
      "5\n",
      "10\n",
      "20\n",
      "30\n",
      "40\n",
      "50\n",
      "List is : ['10', '20', '30', '40', '50']\n"
     ]
    }
   ],
   "source": [
    "# For making List throught Users.\n",
    "# 1st Method\n",
    "\n",
    "x=[]\n",
    "n=int(input())\n",
    "for i in range(n):\n",
    "    x.append(input())\n",
    "print(\"List is :\",x)"
   ]
  },
  {
   "cell_type": "code",
   "execution_count": 78,
   "id": "9028822c",
   "metadata": {},
   "outputs": [
    {
     "name": "stdout",
     "output_type": "stream",
     "text": [
      "[1, 2, 3, 4, 5]\n"
     ]
    }
   ],
   "source": [
    "# 2nd method of List comprehension\n",
    "\n",
    "x=[x for x in range(1,6)]\n",
    "print(x)\n"
   ]
  },
  {
   "cell_type": "code",
   "execution_count": 79,
   "id": "278d3a1f",
   "metadata": {},
   "outputs": [
    {
     "name": "stdout",
     "output_type": "stream",
     "text": [
      "[2, 4, 6, 8, 10]\n"
     ]
    }
   ],
   "source": [
    "# we can use \n",
    "\n",
    "x=[x for x in range(1,11) if x%2==0]\n",
    "print(x)\n"
   ]
  },
  {
   "cell_type": "code",
   "execution_count": 80,
   "id": "11355b13",
   "metadata": {},
   "outputs": [
    {
     "name": "stdout",
     "output_type": "stream",
     "text": [
      "[2, 4, 6, 8, 10]\n"
     ]
    }
   ],
   "source": [
    "# we can use\n",
    "\n",
    "x=[i for i in range(1,11) if i%2==0]\n",
    "print(x)"
   ]
  },
  {
   "cell_type": "markdown",
   "id": "8719e0cd",
   "metadata": {},
   "source": [
    "# Touple concept"
   ]
  },
  {
   "cell_type": "code",
   "execution_count": 3,
   "id": "23e2bbae",
   "metadata": {},
   "outputs": [
    {
     "name": "stdout",
     "output_type": "stream",
     "text": [
      "1\n"
     ]
    }
   ],
   "source": [
    "# Touple concept\n",
    "\n",
    "tup=(1,2,2,2,2,2,2,\"ankush\",\"gupta\")\n",
    "print(tup.index(2))  # it Give only first index "
   ]
  },
  {
   "cell_type": "code",
   "execution_count": 4,
   "id": "ef9983f9",
   "metadata": {},
   "outputs": [
    {
     "name": "stdout",
     "output_type": "stream",
     "text": [
      "(10, 20, 30, 40)\n"
     ]
    }
   ],
   "source": [
    "# addition of touple\n",
    "x=(10,20)\n",
    "y=(30,40)\n",
    "print(x+y)"
   ]
  },
  {
   "cell_type": "markdown",
   "id": "b5c5b9c1",
   "metadata": {},
   "source": [
    "# tuple packing and unpacking"
   ]
  },
  {
   "cell_type": "code",
   "execution_count": 5,
   "id": "2595e38e",
   "metadata": {},
   "outputs": [
    {
     "name": "stdout",
     "output_type": "stream",
     "text": [
      "(1, 2, 3, 4, 'ankush', 'gupta')\n",
      "<class 'tuple'>\n"
     ]
    }
   ],
   "source": [
    "x=1,2,3,4,\"ankush\",\"gupta\"  # it Take By Default Touple\n",
    "print(x)     \n",
    "print(type(x))"
   ]
  },
  {
   "cell_type": "code",
   "execution_count": 8,
   "id": "015bca90",
   "metadata": {},
   "outputs": [
    {
     "name": "stdout",
     "output_type": "stream",
     "text": [
      "<class 'tuple'>\n",
      "1 2 3 4 5\n",
      "\n",
      "1\n",
      "2\n",
      "3\n",
      "4\n",
      "5\n"
     ]
    }
   ],
   "source": [
    "### Touple packing\n",
    "\n",
    "t=1,2,3,4,5   # Touple packing\n",
    "a,b,c,d,e=t\n",
    "print(type(t))\n",
    "print(a,b,c,d,e)\n",
    "print()\n",
    "print(a)\n",
    "print(b)\n",
    "print(c)\n",
    "print(d)\n",
    "print(e)"
   ]
  },
  {
   "cell_type": "code",
   "execution_count": 11,
   "id": "2a495410",
   "metadata": {},
   "outputs": [
    {
     "name": "stdout",
     "output_type": "stream",
     "text": [
      "<class 'tuple'>\n",
      "1 2 3 4 5 ankush\n",
      "\n",
      "1\n",
      "2\n",
      "3\n",
      "4\n",
      "5\n",
      "ankush\n",
      "ankush is type : <class 'str'>\n"
     ]
    }
   ],
   "source": [
    "t=1,2,3,4,5,\"ankush\"   # Touple packing\n",
    "a,b,c,d,e,f=t\n",
    "print(type(t))\n",
    "print(a,b,c,d,e,f)\n",
    "print()\n",
    "print(a)\n",
    "print(b)\n",
    "print(c)\n",
    "print(d)\n",
    "print(e)\n",
    "print(f)\n",
    "print(\"ankush is type :\",type(f))"
   ]
  },
  {
   "cell_type": "code",
   "execution_count": 12,
   "id": "c4830acb",
   "metadata": {},
   "outputs": [
    {
     "name": "stdout",
     "output_type": "stream",
     "text": [
      "<generator object <genexpr> at 0x0000013E2648C520>\n"
     ]
    }
   ],
   "source": [
    "x=(i for i in range(1,11))  #  Touple comprehension is Not possible in Touple \n",
    "print(x)"
   ]
  },
  {
   "cell_type": "markdown",
   "id": "02f669f0",
   "metadata": {},
   "source": [
    "# set function"
   ]
  },
  {
   "cell_type": "code",
   "execution_count": 13,
   "id": "6f608278",
   "metadata": {},
   "outputs": [
    {
     "name": "stdout",
     "output_type": "stream",
     "text": [
      "{}\n",
      "<class 'dict'>\n"
     ]
    }
   ],
   "source": [
    "# set={} Set Fucntion is Mutable[ it has many Fuction for Modification ]\n",
    "s1={}\n",
    "print(s1)  # we can not make empty set [ by Default empty set is called  Dictionary] \n",
    "print(type(s1))"
   ]
  },
  {
   "cell_type": "code",
   "execution_count": 15,
   "id": "e3b31f2e",
   "metadata": {},
   "outputs": [
    {
     "name": "stdout",
     "output_type": "stream",
     "text": [
      "{1, 4}\n",
      "{0, 1, 2, 3, 4, 5, 6, 9}\n",
      "{2, 3, 6}\n",
      "\n",
      "{'Sistec', 1, 2, 3, 4, 6}\n"
     ]
    }
   ],
   "source": [
    "p={1,2,3,4,6}\n",
    "q={4,9,1,0,5}\n",
    "print(p.intersection(q)) \n",
    "print(p.union(q))\n",
    "print(p.difference(q))\n",
    "print()\n",
    "p.add(\"Sistec\")\n",
    "print(p)"
   ]
  },
  {
   "cell_type": "code",
   "execution_count": 18,
   "id": "942e4acb",
   "metadata": {},
   "outputs": [
    {
     "name": "stdout",
     "output_type": "stream",
     "text": [
      "{1, 2, 3, 4, 5, 6, 7, 8, 9, 10}\n",
      "{2, 4, 6, 8, 10}\n"
     ]
    }
   ],
   "source": [
    "# set comprehension is Possible \n",
    "\n",
    "x={ i for i in range(1,11)}\n",
    "print(x)\n",
    "\n",
    "x={ i for i in range(1,11) if i%2==0}\n",
    "print(x)"
   ]
  },
  {
   "cell_type": "code",
   "execution_count": 21,
   "id": "6011ece2",
   "metadata": {},
   "outputs": [
    {
     "name": "stdout",
     "output_type": "stream",
     "text": [
      "{3, 5, 7, 9, 11}\n"
     ]
    }
   ],
   "source": [
    " # also possible\n",
    "\n",
    "x={ i+1 for i in range(1,11) if i%2==0}\n",
    "print(x)"
   ]
  },
  {
   "cell_type": "code",
   "execution_count": 22,
   "id": "09306cd4",
   "metadata": {},
   "outputs": [
    {
     "name": "stdout",
     "output_type": "stream",
     "text": [
      "{64, 100, 4, 36, 16}\n"
     ]
    }
   ],
   "source": [
    " # also possible\n",
    "\n",
    "x={ i**2 for i in range(1,11) if i%2==0}\n",
    "print(x)"
   ]
  },
  {
   "cell_type": "markdown",
   "id": "36748b75",
   "metadata": {},
   "source": [
    "# Dictionary"
   ]
  },
  {
   "cell_type": "code",
   "execution_count": 31,
   "id": "8e5872ea",
   "metadata": {},
   "outputs": [
    {
     "name": "stdout",
     "output_type": "stream",
     "text": [
      "{1: 'ankush', 2: 'gupta'}\n",
      "ankush\n",
      "gupta\n",
      "<class 'dict'>\n"
     ]
    }
   ],
   "source": [
    "# dictionary\n",
    "d={1:\"ankush\",2:\"gupta\"}\n",
    "print(d)\n",
    "print(d[1])   # indexing is possible but in Form of key whitch is defind in Dictionary List\n",
    "print(d[2])\n",
    "print(type(d))"
   ]
  },
  {
   "cell_type": "markdown",
   "id": "84baab7f",
   "metadata": {},
   "source": [
    "# Function of Dictionary"
   ]
  },
  {
   "cell_type": "code",
   "execution_count": 40,
   "id": "a4caa50a",
   "metadata": {},
   "outputs": [
    {
     "name": "stdout",
     "output_type": "stream",
     "text": [
      "{1: 'ankush', 2: 'gupta', 3: 'Madhuri', 4: 'gupta'}\n",
      "<class 'dict'>\n",
      "dict_keys([1, 2, 3, 4])\n"
     ]
    }
   ],
   "source": [
    "d={1:\"ankush\",2:\"gupta\",3:\"Madhuri\",4:\"gupta\"}\n",
    "print(d)\n",
    "print(type(d))\n",
    "print(d.keys())  # keys() is use to prints all Keys, whitch is defind in Dictionary List\n"
   ]
  },
  {
   "cell_type": "code",
   "execution_count": 39,
   "id": "8c1ddcc0",
   "metadata": {},
   "outputs": [
    {
     "name": "stdout",
     "output_type": "stream",
     "text": [
      "{1: 'ankush', 2: 'gupta', 3: 'Madhuri', 4: 'gupta'}\n",
      "<class 'dict'>\n",
      "dict_values(['ankush', 'gupta', 'Madhuri', 'gupta'])\n",
      "<class 'dict_values'>\n"
     ]
    }
   ],
   "source": [
    "d={1:\"ankush\",2:\"gupta\",3:\"Madhuri\",4:\"gupta\"}\n",
    "print(d)\n",
    "print(type(d))\n",
    "print(d.values())   # values() is use to prints all values , whitch is defind in Dictionary List\n",
    "print(type(d.values()))"
   ]
  },
  {
   "cell_type": "code",
   "execution_count": 42,
   "id": "71d9d06f",
   "metadata": {},
   "outputs": [
    {
     "name": "stdout",
     "output_type": "stream",
     "text": [
      "{1: 'ankush', 2: 'gupta', 3: 'Madhuri', 4: 'gupta'}\n",
      "<class 'dict'>\n",
      "dict_items([(1, 'ankush'), (2, 'gupta'), (3, 'Madhuri'), (4, 'gupta')])\n"
     ]
    }
   ],
   "source": [
    "d={1:\"ankush\",2:\"gupta\",3:\"Madhuri\",4:\"gupta\"}\n",
    "print(d)\n",
    "print(type(d))   \n",
    "print(d.items())   # items() is use to prints all items , whitch is defind in Dictionary List "
   ]
  },
  {
   "cell_type": "code",
   "execution_count": 47,
   "id": "80bc5700",
   "metadata": {},
   "outputs": [
    {
     "name": "stdout",
     "output_type": "stream",
     "text": [
      "{1: 'ankush', 2: 'gupta', 3: 'Madhuri', 4: 'gupta'}\n",
      "<class 'dict'>\n",
      "{2: 'gupta', 3: 'Madhuri', 4: 'gupta'}\n"
     ]
    }
   ],
   "source": [
    "d={1:\"ankush\",2:\"gupta\",3:\"Madhuri\",4:\"gupta\"}\n",
    "print(d)\n",
    "print(type(d)) \n",
    "d.pop(1)    # pop() eliminate value \n",
    "print(d)  "
   ]
  },
  {
   "cell_type": "code",
   "execution_count": 48,
   "id": "d027915d",
   "metadata": {},
   "outputs": [
    {
     "name": "stdout",
     "output_type": "stream",
     "text": [
      "{1: 'ankush', 2: 'gupta', 3: 'Madhuri', 4: 'gupta'}\n",
      "<class 'dict'>\n",
      "{}\n"
     ]
    }
   ],
   "source": [
    "d={1:\"ankush\",2:\"gupta\",3:\"Madhuri\",4:\"gupta\"}\n",
    "print(d)\n",
    "print(type(d)) \n",
    "d.clear()  # it delet all items .\n",
    "print(d)"
   ]
  },
  {
   "cell_type": "code",
   "execution_count": 50,
   "id": "ecf08a46",
   "metadata": {},
   "outputs": [],
   "source": [
    "# List can not be convert into Dictionary .\n",
    "\n",
    "# l=[\"ankush\",\"gupta\"]\n",
    "# d=dict(l)"
   ]
  },
  {
   "cell_type": "code",
   "execution_count": 55,
   "id": "656a11d5",
   "metadata": {},
   "outputs": [
    {
     "name": "stdout",
     "output_type": "stream",
     "text": [
      "{1: 'ankush', 2: 'gupta'}\n"
     ]
    }
   ],
   "source": [
    "d=({1:\"ankush\",2:\"gupta\"})\n",
    "print(d)"
   ]
  },
  {
   "cell_type": "code",
   "execution_count": 57,
   "id": "10bb381a",
   "metadata": {},
   "outputs": [
    {
     "name": "stdout",
     "output_type": "stream",
     "text": [
      "{1: {'a': 'ankush'}, 2: {'b': 'gupta'}}\n"
     ]
    }
   ],
   "source": [
    "# Nesting is Possible in Dictionary\n",
    "\n",
    "d=({1:{\"a\":\"ankush\"},2:{\"b\":\"gupta\"}})\n",
    "print(d)  "
   ]
  }
 ],
 "metadata": {
  "kernelspec": {
   "display_name": "Python 3 (ipykernel)",
   "language": "python",
   "name": "python3"
  },
  "language_info": {
   "codemirror_mode": {
    "name": "ipython",
    "version": 3
   },
   "file_extension": ".py",
   "mimetype": "text/x-python",
   "name": "python",
   "nbconvert_exporter": "python",
   "pygments_lexer": "ipython3",
   "version": "3.11.3"
  }
 },
 "nbformat": 4,
 "nbformat_minor": 5
}
