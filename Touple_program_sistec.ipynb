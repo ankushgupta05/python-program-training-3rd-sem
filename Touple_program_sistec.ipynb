{
 "cells": [
  {
   "cell_type": "markdown",
   "id": "08fbaea5",
   "metadata": {},
   "source": [
    "# program of  touple "
   ]
  },
  {
   "cell_type": "code",
   "execution_count": 15,
   "id": "95e306e0",
   "metadata": {},
   "outputs": [
    {
     "name": "stdout",
     "output_type": "stream",
     "text": [
      "I am ankush gupta\n",
      "('I', 'am', 'ankush', 'gupta')\n",
      "<class 'tuple'>\n",
      "('gupta', 'ankush', 'am', 'I')\n"
     ]
    }
   ],
   "source": [
    "# 1) write a program a Touple From a given list and rivers it ?\n",
    "str1=input()\n",
    "l=str1.split(\" \")   # split fuction is cinvert into list\n",
    "top=tuple(l)   # list cinvert into tuple\n",
    "print(top)\n",
    "print(type(top)) \n",
    "print(top[::-1])"
   ]
  },
  {
   "cell_type": "code",
   "execution_count": 22,
   "id": "56014f45",
   "metadata": {},
   "outputs": [
    {
     "name": "stdout",
     "output_type": "stream",
     "text": [
      "Enter a string :ankush gupta\n",
      "The string is in upper charactor : ['a', 'n', 'k', 'u', 's', 'h', ' ', 'g', 'u', 'p', 't', 'a']\n",
      "The string is in unique code [97, 110, 107, 117, 115, 104, 32, 103, 117, 112, 116, 97]\n"
     ]
    }
   ],
   "source": [
    "# 2) write a program to creat list of touple when each touple is a pair of eliment\n",
    "#    1st eliment is upper casecharactor 2nd eliment is its unike code ?\n",
    "U_code=[]\n",
    "Upr_charactor=[]\n",
    "str1=input(\"Enter a string :\")\n",
    "for i in str1:\n",
    "    Upr_charactor.append(i)\n",
    "    U_code.append(ord(i))\n",
    "print(\"The string is in upper charactor :\",Upr_charactor)\n",
    "print(\"The string is in unique code\",U_code)\n",
    "    \n",
    "\n",
    "\n"
   ]
  },
  {
   "cell_type": "code",
   "execution_count": 26,
   "id": "bfb7c36a",
   "metadata": {},
   "outputs": [
    {
     "name": "stdout",
     "output_type": "stream",
     "text": [
      "Enter a string :10 12 2 4 5 7 9 3 \n",
      "the possitive numbr of set : {'10', '4', '2', '12'}\n",
      "the negative numbr of set : {'3', '5', '7', '9'}\n"
     ]
    }
   ],
   "source": [
    "# 3) create two sets from a given set of numbers to seprate even or odd number ?\n",
    "p_numbr=[]\n",
    "n_numbr=[]\n",
    "str1=input(\"Enter a string :\")\n",
    "l=str1.split()\n",
    "for i in l:\n",
    "    if int(i)%2==0:\n",
    "        p_numbr.append(i)\n",
    "    else:\n",
    "        n_numbr.append(i)\n",
    "p_set=set(p_numbr)\n",
    "print(\"the possitive numbr of set :\",p_set)\n",
    "n_set=set(n_numbr)\n",
    "print(\"the negative numbr of set :\",n_set)"
   ]
  },
  {
   "cell_type": "code",
   "execution_count": 41,
   "id": "6a97240c",
   "metadata": {},
   "outputs": [
    {
     "name": "stdout",
     "output_type": "stream",
     "text": [
      "Enter a lenght of dictionary :3\n",
      "1\n",
      "ankush\n",
      "2\n",
      "shivam\n",
      "3\n",
      "suraj\n",
      "User drfind Dictionary : {'1': 'ankush', '2': 'shivam', '3': 'suraj'}\n",
      "its List of keys : ['1', '2', '3']\n",
      "its List of keys in Desending order : ['3', '2', '1']\n",
      "Dictionary in Desending order : {'3': 'suraj', '2': 'shivam', '1': 'ankush'}\n"
     ]
    }
   ],
   "source": [
    "# 4) sort a Dictionary By its keys in desending order ?\n",
    "\n",
    "m={}     # it declaration for new Dictionary of Desending order  \n",
    "d={}     # it declaration for user defind Dictionary \n",
    "n=int(input(\"Enter a lenght of dictionary :\"))\n",
    "for i in range(n):\n",
    "    k=input()\n",
    "    v=input()\n",
    "    d.update({k:v})\n",
    "print(\"User drfind Dictionary :\",d)\n",
    "l=list(d.keys())\n",
    "print(\"its List of keys :\",l)\n",
    "l.sort(reverse=True)\n",
    "print(\"its List of keys in Desending order :\",l)\n",
    "for i in l:\n",
    "    k=i\n",
    "    v=d[i]\n",
    "    m.update({k:v})\n",
    "print(\"Dictionary in Desending order :\",m)\n",
    "\n"
   ]
  },
  {
   "cell_type": "code",
   "execution_count": 51,
   "id": "969e64a2",
   "metadata": {},
   "outputs": [
    {
     "name": "stdout",
     "output_type": "stream",
     "text": [
      "Enter a lenght of dictionary :3\n",
      "1\n",
      "ankush\n",
      "4\n",
      "gupta\n",
      "2\n",
      "ankushgupta\n",
      "Dictionary is : {'1': 'ankush', '4': 'gupta', '2': 'ankushgupta'}\n",
      "keys of Dictionary : dict_keys(['1', '4', '2'])\n",
      "List of keys : ['1', '4', '2']\n",
      "The max  size of the word of batch data : ankushgupta   and key of the data : 2\n"
     ]
    }
   ],
   "source": [
    "# 5) write a program to find max. size of Batch code from a Dictionary when keys values in the Dictionary are \n",
    "#    are batch code and  data value are size of the batch ?\n",
    "\n",
    "d={}     # it declaration for user defind Dictionary \n",
    "n=int(input(\"Enter a lenght of dictionary :\"))\n",
    "for i in range(n):\n",
    "    k=input()\n",
    "    v=input()\n",
    "    d.update({k:v})\n",
    "print(\"Dictionary is :\",d)\n",
    "print(\"keys of Dictionary :\",d.keys())\n",
    "l=list(d.keys())\n",
    "print(\"List of keys :\",l)\n",
    "for i in l:\n",
    "    Temp=0\n",
    "    if len(d[i])>Temp:\n",
    "        Temp=d[i]\n",
    "        Tem_key=0\n",
    "        Temp_key=i\n",
    "        \n",
    "print(\"The max  size of the word of batch data :\",Temp,\"  and key of the data :\",Temp_key)"
   ]
  },
  {
   "cell_type": "code",
   "execution_count": 15,
   "id": "dc29d266",
   "metadata": {},
   "outputs": [
    {
     "name": "stdout",
     "output_type": "stream",
     "text": [
      "Enter principle amount :1000\n",
      "Enter interest :4\n",
      "Enter Year :2\n",
      "Total Amount  : 1081.6\n"
     ]
    }
   ],
   "source": [
    "# Find compund interest ?\n",
    "\n",
    "def ci(p,r,y):\n",
    "    for i in range(y):\n",
    "        p=(p*(r/100))+p\n",
    "    return p\n",
    "\n",
    "p_amount=int(input(\"Enter principle amount :\"))\n",
    "r_interest=float(input(\"Enter interest :\"))\n",
    "y_year=int(input(\"Enter Year :\"))\n",
    "print(\"Total Amount  :\",ci(p_amount,r_interest,y_year))"
   ]
  },
  {
   "cell_type": "code",
   "execution_count": 33,
   "id": "04efdf91",
   "metadata": {},
   "outputs": [
    {
     "name": "stdout",
     "output_type": "stream",
     "text": [
      "5 5 5 5 5\n",
      "The Average of number : 5.0\n"
     ]
    }
   ],
   "source": [
    "# Find average of n number ?\n",
    "\n",
    "def average(l):\n",
    "    Temp=0\n",
    "    for i in l:\n",
    "        Temp+=int(i)\n",
    "    return (Temp/len(l))\n",
    "\n",
    "str1=input()\n",
    "l=str1.split(\" \")\n",
    "print(\"The Average of number :\",average(l))"
   ]
  },
  {
   "cell_type": "code",
   "execution_count": 13,
   "id": "4b421fda",
   "metadata": {},
   "outputs": [
    {
     "name": "stdout",
     "output_type": "stream",
     "text": [
      "Enter a string of eliment :1 2 3 4 2 1\n",
      "The greatest eliment of list : 4\n"
     ]
    }
   ],
   "source": [
    "# write a program  which takes variable lenght argument to find greatest \n",
    "#      eliment it will return greatest eliment Using fuction ?\n",
    "\n",
    "def greatest(str1):\n",
    "    l=str1.split(\" \")\n",
    "    Temp=0\n",
    "    for i in l:\n",
    "        if int(i)>Temp:\n",
    "            Temp=int(i)\n",
    "    return Temp\n",
    "str1=(input(\"Enter a string of eliment :\"))\n",
    "print(\"The greatest eliment of list :\",greatest(str1))"
   ]
  },
  {
   "cell_type": "code",
   "execution_count": 17,
   "id": "97141202",
   "metadata": {},
   "outputs": [
    {
     "name": "stdout",
     "output_type": "stream",
     "text": [
      "Enter a string :ankush aakash mahesh manish aman rocky minakshi  krish\n",
      "The lenght of indivisually string : 8\n",
      " Maximum string and same lenght of mul. string : ['minakshi']\n"
     ]
    }
   ],
   "source": [
    "# write a python Funtion which takes variable lenght argument to receive string return\n",
    "#    the list of maximum lenght of string or string if  multiple string have the same string ?\n",
    "\n",
    "def mul_string(str1):\n",
    "    l=str1.split(\" \")\n",
    "    m=[]\n",
    "    Temp=0\n",
    "    num=len(l)\n",
    "    for i in range(num):\n",
    "        if len(l[i])>Temp:\n",
    "            Temp=len(l[i])\n",
    "    for i in range(num):\n",
    "        if len(l[i])>=Temp:\n",
    "            m.append(l[i])\n",
    "    return m\n",
    "\n",
    "str1=input(\"Enter a string :\")\n",
    "lenght=len(mul_string(str1)[0]) \n",
    "print(\"The lenght of indivisually string :\",lenght)\n",
    "print(\" Maximum string and same lenght of mul. string :\",mul_string(str1))"
   ]
  },
  {
   "cell_type": "code",
   "execution_count": null,
   "id": "b0deb6e9",
   "metadata": {},
   "outputs": [],
   "source": []
  }
 ],
 "metadata": {
  "kernelspec": {
   "display_name": "Python 3 (ipykernel)",
   "language": "python",
   "name": "python3"
  },
  "language_info": {
   "codemirror_mode": {
    "name": "ipython",
    "version": 3
   },
   "file_extension": ".py",
   "mimetype": "text/x-python",
   "name": "python",
   "nbconvert_exporter": "python",
   "pygments_lexer": "ipython3",
   "version": "3.11.4"
  }
 },
 "nbformat": 4,
 "nbformat_minor": 5
}
