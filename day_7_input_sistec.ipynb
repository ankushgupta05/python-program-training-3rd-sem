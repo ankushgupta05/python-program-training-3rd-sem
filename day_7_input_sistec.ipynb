{
 "cells": [
  {
   "cell_type": "code",
   "execution_count": 5,
   "id": "345c8235",
   "metadata": {},
   "outputs": [
    {
     "name": "stdout",
     "output_type": "stream",
     "text": [
      "Enter number :33\n",
      "33\n",
      "<class 'str'>\n",
      "33\n",
      "<class 'int'>\n"
     ]
    }
   ],
   "source": [
    "# basic input \n",
    "n=input(\"Enter number :\")\n",
    "print(n)\n",
    "print(type(n))\n",
    "m=int(n)\n",
    "print(m)\n",
    "print(type(m))"
   ]
  },
  {
   "cell_type": "code",
   "execution_count": 7,
   "id": "432ae5ae",
   "metadata": {},
   "outputs": [
    {
     "name": "stdout",
     "output_type": "stream",
     "text": [
      "Enter number :11\n",
      "Enter number :11\n",
      "Enter number :11\n",
      "\n",
      "Enter Three Number :\n",
      "22\n",
      "22\n",
      "22\n"
     ]
    }
   ],
   "source": [
    "#  if three Numbr input ?\n",
    "a=input(\"Enter number :\")\n",
    "b=input(\"Enter number :\")\n",
    "c=input(\"Enter number :\")\n",
    "print()\n",
    "# EITHER second way \n",
    "print(\"Enter Three Number :\")\n",
    "for i in range(0,3):\n",
    "    input()"
   ]
  },
  {
   "cell_type": "code",
   "execution_count": 9,
   "id": "4660e3da",
   "metadata": {
    "scrolled": true
   },
   "outputs": [
    {
     "name": "stdout",
     "output_type": "stream",
     "text": [
      "Enter numbers :12 23 43 43 22\n",
      "['12', '23', '43', '43', '22']\n",
      "<class 'list'>\n"
     ]
    }
   ],
   "source": [
    "# \n",
    "n=input(\"Enter numbers :\").split()   # Convert into list in the respect of space .\n",
    "print(n)\n",
    "print(type(n))"
   ]
  },
  {
   "cell_type": "code",
   "execution_count": null,
   "id": "c1354031",
   "metadata": {},
   "outputs": [],
   "source": [
    "# "
   ]
  },
  {
   "cell_type": "code",
   "execution_count": 12,
   "id": "2047de24",
   "metadata": {
    "scrolled": true
   },
   "outputs": [
    {
     "name": "stdout",
     "output_type": "stream",
     "text": [
      "Enter two number :12 23\n",
      "12 23\n",
      "<class 'str'> <class 'str'>\n"
     ]
    }
   ],
   "source": [
    "# \n",
    "x,y=input(\"Enter two number :\").split()\n",
    "print(int(x),int(y))\n",
    "print(type(x),type(y))"
   ]
  },
  {
   "cell_type": "code",
   "execution_count": 15,
   "id": "6e5d2225",
   "metadata": {},
   "outputs": [
    {
     "name": "stdout",
     "output_type": "stream",
     "text": [
      "ente a number :12 45\n",
      "12 45\n",
      "57\n"
     ]
    }
   ],
   "source": [
    "# integer value Two value ? \n",
    "x,y=[int(i) for i in input(\"ente a number :\").split()]\n",
    "print(x,y)\n",
    "print(x+y)"
   ]
  },
  {
   "cell_type": "code",
   "execution_count": 14,
   "id": "3c1fd6d2",
   "metadata": {},
   "outputs": [
    {
     "name": "stdout",
     "output_type": "stream",
     "text": [
      "ente a number :12 23\n",
      "12 23\n"
     ]
    }
   ],
   "source": [
    "#  string value Two value  ?\n",
    "x,y=[i for i in input(\"ente a number :\").split()] \n",
    "print(x,y)"
   ]
  },
  {
   "cell_type": "code",
   "execution_count": 17,
   "id": "5592ce34",
   "metadata": {},
   "outputs": [
    {
     "name": "stdout",
     "output_type": "stream",
     "text": [
      "ente  numbers :2 3 4 5 6 \n",
      "[2, 3, 4, 5, 6]\n"
     ]
    }
   ],
   "source": [
    "# integer value Many values ? \n",
    "y=[int(i) for i in input(\"ente  numbers :\").split()]\n",
    "print(y)\n"
   ]
  },
  {
   "cell_type": "code",
   "execution_count": 21,
   "id": "fe062cbc",
   "metadata": {},
   "outputs": [
    {
     "name": "stdout",
     "output_type": "stream",
     "text": [
      "ente  numbers :2 2 3 3 \n",
      "2.5\n",
      "\n",
      "ente  numbers :3 4 5 6\n",
      "4.5\n"
     ]
    }
   ],
   "source": [
    "# Find a average of number ?\n",
    "res=0\n",
    "y=[int(i) for i in input(\"ente  numbers :\").split()]\n",
    "num=len(y)\n",
    "for i in y:\n",
    "    res+=i\n",
    "print(res/num)\n",
    "\n",
    "# Either second way ?\n",
    "\n",
    "print()\n",
    "y=[int(i) for i in input(\"ente  numbers :\").split()]\n",
    "print(sum(y)/len(y))\n"
   ]
  },
  {
   "cell_type": "markdown",
   "id": "4db5f718",
   "metadata": {},
   "source": [
    "# Many format of Output"
   ]
  },
  {
   "cell_type": "code",
   "execution_count": 22,
   "id": "0e1e0712",
   "metadata": {
    "scrolled": true
   },
   "outputs": [
    {
     "name": "stdout",
     "output_type": "stream",
     "text": [
      "enter name :22\n",
      "ente age :22\n",
      "enter weight :22\n",
      "This is name :\n",
      "This is name :\n",
      "This is name :  22 22 22.0\n"
     ]
    }
   ],
   "source": [
    "# this is a wrong way .\n",
    "name=input(\"enter name :\")\n",
    "age=int(input(\"ente age :\"))\n",
    "weight =float(input(\"enter weight :\"))\n",
    "\n",
    "print(\"This is name :\\nThis is name :\\nThis is name : \",name,age,weight)"
   ]
  },
  {
   "cell_type": "code",
   "execution_count": 26,
   "id": "21b73190",
   "metadata": {
    "scrolled": true
   },
   "outputs": [
    {
     "name": "stdout",
     "output_type": "stream",
     "text": [
      "enter name :ankush gupta\n",
      "ente age :18\n",
      "enter weight :60\n",
      "\n",
      "This is name : ankush gupta \n",
      "This is age : 18 \n",
      " This is weight : 60.0 \n"
     ]
    }
   ],
   "source": [
    "# this is a Right way and it done with the help of format function .\n",
    "name=input(\"enter name :\")\n",
    "age=int(input(\"ente age :\"))\n",
    "weight =float(input(\"enter weight :\"))\n",
    "print()\n",
    "\n",
    "print(\"This is name : {} \\nThis is age : {} \\n This is weight : {} \".format(name,age,weight))"
   ]
  },
  {
   "cell_type": "code",
   "execution_count": 31,
   "id": "08dcfd89",
   "metadata": {},
   "outputs": [
    {
     "name": "stdout",
     "output_type": "stream",
     "text": [
      "\n",
      "This is name : ankush gupta \n",
      "This is age : 18 \n",
      " This is weight : 60 \n",
      "\n",
      "This is name :ankush gupta  \n",
      "This is age :18 \n",
      " This is weight :60.000000 \n",
      "\n",
      "This is name :ankush gupta  \n",
      "This is age :18 \n",
      " This is weight :60.000000 \n"
     ]
    }
   ],
   "source": [
    "# \n",
    "name=\"ankush gupta\"\n",
    "age=18\n",
    "weight=60\n",
    "print()\n",
    "print(\"This is name : {} \\nThis is age : {} \\n This is weight : {} \".format(name,age,weight))\n",
    "print()\n",
    "print(\"This is name :%s  \\nThis is age :%d \\n This is weight :%f \"% (name,age,weight))\n",
    "print()\n",
    "print(\"This is name :%s  \\nThis is age :%i \\n This is weight :%f \"% (name,age,weight))\n",
    "\n",
    "# i-->int \n",
    "#\n",
    "#\n",
    "#"
   ]
  },
  {
   "cell_type": "code",
   "execution_count": 40,
   "id": "8cb43c3c",
   "metadata": {},
   "outputs": [
    {
     "name": "stdout",
     "output_type": "stream",
     "text": [
      "this is flaot value :90.74836592837458\n"
     ]
    }
   ],
   "source": [
    "x=90.748365928374587452547849575475674674\n",
    "print(\"this is flaot value :{}\".format(x))"
   ]
  },
  {
   "cell_type": "code",
   "execution_count": 41,
   "id": "e27bd4c2",
   "metadata": {},
   "outputs": [
    {
     "name": "stdout",
     "output_type": "stream",
     "text": [
      "this is flaot value :90.748366\n"
     ]
    }
   ],
   "source": [
    "x=90.748365928374587452547849575475674674\n",
    "print(\"this is flaot value :{:f}\".format(x))\n"
   ]
  },
  {
   "cell_type": "code",
   "execution_count": 46,
   "id": "179ed06e",
   "metadata": {
    "scrolled": true
   },
   "outputs": [
    {
     "name": "stdout",
     "output_type": "stream",
     "text": [
      "this is flaot value :12345678.123\n",
      "this is flaot value :12345678.12346\n",
      "this is flaot value :12345678.123457\n",
      "this is flaot value :12345678.1234568\n",
      "this is flaot value :12345678.12345679\n",
      "this is flaot value :12345678.123456789\n"
     ]
    }
   ],
   "source": [
    "x=12345678.123456789123456789\n",
    "print(\"this is flaot value :{:8.3f}\".format(x))\n",
    "print(\"this is flaot value :{:8.5f}\".format(x))\n",
    "print(\"this is flaot value :{:8.6f}\".format(x))\n",
    "print(\"this is flaot value :{:8.7f}\".format(x))\n",
    "print(\"this is flaot value :{:8.8f}\".format(x))\n",
    "print(\"this is flaot value :{:8.9f}\".format(x))"
   ]
  },
  {
   "cell_type": "code",
   "execution_count": 47,
   "id": "21c1cb6d",
   "metadata": {},
   "outputs": [
    {
     "name": "stdout",
     "output_type": "stream",
     "text": [
      "the list is :[10, 20, 30, 40, 50]\n"
     ]
    }
   ],
   "source": [
    "# list also works on the format output .\n",
    "x=[10,20,30,40,50]\n",
    "print(\"the list is :{}\".format(x))\n",
    "\n",
    "# Touple , Dictionary ,set all work on format output ."
   ]
  },
  {
   "cell_type": "code",
   "execution_count": 48,
   "id": "b2bb7191",
   "metadata": {},
   "outputs": [
    {
     "name": "stdout",
     "output_type": "stream",
     "text": [
      "My name ankush gupta. My age 35 and weight is 66.6\n"
     ]
    }
   ],
   "source": [
    "# It is a another way to take output\n",
    "name =\"ankush gupta\"\n",
    "age=35\n",
    "weight=66.6\n",
    "print( f \"My name {name}. My age {age} and weight is {weight}\" )"
   ]
  },
  {
   "cell_type": "markdown",
   "id": "b3a9289b",
   "metadata": {},
   "source": [
    "# Function"
   ]
  },
  {
   "cell_type": "code",
   "execution_count": 49,
   "id": "2780834a",
   "metadata": {
    "scrolled": true
   },
   "outputs": [
    {
     "name": "stdout",
     "output_type": "stream",
     "text": [
      "Enter 1st number :20\n",
      "Enter 2nd number :20\n",
      "sum of numbr : 40\n"
     ]
    }
   ],
   "source": [
    "# concept of Fuction ?\n",
    "# keyword is a reserved word [predefind word in python] .\n",
    "# [Reusibility of code ] its a most significienced of Function ?\n",
    "# defination --> its Block of code it use again & again when you call it.\n",
    "\n",
    "# simple program of function Empty argument  ?\n",
    "\n",
    "def add():     # No argument\n",
    "    a=int(input(\"Enter 1st number :\"))\n",
    "    b=int(input(\"Enter 2nd number :\"))\n",
    "    print(\"sum of numbr :\",a+b)\n",
    "    \n",
    "    \n",
    "add()        # calling of Function \n"
   ]
  },
  {
   "cell_type": "code",
   "execution_count": 57,
   "id": "7f22d117",
   "metadata": {
    "scrolled": false
   },
   "outputs": [
    {
     "name": "stdout",
     "output_type": "stream",
     "text": [
      "outside fuction\n",
      "sum of numbr : 15\n",
      "inside fuction \n"
     ]
    }
   ],
   "source": [
    "# simple function of throught argument ?\n",
    "\n",
    "def function(a,b):      \n",
    "    print(\"sum of numbr :\",a+b)\n",
    "    print(\"inside fuction \")\n",
    "    \n",
    "    \n",
    "    \n",
    "print(\"outside fuction\")\n",
    "n=5\n",
    "m=10\n",
    "function(m,n)"
   ]
  },
  {
   "cell_type": "code",
   "execution_count": 58,
   "id": "a17e8f51",
   "metadata": {
    "collapsed": true
   },
   "outputs": [
    {
     "name": "stdout",
     "output_type": "stream",
     "text": [
      "outside function\n",
      "inside function\n",
      "20\n"
     ]
    }
   ],
   "source": [
    "# simple function of throught argument ?\n",
    "\n",
    "def function(a,b):\n",
    "    print(\"inside function\")\n",
    "    return a+b    # return value( after calculetion value gives x variable)\n",
    "\n",
    "\n",
    "print(\"outside function\")\n",
    "a=10\n",
    "b=10\n",
    "x=function(a,b)   # calling value ?\n",
    "print(x)"
   ]
  },
  {
   "cell_type": "code",
   "execution_count": null,
   "id": "034a0dab",
   "metadata": {},
   "outputs": [],
   "source": [
    "# function two time ?\n",
    "\n",
    "# pre defind function \n",
    "# user defind function"
   ]
  }
 ],
 "metadata": {
  "kernelspec": {
   "display_name": "Python 3 (ipykernel)",
   "language": "python",
   "name": "python3"
  },
  "language_info": {
   "codemirror_mode": {
    "name": "ipython",
    "version": 3
   },
   "file_extension": ".py",
   "mimetype": "text/x-python",
   "name": "python",
   "nbconvert_exporter": "python",
   "pygments_lexer": "ipython3",
   "version": "3.11.3"
  }
 },
 "nbformat": 4,
 "nbformat_minor": 5
}
