{
 "cells": [
  {
   "cell_type": "markdown",
   "id": "baccac08",
   "metadata": {},
   "source": [
    "# concept of set"
   ]
  },
  {
   "cell_type": "code",
   "execution_count": 2,
   "id": "61e06463",
   "metadata": {},
   "outputs": [
    {
     "name": "stdout",
     "output_type": "stream",
     "text": [
      "{}\n",
      "<class 'dict'>\n"
     ]
    }
   ],
   "source": [
    " s={}   # It called by Default Dictionary ?\n",
    "print(s)\n",
    "print(type(s))"
   ]
  },
  {
   "cell_type": "code",
   "execution_count": 5,
   "id": "34353040",
   "metadata": {},
   "outputs": [
    {
     "name": "stdout",
     "output_type": "stream",
     "text": [
      "set()\n",
      "<class 'set'>\n"
     ]
    }
   ],
   "source": [
    "s=set()  # set can be defind this kind and but actual loot it s={}\n",
    "print(s)\n",
    "print(type(s))"
   ]
  },
  {
   "cell_type": "code",
   "execution_count": 17,
   "id": "4f0e5b9f",
   "metadata": {},
   "outputs": [
    {
     "ename": "TypeError",
     "evalue": "set.add() takes exactly one argument (2 given)",
     "output_type": "error",
     "traceback": [
      "\u001b[1;31m---------------------------------------------------------------------------\u001b[0m",
      "\u001b[1;31mTypeError\u001b[0m                                 Traceback (most recent call last)",
      "Cell \u001b[1;32mIn[17], line 5\u001b[0m\n\u001b[0;32m      3\u001b[0m \u001b[38;5;66;03m#s1+s2  # it can not be possible for the set datatype \u001b[39;00m\n\u001b[0;32m      4\u001b[0m s1\u001b[38;5;241m.\u001b[39madd(\u001b[38;5;124m\"\u001b[39m\u001b[38;5;124mramesg\u001b[39m\u001b[38;5;124m\"\u001b[39m)\n\u001b[1;32m----> 5\u001b[0m s2\u001b[38;5;241m.\u001b[39madd(\u001b[38;5;124m\"\u001b[39m\u001b[38;5;124mmanoj\u001b[39m\u001b[38;5;124m\"\u001b[39m,\u001b[38;5;124m\"\u001b[39m\u001b[38;5;124msuman\u001b[39m\u001b[38;5;124m\"\u001b[39m)\n\u001b[0;32m      6\u001b[0m s1\n\u001b[0;32m      7\u001b[0m s2\n",
      "\u001b[1;31mTypeError\u001b[0m: set.add() takes exactly one argument (2 given)"
     ]
    }
   ],
   "source": [
    "s1={\"ankush\",\"gupta\",\"aman\",\"mahesh\"}\n",
    "s2={\"anil\",\"animesh\",\"manaly\"}\n",
    "#  s1+s2  # it can not be possible for the set datatype bcz set of order less\n",
    "s1.add(\"ramesg\")\n",
    "# s2.add(\"manoj\",\"suman\") Two argument can not be add \n",
    "s1"
   ]
  },
  {
   "cell_type": "code",
   "execution_count": 20,
   "id": "ccb4da30",
   "metadata": {},
   "outputs": [
    {
     "name": "stdout",
     "output_type": "stream",
     "text": [
      "{1, 2, 4, 6, 8} {2, 3, 5, 7}\n"
     ]
    }
   ],
   "source": [
    "s1={1,2,4,6,8}\n",
    "s2={3,5,7,2}\n",
    "print(s1,s2) # This is possible\n"
   ]
  },
  {
   "cell_type": "code",
   "execution_count": 13,
   "id": "8ca3dcbd",
   "metadata": {},
   "outputs": [
    {
     "name": "stdout",
     "output_type": "stream",
     "text": [
      "{1, 2, 3, 4, 5, 6, 7, 8}\n"
     ]
    }
   ],
   "source": [
    "# many fuction of set.\n",
    "\n",
    "s1={1,2,4,6,8}\n",
    "s2={3,5,7,2,4,6,8}\n",
    "s1=s1.union(s2) # union() fuction is use to print unique digit in set \n",
    "print(s1)  \n"
   ]
  },
  {
   "cell_type": "code",
   "execution_count": 11,
   "id": "d963c1b9",
   "metadata": {},
   "outputs": [
    {
     "name": "stdout",
     "output_type": "stream",
     "text": [
      "{8, 2, 4, 6}\n"
     ]
    }
   ],
   "source": [
    "s1={1,2,4,6,8}\n",
    "s2={3,5,7,2,4,6,8}\n",
    "s1=s1.intersection(s2) # interswction function display common digit \n",
    "print(s1)"
   ]
  },
  {
   "cell_type": "code",
   "execution_count": 18,
   "id": "b23aae56",
   "metadata": {},
   "outputs": [
    {
     "name": "stdout",
     "output_type": "stream",
     "text": [
      "{1}\n"
     ]
    }
   ],
   "source": [
    "s1={1,2,4,6,8}\n",
    "s2={3,5,7,2,4,6,8}\n",
    "s3=s1.difference(s2)    # difference() fuction use to print which is not same to other value\n",
    "print(s3)"
   ]
  },
  {
   "cell_type": "code",
   "execution_count": 41,
   "id": "d619f696",
   "metadata": {},
   "outputs": [
    {
     "name": "stdout",
     "output_type": "stream",
     "text": [
      "True\n"
     ]
    }
   ],
   "source": [
    "# issuperset()\n",
    "\n",
    "s1={\"ankush\",\"gupta\"}\n",
    "s2={\"ankush\",\"gupta\"}\n",
    "s3=s2.issuperset(s1)   # issuperset() display set function is same or not \n",
    "print(s3)\n"
   ]
  },
  {
   "cell_type": "code",
   "execution_count": 35,
   "id": "26fbe87e",
   "metadata": {},
   "outputs": [
    {
     "data": {
      "text/plain": [
       "False"
      ]
     },
     "execution_count": 35,
     "metadata": {},
     "output_type": "execute_result"
    }
   ],
   "source": [
    "s1={\"ankush\",\"gupta\"}\n",
    "s2={\"anju\",\"gupta\"}  # isdisjoint() display true if all value of set is different .\n",
    "s3=s1.isdisjoint(s2)\n",
    "s3"
   ]
  },
  {
   "cell_type": "code",
   "execution_count": 47,
   "id": "4a993257",
   "metadata": {},
   "outputs": [
    {
     "data": {
      "text/plain": [
       "True"
      ]
     },
     "execution_count": 47,
     "metadata": {},
     "output_type": "execute_result"
    }
   ],
   "source": [
    "s1={\"ankush\",\"gupta\"}\n",
    "s2={\"ankush\",\"gupta\",\"aman\",\"remesh\"}\n",
    "s3=s1.issubset(s2)   # issubset() display if s1 set is subset of s2 \n",
    "s3"
   ]
  },
  {
   "cell_type": "code",
   "execution_count": 64,
   "id": "77428922",
   "metadata": {},
   "outputs": [
    {
     "name": "stdout",
     "output_type": "stream",
     "text": [
      "{'remesh', 'gupta', 'ankush'}\n"
     ]
    }
   ],
   "source": [
    "s2={\"ankush\",\"gupta\",\"aman\",\"remesh\"}\n",
    "s2.discard(\"aman\")\n",
    "#  s3=discard(\"aman\")  we can not declare through this kind \n",
    "print(s2)"
   ]
  },
  {
   "cell_type": "code",
   "execution_count": 126,
   "id": "1be60f99",
   "metadata": {},
   "outputs": [
    {
     "name": "stdout",
     "output_type": "stream",
     "text": [
      "{2, 4, 6, 8, 10}\n"
     ]
    }
   ],
   "source": [
    "# output of set ?\n",
    "x={ i  for i in range(1,11) if i%2==0}\n",
    "print(x)"
   ]
  },
  {
   "cell_type": "code",
   "execution_count": 125,
   "id": "fb399faa",
   "metadata": {},
   "outputs": [
    {
     "name": "stdout",
     "output_type": "stream",
     "text": [
      "{3, 5, 7, 9, 11}\n"
     ]
    }
   ],
   "source": [
    "# output of set ?\n",
    "x={ i+1  for i in range(1,11) if i%2==0}\n",
    "print(x)"
   ]
  },
  {
   "cell_type": "code",
   "execution_count": 130,
   "id": "4e40da36",
   "metadata": {},
   "outputs": [
    {
     "name": "stdout",
     "output_type": "stream",
     "text": [
      "ankush gupta\n",
      "{'gupta', 'ankush'}\n"
     ]
    }
   ],
   "source": [
    "x={ i for i in input().split()}\n",
    "print(x)"
   ]
  },
  {
   "cell_type": "code",
   "execution_count": 127,
   "id": "96cecde9",
   "metadata": {},
   "outputs": [
    {
     "name": "stdout",
     "output_type": "stream",
     "text": [
      "ankush gupta\n",
      "{'p', ' ', 't', 'g', 'h', 'a', 's', 'k', 'u', 'n'}\n"
     ]
    }
   ],
   "source": [
    "x={ i for i in input()}\n",
    "print(x)"
   ]
  },
  {
   "cell_type": "markdown",
   "id": "5bda33ed",
   "metadata": {},
   "source": [
    "# some concept of Dictionary . "
   ]
  },
  {
   "cell_type": "code",
   "execution_count": 66,
   "id": "68062377",
   "metadata": {},
   "outputs": [
    {
     "name": "stdout",
     "output_type": "stream",
     "text": [
      "{}\n",
      "<class 'dict'>\n"
     ]
    }
   ],
   "source": [
    "s={}\n",
    "print(s)\n",
    "print(type(s))"
   ]
  },
  {
   "cell_type": "code",
   "execution_count": 70,
   "id": "8fa42168",
   "metadata": {},
   "outputs": [
    {
     "name": "stdout",
     "output_type": "stream",
     "text": [
      "{'a': 'ankush', 'b': 'gupta', 'c': 'nikhil', 'd': 'aman'}\n",
      "dict_keys(['a', 'b', 'c', 'd'])\n",
      "dict_values(['ankush', 'gupta', 'nikhil', 'aman'])\n",
      "dict_items([('a', 'ankush'), ('b', 'gupta'), ('c', 'nikhil'), ('d', 'aman')])\n"
     ]
    }
   ],
   "source": [
    "s={\"a\":\"ankush\",\"b\":\"gupta\",\"c\":\"nikhil\",\"d\":\"aman\"}\n",
    "print(s)\n",
    "s1=s.keys()  # key() displays all keyword \n",
    "print(s1)  \n",
    "s2=s.values()  # values() displays all value of keyward\n",
    "print(s2)\n",
    "s3=s.items()   # items() displays all item of the Dictionary \n",
    "print(s3) "
   ]
  },
  {
   "cell_type": "code",
   "execution_count": 89,
   "id": "ec8fddaa",
   "metadata": {},
   "outputs": [
    {
     "name": "stdout",
     "output_type": "stream",
     "text": [
      "a\n",
      "b\n",
      "c\n",
      "d\n",
      "e\n",
      "\n",
      "\n",
      "a\n",
      "b\n",
      "c\n",
      "d\n",
      "e\n"
     ]
    }
   ],
   "source": [
    "keys of Dictionary print ?\n",
    "\n",
    "s={\"a\":\"ankush\",\"b\":\"gupta\",\"c\":\"nikhil\",\"d\":\"aman\",\"e\":\"mahesh\"}\n",
    "for keys  in s.keys():\n",
    "    print(keys)\n",
    "    \n",
    "print()\n",
    "print()\n",
    "for i in s.keys():    # above and this example both are same\n",
    "    print(i)"
   ]
  },
  {
   "cell_type": "code",
   "execution_count": 91,
   "id": "3a6b8ffa",
   "metadata": {},
   "outputs": [
    {
     "name": "stdout",
     "output_type": "stream",
     "text": [
      "ankush\n",
      "gupta\n",
      "nikhil\n",
      "aman\n",
      "\n",
      "\n",
      "ankush\n",
      "gupta\n",
      "nikhil\n",
      "aman\n"
     ]
    }
   ],
   "source": [
    "# value of Dictonary print ?\n",
    "\n",
    "s={\"a\":\"ankush\",\"b\":\"gupta\",\"c\":\"nikhil\",\"d\":\"aman\"}\n",
    "for values in s.values():\n",
    "    print(values) # above example and this both are same \n",
    "    \n",
    "print()\n",
    "print()\n",
    "for i in s.values():\n",
    "    print(i)"
   ]
  },
  {
   "cell_type": "code",
   "execution_count": 97,
   "id": "d17eb4e4",
   "metadata": {},
   "outputs": [
    {
     "name": "stdout",
     "output_type": "stream",
     "text": [
      "a ankush\n",
      "b gupta\n",
      "c nikhil\n",
      "d aman\n"
     ]
    }
   ],
   "source": [
    "# \n",
    "s={\"a\":\"ankush\",\"b\":\"gupta\",\"c\":\"nikhil\",\"d\":\"aman\"}\n",
    "for values in s.keys(): \n",
    "    print(values,s[values]) "
   ]
  },
  {
   "cell_type": "code",
   "execution_count": 102,
   "id": "c1f84e97",
   "metadata": {},
   "outputs": [
    {
     "ename": "KeyError",
     "evalue": "'ankush'",
     "output_type": "error",
     "traceback": [
      "\u001b[1;31m---------------------------------------------------------------------------\u001b[0m",
      "\u001b[1;31mKeyError\u001b[0m                                  Traceback (most recent call last)",
      "Cell \u001b[1;32mIn[102], line 4\u001b[0m\n\u001b[0;32m      2\u001b[0m s\u001b[38;5;241m=\u001b[39m{\u001b[38;5;124m\"\u001b[39m\u001b[38;5;124ma\u001b[39m\u001b[38;5;124m\"\u001b[39m:\u001b[38;5;124m\"\u001b[39m\u001b[38;5;124mankush\u001b[39m\u001b[38;5;124m\"\u001b[39m,\u001b[38;5;124m\"\u001b[39m\u001b[38;5;124mb\u001b[39m\u001b[38;5;124m\"\u001b[39m:\u001b[38;5;124m\"\u001b[39m\u001b[38;5;124mgupta\u001b[39m\u001b[38;5;124m\"\u001b[39m,\u001b[38;5;124m\"\u001b[39m\u001b[38;5;124mc\u001b[39m\u001b[38;5;124m\"\u001b[39m:\u001b[38;5;124m\"\u001b[39m\u001b[38;5;124mnikhil\u001b[39m\u001b[38;5;124m\"\u001b[39m,\u001b[38;5;124m\"\u001b[39m\u001b[38;5;124md\u001b[39m\u001b[38;5;124m\"\u001b[39m:\u001b[38;5;124m\"\u001b[39m\u001b[38;5;124maman\u001b[39m\u001b[38;5;124m\"\u001b[39m}\n\u001b[0;32m      3\u001b[0m \u001b[38;5;28;01mfor\u001b[39;00m values \u001b[38;5;129;01min\u001b[39;00m s\u001b[38;5;241m.\u001b[39mvalues():   \u001b[38;5;66;03m# this is a wrong way \u001b[39;00m\n\u001b[1;32m----> 4\u001b[0m     \u001b[38;5;28mprint\u001b[39m(s[values])\n",
      "\u001b[1;31mKeyError\u001b[0m: 'ankush'"
     ]
    }
   ],
   "source": [
    "# \n",
    "s={\"a\":\"ankush\",\"b\":\"gupta\",\"c\":\"nikhil\",\"d\":\"aman\"}\n",
    "for values in s.values():   # this is a wrong way \n",
    "    print(s[values])"
   ]
  },
  {
   "cell_type": "code",
   "execution_count": 101,
   "id": "8c5fc98f",
   "metadata": {},
   "outputs": [
    {
     "name": "stdout",
     "output_type": "stream",
     "text": [
      "ankush\n",
      "gupta\n",
      "nikhil\n",
      "aman\n"
     ]
    }
   ],
   "source": [
    "# \n",
    "s={\"a\":\"ankush\",\"b\":\"gupta\",\"c\":\"nikhil\",\"d\":\"aman\"}\n",
    "for values in s:   # this is a also right but not proper right  \n",
    "    print(s[values])"
   ]
  },
  {
   "cell_type": "code",
   "execution_count": 106,
   "id": "167a4721",
   "metadata": {},
   "outputs": [
    {
     "name": "stdout",
     "output_type": "stream",
     "text": [
      "The keys is  a   and his value is   ankush\n",
      "The keys is  b   and his value is   gupta\n",
      "The keys is  c   and his value is   nikhil\n",
      "The keys is  d   and his value is   aman\n"
     ]
    }
   ],
   "source": [
    "# Loop with keys and his value both are present ?\n",
    "\n",
    "s={\"a\":\"ankush\",\"b\":\"gupta\",\"c\":\"nikhil\",\"d\":\"aman\"}\n",
    "for i in s:\n",
    "    print(\"The keys is \",i,\"  and his value is  \",s[i])\n"
   ]
  },
  {
   "cell_type": "code",
   "execution_count": 110,
   "id": "8a401eaa",
   "metadata": {},
   "outputs": [
    {
     "name": "stdout",
     "output_type": "stream",
     "text": [
      "a\n",
      "ankush\n",
      "b\n",
      "gupta\n",
      "c\n",
      "aman\n",
      "d\n",
      "ramesh\n",
      "The Dictionary is : {'a': 'ankush', 'b': 'gupta', 'c': 'aman', 'd': 'ramesh'}\n"
     ]
    }
   ],
   "source": [
    "# input of Dictionary using update() fucntion ?\n",
    "\n",
    "d={}\n",
    "for i in range(1,5):\n",
    "    k=input()\n",
    "    v=input()\n",
    "    d.update({k:v})\n",
    "print(\"The Dictionary is :\",d)\n",
    "    \n",
    "    \n",
    "    "
   ]
  },
  {
   "cell_type": "code",
   "execution_count": 112,
   "id": "f2b2b9eb",
   "metadata": {},
   "outputs": [
    {
     "name": "stdout",
     "output_type": "stream",
     "text": [
      "[2, 4, 6, 8, 10]\n"
     ]
    }
   ],
   "source": [
    "# Output of Different kind ?\n",
    "\n",
    "x=[i for i in range(1,11) if i%2==0]\n",
    "print(x)"
   ]
  },
  {
   "cell_type": "code",
   "execution_count": 131,
   "id": "7b3817df",
   "metadata": {},
   "outputs": [
    {
     "name": "stdout",
     "output_type": "stream",
     "text": [
      "[3, 5, 7, 9, 11]\n"
     ]
    }
   ],
   "source": [
    "# Output of Different kind ?\n",
    "\n",
    "x=[i+1 for i in range(1,11) if i%2==0]\n",
    "print(x)"
   ]
  },
  {
   "cell_type": "code",
   "execution_count": 121,
   "id": "b98cc7d7",
   "metadata": {},
   "outputs": [
    {
     "name": "stdout",
     "output_type": "stream",
     "text": [
      "ankush gupta\n",
      "['ankush', 'gupta']\n",
      "\n",
      "\n",
      "ankush\n",
      "['a', 'n', 'k', 'u', 's', 'h']\n"
     ]
    }
   ],
   "source": [
    "# Different way of Output \n",
    "\n",
    "x=[i for i in input().split()]\n",
    "print(x)\n",
    "\n",
    "print()\n",
    "print()\n",
    "\n",
    "x=[i for i in input()]\n",
    "print(x)"
   ]
  },
  {
   "cell_type": "code",
   "execution_count": 116,
   "id": "3fabf004",
   "metadata": {},
   "outputs": [
    {
     "name": "stdout",
     "output_type": "stream",
     "text": [
      "ankush gupta\n",
      "[['ankush', 'gupta'], ['ankush', 'gupta']]\n"
     ]
    }
   ],
   "source": [
    "# out put \n",
    "\n",
    "x=[x for i in input().split()]\n",
    "print(x)"
   ]
  },
  {
   "cell_type": "code",
   "execution_count": null,
   "id": "9fe91055",
   "metadata": {},
   "outputs": [],
   "source": []
  }
 ],
 "metadata": {
  "kernelspec": {
   "display_name": "Python 3 (ipykernel)",
   "language": "python",
   "name": "python3"
  },
  "language_info": {
   "codemirror_mode": {
    "name": "ipython",
    "version": 3
   },
   "file_extension": ".py",
   "mimetype": "text/x-python",
   "name": "python",
   "nbconvert_exporter": "python",
   "pygments_lexer": "ipython3",
   "version": "3.11.4"
  }
 },
 "nbformat": 4,
 "nbformat_minor": 5
}
