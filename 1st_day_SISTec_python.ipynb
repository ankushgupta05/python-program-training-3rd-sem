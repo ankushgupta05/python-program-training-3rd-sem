{
 "cells": [
  {
   "cell_type": "code",
   "execution_count": 2,
   "id": "623cc96d",
   "metadata": {},
   "outputs": [
    {
     "name": "stdout",
     "output_type": "stream",
     "text": [
      "3.11.3\n"
     ]
    }
   ],
   "source": [
    "from platform import python_version\n",
    "print(python_version())"
   ]
  },
  {
   "cell_type": "code",
   "execution_count": 6,
   "id": "36f582ff",
   "metadata": {},
   "outputs": [
    {
     "name": "stdout",
     "output_type": "stream",
     "text": [
      "Hellow\n"
     ]
    }
   ],
   "source": [
    "# print()\n",
    "print(\"Hellow\")"
   ]
  },
  {
   "cell_type": "code",
   "execution_count": 7,
   "id": "a9a50b07",
   "metadata": {},
   "outputs": [
    {
     "name": "stdout",
     "output_type": "stream",
     "text": [
      "['False', 'None', 'True', 'and', 'as', 'assert', 'async', 'await', 'break', 'class', 'continue', 'def', 'del', 'elif', 'else', 'except', 'finally', 'for', 'from', 'global', 'if', 'import', 'in', 'is', 'lambda', 'nonlocal', 'not', 'or', 'pass', 'raise', 'return', 'try', 'while', 'with', 'yield']\n"
     ]
    }
   ],
   "source": [
    "import keyword\n",
    "print(keyword.kwlist)"
   ]
  },
  {
   "cell_type": "code",
   "execution_count": 10,
   "id": "c8933d13",
   "metadata": {},
   "outputs": [
    {
     "name": "stdout",
     "output_type": "stream",
     "text": [
      "I LOVE MY INDIA \n"
     ]
    }
   ],
   "source": [
    "print(\"I LOVE MY INDIA \")"
   ]
  },
  {
   "cell_type": "code",
   "execution_count": 11,
   "id": "53f4f77b",
   "metadata": {},
   "outputs": [
    {
     "name": "stdout",
     "output_type": "stream",
     "text": [
      "62\n"
     ]
    }
   ],
   "source": [
    "a=50\n",
    "b=12\n",
    "print(a+b)"
   ]
  },
  {
   "cell_type": "code",
   "execution_count": 19,
   "id": "7a2fb258",
   "metadata": {},
   "outputs": [
    {
     "name": "stdout",
     "output_type": "stream",
     "text": [
      "10 20 30\n"
     ]
    }
   ],
   "source": [
    "print(10,20,30)"
   ]
  },
  {
   "cell_type": "code",
   "execution_count": 20,
   "id": "e11c6ee7",
   "metadata": {},
   "outputs": [
    {
     "name": "stdout",
     "output_type": "stream",
     "text": [
      "Ente Your Number :10\n"
     ]
    }
   ],
   "source": [
    "x=input(\"Ente Your Number :\")"
   ]
  },
  {
   "cell_type": "code",
   "execution_count": 37,
   "id": "bbf99818",
   "metadata": {},
   "outputs": [
    {
     "name": "stdout",
     "output_type": "stream",
     "text": [
      "please Enter student name :Ankush Gupta\n",
      "Enter Your Enrollment No. :0187AS221010\n",
      "Ankush Gupta    0187AS221010\n"
     ]
    }
   ],
   "source": [
    "name=input(\"please Enter student name :\")\n",
    "n=input(\"Enter Your Enrollment No. :\")\n",
    "print(name,\"  \",n)\n"
   ]
  },
  {
   "cell_type": "code",
   "execution_count": 36,
   "id": "d88549cf",
   "metadata": {},
   "outputs": [
    {
     "name": "stdout",
     "output_type": "stream",
     "text": [
      "Enter first Number :10\n",
      "Enter second Number :20\n",
      "The sum of Two Number is : 30\n"
     ]
    }
   ],
   "source": [
    "n1=input(\"Enter first Number :\")\n",
    "n2=input(\"Enter second Number :\")\n",
    "print(\"The sum of Two Number is :\",int(n1)+int(n2))"
   ]
  },
  {
   "cell_type": "code",
   "execution_count": 47,
   "id": "c68d2f84",
   "metadata": {},
   "outputs": [
    {
     "name": "stdout",
     "output_type": "stream",
     "text": [
      "Enter first Number :20\n",
      "Enter first Number :10\n",
      "Enter first Number :10\n",
      "The Average of number is :\n",
      "13.333333333333334\n"
     ]
    }
   ],
   "source": [
    "n1=int(input(\"Enter first Number :\"))\n",
    "n2=int(input(\"Enter first Number :\"))\n",
    "n3=int(input(\"Enter first Number :\"))\n",
    "print(\"The Average of number is :\")\n",
    "print((n1+n2+n3)/3)"
   ]
  },
  {
   "cell_type": "code",
   "execution_count": 56,
   "id": "5b52503e",
   "metadata": {},
   "outputs": [
    {
     "name": "stdout",
     "output_type": "stream",
     "text": [
      "12?12\n"
     ]
    }
   ],
   "source": [
    "# sep (seprator)\n",
    "\n",
    "print(12,12,sep=\"?\")"
   ]
  },
  {
   "cell_type": "code",
   "execution_count": 59,
   "id": "3c29f857",
   "metadata": {},
   "outputs": [
    {
     "name": "stdout",
     "output_type": "stream",
     "text": [
      "Ankush Gupta\n",
      "\n",
      "Ankush\n",
      "Gupta\n"
     ]
    }
   ],
   "source": [
    "print(\"Ankush Gupta\")\n",
    "print()  #  also give new line\n",
    "print(\"Ankush\\nGupta\")\n"
   ]
  },
  {
   "cell_type": "code",
   "execution_count": 64,
   "id": "05c535dc",
   "metadata": {},
   "outputs": [
    {
     "name": "stdout",
     "output_type": "stream",
     "text": [
      "\"Ankush Gupa\"\n",
      "\n",
      "\"AnkushGupta\"\n"
     ]
    }
   ],
   "source": [
    "print(\"\\\"Ankush Gupa\\\"\")\n",
    "print()\n",
    "print('\"AnkushGupta\"')"
   ]
  },
  {
   "cell_type": "code",
   "execution_count": 67,
   "id": "f3c05619",
   "metadata": {},
   "outputs": [
    {
     "name": "stdout",
     "output_type": "stream",
     "text": [
      "20\n",
      "140736315889032\n",
      "<class 'int'>\n"
     ]
    }
   ],
   "source": [
    "x=20     # int varible assign\n",
    "print(x)     # print  assign value\n",
    "print(id(x))     # address of varible assign\n",
    "print(type(x))    # type of varible class\n"
   ]
  },
  {
   "cell_type": "code",
   "execution_count": 68,
   "id": "6cf62d64",
   "metadata": {},
   "outputs": [
    {
     "name": "stdout",
     "output_type": "stream",
     "text": [
      "4\n",
      "140736315888520\n",
      "<class 'int'>\n"
     ]
    }
   ],
   "source": [
    "x=0b100  # default value of decimal\n",
    "print(x)\n",
    "print(id(x))\n",
    "print(type(x))"
   ]
  },
  {
   "cell_type": "code",
   "execution_count": 69,
   "id": "23cac223",
   "metadata": {},
   "outputs": [
    {
     "name": "stdout",
     "output_type": "stream",
     "text": [
      "4\n",
      "0b100\n",
      "140736315888520\n",
      "<class 'int'>\n"
     ]
    }
   ],
   "source": [
    "x=0b100\n",
    "print(x)\n",
    "print(bin(x))  #convert into binary\n",
    "print(id(x))\n",
    "print(type(x))"
   ]
  },
  {
   "cell_type": "code",
   "execution_count": 70,
   "id": "36b4c759",
   "metadata": {},
   "outputs": [
    {
     "name": "stdout",
     "output_type": "stream",
     "text": [
      "519\n",
      "0b1000000111\n",
      "2039304400304\n",
      "<class 'int'>\n"
     ]
    }
   ],
   "source": [
    "x=0o1007\n",
    "print(x)\n",
    "print(bin(x))\n",
    "print(id(x))\n",
    "print(type(x))"
   ]
  },
  {
   "cell_type": "code",
   "execution_count": 72,
   "id": "f869b38a",
   "metadata": {},
   "outputs": [
    {
     "name": "stdout",
     "output_type": "stream",
     "text": [
      "4103\n",
      "2039304401872\n",
      "<class 'int'>\n"
     ]
    }
   ],
   "source": [
    "x=0x1007  # hexa Dicimal Data\n",
    "print(x)\n",
    "print(id(x))\n",
    "print(type(x))"
   ]
  },
  {
   "cell_type": "code",
   "execution_count": 73,
   "id": "ad18bbb4",
   "metadata": {},
   "outputs": [
    {
     "name": "stdout",
     "output_type": "stream",
     "text": [
      "4103\n",
      "0x1007\n",
      "2039304404080\n",
      "<class 'int'>\n"
     ]
    }
   ],
   "source": [
    "x=0x1007  \n",
    "print(x)\n",
    "print(hex(x))    # conver into hexa Decimal\n",
    "print(id(x))\n",
    "print(type(x))"
   ]
  },
  {
   "cell_type": "code",
   "execution_count": 74,
   "id": "6f3e67bf",
   "metadata": {},
   "outputs": [
    {
     "name": "stdout",
     "output_type": "stream",
     "text": [
      "4103\n",
      "binary 0b1000000000111\n",
      "octal 0o10007\n",
      "hexaDecimal 0x1007\n",
      "2039304400304\n",
      "<class 'int'>\n"
     ]
    }
   ],
   "source": [
    "x=0x1007  \n",
    "print(x)\n",
    "print(\"binary\",bin(x))\n",
    "print(\"octal\",oct(x))\n",
    "print(\"hexaDecimal\",hex(x))\n",
    "print(id(x))\n",
    "print(type(x))"
   ]
  },
  {
   "cell_type": "code",
   "execution_count": 83,
   "id": "0aa4f4c5",
   "metadata": {},
   "outputs": [
    {
     "name": "stdout",
     "output_type": "stream",
     "text": [
      "6.8\n",
      "2039299353616\n",
      "<class 'float'>\n"
     ]
    }
   ],
   "source": [
    "    x=6.8            # float\n",
    "    print(x)\n",
    "    print(id(x))        # address of variable\n",
    "    print(type(x))           # type of varible class\n",
    "    "
   ]
  },
  {
   "cell_type": "code",
   "execution_count": 89,
   "id": "fc46cb4a",
   "metadata": {},
   "outputs": [
    {
     "name": "stdout",
     "output_type": "stream",
     "text": [
      "(6+6j)\n",
      "6.0 6.0\n",
      "<class 'float'> <class 'float'>\n",
      "2039304404048\n",
      "<class 'complex'>\n"
     ]
    }
   ],
   "source": [
    "x = 6+6j         # {complexe Number} \n",
    "print(x)\n",
    "print(x.real,x.imag)   # always give float value\n",
    "print(type(x.real),type (x.imag))\n",
    "print(id(x))\n",
    "print(type(x))"
   ]
  },
  {
   "cell_type": "code",
   "execution_count": 91,
   "id": "a9281150",
   "metadata": {},
   "outputs": [
    {
     "name": "stdout",
     "output_type": "stream",
     "text": [
      "True\n",
      "140736314419744\n",
      "<class 'bool'>\n"
     ]
    }
   ],
   "source": [
    "x=True   # boolean datatype(True/false)\n",
    "print(x)\n",
    "print(id(x))\n",
    "print(type(x))"
   ]
  },
  {
   "cell_type": "code",
   "execution_count": 92,
   "id": "e3dcd4b5",
   "metadata": {},
   "outputs": [
    {
     "name": "stdout",
     "output_type": "stream",
     "text": [
      "Ankush Gupta\n",
      "2039305450032\n",
      "<class 'str'>\n"
     ]
    }
   ],
   "source": [
    "str=\"Ankush Gupta\"   #string Declaration  \n",
    "print(str)\n",
    "print(id(str))\n",
    "print(type(str))"
   ]
  },
  {
   "cell_type": "code",
   "execution_count": 93,
   "id": "7c305b43",
   "metadata": {},
   "outputs": [
    {
     "name": "stdout",
     "output_type": "stream",
     "text": [
      "Ankush Gupta\n",
      "2039299879472\n",
      "<class 'str'>\n"
     ]
    }
   ],
   "source": [
    "str='Ankush Gupta'  #string Declaration\n",
    "print(str)\n",
    "print(id(str))\n",
    "print(type(str))"
   ]
  },
  {
   "cell_type": "code",
   "execution_count": 94,
   "id": "fc57d44b",
   "metadata": {},
   "outputs": [
    {
     "name": "stdout",
     "output_type": "stream",
     "text": [
      "Ankush Gupta\n",
      "2039305679408\n",
      "<class 'str'>\n"
     ]
    }
   ],
   "source": [
    "str='''Ankush Gupta'''  #string Declaration\n",
    "print(str)\n",
    "print(id(str))\n",
    "print(type(str))"
   ]
  },
  {
   "cell_type": "code",
   "execution_count": 96,
   "id": "43313b01",
   "metadata": {},
   "outputs": [
    {
     "name": "stdout",
     "output_type": "stream",
     "text": [
      "Ankush Gupta\n",
      "2039305550896\n",
      "<class 'str'>\n"
     ]
    }
   ],
   "source": [
    "str=\"\"\"Ankush Gupta\"\"\"  #string Declaration\n",
    "print(str)\n",
    "print(id(str))\n",
    "print(type(str))"
   ]
  },
  {
   "cell_type": "code",
   "execution_count": 97,
   "id": "9014834b",
   "metadata": {},
   "outputs": [
    {
     "name": "stdout",
     "output_type": "stream",
     "text": [
      "I \n",
      "LOVE\n",
      "MY\n",
      "INDIA \n"
     ]
    }
   ],
   "source": [
    "str=\"\"\"I    \n",
    "LOVE\n",
    "MY\n",
    "INDIA \"\"\"  # Only Triple comma  allows you To write for new line without error}\n",
    "\n",
    "print(str)"
   ]
  },
  {
   "cell_type": "code",
   "execution_count": 100,
   "id": "1aa340af",
   "metadata": {},
   "outputs": [
    {
     "name": "stdout",
     "output_type": "stream",
     "text": [
      "I LOVE INDIA\n"
     ]
    }
   ],
   "source": [
    " # str=\"I LOVE INDIA\"\n",
    " #   print(str)    # here Indentation Error  \n",
    "\n",
    " str=\"I LOVE INDIA\"   # here is Not Indentation Error\n",
    " print(str)"
   ]
  },
  {
   "cell_type": "code",
   "execution_count": 7,
   "id": "64e9d8f0",
   "metadata": {},
   "outputs": [
    {
     "name": "stdout",
     "output_type": "stream",
     "text": [
      "Enter principle Amount : 1000\n",
      "Enter  which is requir Amount For year : 1\n",
      "Enter interest : 1\n",
      "The Simple Interest is :  10.0\n"
     ]
    }
   ],
   "source": [
    "#  simpleinterest find from user\n",
    "p=int(input(\"Enter principle Amount : \"))\n",
    "y=int(input(\"Enter  which is requir Amount For year : \"))\n",
    "r=int(input(\"Enter interest : \"))\n",
    "si=(p*y*r)/100\n",
    "print(\"The Simple Interest is : \",si)\n"
   ]
  },
  {
   "cell_type": "code",
   "execution_count": 8,
   "id": "5a52abda",
   "metadata": {},
   "outputs": [
    {
     "name": "stdout",
     "output_type": "stream",
     "text": [
      "<class 'float'>\n",
      "<class 'int'>\n"
     ]
    }
   ],
   "source": [
    "x=8.5            # typecating \n",
    "print(type(x))\n",
    "y=int(x)\n",
    "print(type(y))"
   ]
  },
  {
   "cell_type": "code",
   "execution_count": 11,
   "id": "b3e06208",
   "metadata": {},
   "outputs": [
    {
     "name": "stdout",
     "output_type": "stream",
     "text": [
      "8\n",
      "<class 'int'>\n",
      "8\n",
      "<class 'int'>\n"
     ]
    }
   ],
   "source": [
    "import math\n",
    "print(math.floor(x))\n",
    "print(type(math.floor(x)))\n",
    "print(int(x))\n",
    "print(type(int(x)))"
   ]
  },
  {
   "cell_type": "code",
   "execution_count": 18,
   "id": "18b64f3d",
   "metadata": {},
   "outputs": [
    {
     "name": "stdout",
     "output_type": "stream",
     "text": [
      "3\n",
      "3\n",
      "-4\n",
      "-4\n"
     ]
    }
   ],
   "source": [
    "x=3.2    # use of math.floor (It ound Down of float value)\n",
    "print(math.floor(x))  # math.floor decrease in positive fraction value  \n",
    "y=3.6\n",
    "print(math.floor(y))\n",
    "\n",
    "a=-3.2                 # math.floor increase in negative fraction value\n",
    "print(math.floor(a))    \n",
    "b=-3.6\n",
    "print(math.floor(b))"
   ]
  },
  {
   "cell_type": "code",
   "execution_count": 21,
   "id": "af7ba92f",
   "metadata": {},
   "outputs": [
    {
     "name": "stdout",
     "output_type": "stream",
     "text": [
      "11\n",
      "<class 'str'>\n",
      "11\n",
      "<class 'int'>\n"
     ]
    }
   ],
   "source": [
    "x=\"11\"  # Declaration in string \n",
    "print(x)\n",
    "print(type(x))\n",
    "print(int(x))       # compiler can convert into integer \n",
    "print(type(int(x)))\n",
    "\n",
    "#x=\"11.66\"               # This string coompiler can not be convert into integer but convert into float\n",
    "#x=\"Ankush Gupta\"                 # This string coompiler can not be convert into integer\n",
    "\n"
   ]
  },
  {
   "cell_type": "code",
   "execution_count": 24,
   "id": "f6372f38",
   "metadata": {},
   "outputs": [
    {
     "name": "stdout",
     "output_type": "stream",
     "text": [
      "<class 'bool'>\n",
      "1\n",
      "<class 'int'>\n"
     ]
    }
   ],
   "source": [
    "# bolean  variable\n",
    "x=True\n",
    "print(type(x))\n",
    "print(int(x))\n",
    "print(type(int(x)))"
   ]
  },
  {
   "cell_type": "code",
   "execution_count": 35,
   "id": "6e65bd0b",
   "metadata": {},
   "outputs": [
    {
     "name": "stdout",
     "output_type": "stream",
     "text": [
      "(3+6j)\n",
      "<class 'complex'>\n"
     ]
    }
   ],
   "source": [
    "# complexe Number \n",
    "x=3+6j\n",
    "print(x)\n",
    "print(type(x))\n",
    "\n",
    "# print(int(x))            # complexe Nummber can not be change into integer\n",
    "# print(type(int(x)))"
   ]
  },
  {
   "cell_type": "code",
   "execution_count": 37,
   "id": "36a4fc88",
   "metadata": {},
   "outputs": [
    {
     "name": "stdout",
     "output_type": "stream",
     "text": [
      "8.5\n",
      "<class 'float'>\n",
      "8\n",
      "<class 'int'>\n"
     ]
    }
   ],
   "source": [
    "# float variable\n",
    "x=8.5\n",
    "print(x)\n",
    "print(type(x))\n",
    "print(int(x))       # float can be change into integer\n",
    "print(type(int(x)))"
   ]
  },
  {
   "cell_type": "code",
   "execution_count": 39,
   "id": "23073fb1",
   "metadata": {},
   "outputs": [
    {
     "name": "stdout",
     "output_type": "stream",
     "text": [
      "True\n",
      "<class 'bool'>\n",
      "1.0\n",
      "<class 'float'>\n"
     ]
    }
   ],
   "source": [
    "# boolean data type\n",
    "x=True\n",
    "print(x)\n",
    "print(type(x))\n",
    "print(float(x))       # boolean can be change into integer\n",
    "print(type(float(x)))"
   ]
  },
  {
   "cell_type": "code",
   "execution_count": 45,
   "id": "552dbe92",
   "metadata": {},
   "outputs": [
    {
     "name": "stdout",
     "output_type": "stream",
     "text": [
      "11.66\n",
      "<class 'str'>\n",
      "11.66\n",
      "<class 'float'>\n"
     ]
    }
   ],
   "source": [
    "x=\"11.66\"\n",
    "print(x)\n",
    "print(type(x))     \n",
    "print(float(x))       # string can be convert into float    \n",
    "print(type(float(x)))     \n",
    "\n",
    "# x=3.4+3.4j    # complexe Number can not be convert into float"
   ]
  },
  {
   "cell_type": "code",
   "execution_count": 47,
   "id": "bd3166fa",
   "metadata": {},
   "outputs": [
    {
     "name": "stdout",
     "output_type": "stream",
     "text": [
      "7\n",
      "<class 'int'>\n",
      "(7+0j)\n",
      "<class 'complex'>\n"
     ]
    }
   ],
   "source": [
    "x=7\n",
    "print(x)\n",
    "print(type(x))\n",
    "print(complex(x))    # integer can be convert into complex\n",
    "print(type(complex(x)))"
   ]
  },
  {
   "cell_type": "code",
   "execution_count": 48,
   "id": "d22883d2",
   "metadata": {},
   "outputs": [
    {
     "name": "stdout",
     "output_type": "stream",
     "text": [
      "7.5\n",
      "<class 'float'>\n",
      "(7.5+0j)\n",
      "<class 'complex'>\n"
     ]
    }
   ],
   "source": [
    "x=7.5\n",
    "print(x)\n",
    "print(type(x))\n",
    "print(complex(x))        # float can be convert into complex\n",
    "print(type(complex(x)))"
   ]
  },
  {
   "cell_type": "code",
   "execution_count": 49,
   "id": "2568f911",
   "metadata": {},
   "outputs": [
    {
     "name": "stdout",
     "output_type": "stream",
     "text": [
      "True\n",
      "<class 'bool'>\n",
      "(1+0j)\n",
      "<class 'complex'>\n"
     ]
    }
   ],
   "source": [
    "x=True\n",
    "print(x)\n",
    "print(type(x))\n",
    "print(complex(x))     # boolean can be convert into complex\n",
    "print(type(complex(x)))"
   ]
  },
  {
   "cell_type": "code",
   "execution_count": 55,
   "id": "810861a7",
   "metadata": {},
   "outputs": [
    {
     "name": "stdout",
     "output_type": "stream",
     "text": [
      "55\n",
      "<class 'str'>\n",
      "(55+0j)\n",
      "<class 'complex'>\n",
      "55.0 0.0\n",
      "<class 'float'> <class 'float'>\n"
     ]
    }
   ],
   "source": [
    "x=\"55\"\n",
    "print(x)\n",
    "print(type(x))\n",
    "y=complex(x)    # y variable assign complex Number\n",
    "print(y)\n",
    "print(type(y))\n",
    "print(y.real,y.imag)\n",
    "print(type(y.real),type(y.imag))"
   ]
  },
  {
   "cell_type": "code",
   "execution_count": 56,
   "id": "e548320c",
   "metadata": {},
   "outputs": [
    {
     "name": "stdout",
     "output_type": "stream",
     "text": [
      "1\n",
      "<class 'int'>\n",
      "True\n",
      "<class 'bool'>\n"
     ]
    }
   ],
   "source": [
    "# boolean typecasting\n",
    "x=1              # ever number give true but 0 give false\n",
    "print(x)\n",
    "print(type(x))\n",
    "print(bool(x))\n",
    "print(type(bool(x)))"
   ]
  },
  {
   "cell_type": "code",
   "execution_count": 58,
   "id": "b9d6d66d",
   "metadata": {},
   "outputs": [
    {
     "name": "stdout",
     "output_type": "stream",
     "text": [
      "0\n",
      "<class 'int'>\n",
      "False\n",
      "<class 'bool'>\n"
     ]
    }
   ],
   "source": [
    "x=0\n",
    "print(x)\n",
    "print(type(x))\n",
    "print(bool(x))\n",
    "print(type(bool(x)))"
   ]
  },
  {
   "cell_type": "code",
   "execution_count": 60,
   "id": "5e402a99",
   "metadata": {},
   "outputs": [
    {
     "name": "stdout",
     "output_type": "stream",
     "text": [
      "-134\n",
      "<class 'int'>\n",
      "True\n",
      "<class 'bool'>\n"
     ]
    }
   ],
   "source": [
    "x=-134     \n",
    "print(x)\n",
    "print(type(x))\n",
    "print(bool(x))     \n",
    "print(type(bool(x)))"
   ]
  },
  {
   "cell_type": "code",
   "execution_count": 61,
   "id": "33ef9f3f",
   "metadata": {},
   "outputs": [
    {
     "name": "stdout",
     "output_type": "stream",
     "text": [
      "11.55\n",
      "<class 'float'>\n",
      "True\n",
      "<class 'bool'>\n"
     ]
    }
   ],
   "source": [
    "x=11.55 \n",
    "print(x)\n",
    "print(type(x))\n",
    "print(bool(x))     \n",
    "print(type(bool(x)))"
   ]
  },
  {
   "cell_type": "code",
   "execution_count": 62,
   "id": "254e79df",
   "metadata": {},
   "outputs": [
    {
     "name": "stdout",
     "output_type": "stream",
     "text": [
      "11.55\n",
      "<class 'str'>\n",
      "True\n",
      "<class 'bool'>\n"
     ]
    }
   ],
   "source": [
    "x=\"11.55\"\n",
    "print(x)\n",
    "print(type(x))\n",
    "print(bool(x))     \n",
    "print(type(bool(x)))"
   ]
  },
  {
   "cell_type": "code",
   "execution_count": 63,
   "id": "743c96d9",
   "metadata": {},
   "outputs": [
    {
     "name": "stdout",
     "output_type": "stream",
     "text": [
      "0\n",
      "<class 'str'>\n",
      "True\n",
      "<class 'bool'>\n"
     ]
    }
   ],
   "source": [
    "x=\"0\"\n",
    "print(x)\n",
    "print(type(x))\n",
    "print(bool(x))     \n",
    "print(type(bool(x)))"
   ]
  },
  {
   "cell_type": "code",
   "execution_count": 66,
   "id": "6ef49246",
   "metadata": {},
   "outputs": [
    {
     "name": "stdout",
     "output_type": "stream",
     "text": [
      "ANKUSH GUPTA\n",
      "<class 'str'>\n",
      "True\n",
      "<class 'bool'>\n"
     ]
    }
   ],
   "source": [
    "x=\"ANKUSH GUPTA\"    # boolean allows to convert into bool(true) throught string\n",
    "print(x)\n",
    "print(type(x))\n",
    "print(bool(x))     \n",
    "print(type(bool(x)))"
   ]
  },
  {
   "cell_type": "code",
   "execution_count": 2,
   "id": "708e9ca9",
   "metadata": {},
   "outputs": [
    {
     "name": "stdout",
     "output_type": "stream",
     "text": [
      "85\n",
      "<class 'int'>\n",
      "85\n",
      "<class 'str'>\n"
     ]
    }
   ],
   "source": [
    "# string typecasting\n",
    "\n",
    "x=85    # x is integer\n",
    "print(x)\n",
    "print(type(x))\n",
    "print(str(x))    # convert into string\n",
    "print(type(str(x)))"
   ]
  },
  {
   "cell_type": "code",
   "execution_count": 68,
   "id": "e038e411",
   "metadata": {},
   "outputs": [
    {
     "name": "stdout",
     "output_type": "stream",
     "text": [
      "(88+74j)\n"
     ]
    }
   ],
   "source": [
    "x=88+74j\n",
    "print(x)\n",
    "print(type(x))\n",
    "print(str(x))\n",
    "print(type(str(x)))\n",
    "print()"
   ]
  },
  {
   "cell_type": "code",
   "execution_count": 34,
   "id": "eddfddfa",
   "metadata": {},
   "outputs": [
    {
     "name": "stdout",
     "output_type": "stream",
     "text": [
      "Enter radious of Circle  :10\n",
      "The Area of circle :  314.1592653589793\n",
      "Enter length of the side one :8\n",
      "Enter length of the side two :3\n",
      "Enter length of the side Third :9\n",
      "The Average of all side : 10.0\n",
      "The Area of Triangle : 11.832159566199232\n"
     ]
    }
   ],
   "source": [
    "# Queation no.1) write s progrsm to calculet area of circle data should be taken from user but the value \n",
    "#   of pi(3.14) should be take by import math ? \n",
    "\n",
    "# Queation no. 2) write a program to calculate the area of triale length of side should be giving by \n",
    "#    user and find sqrt() by import math \n",
    "\n",
    "\n",
    "# ------------------XXX------------------------------XXX----------------------------------------XXX---------------------------\n",
    "# First program \n",
    "\n",
    "import math\n",
    "r=float(input(\"Enter radious of Circle  :\"))\n",
    "\n",
    "# p=print(math.pi)    we can not assign value of pi\n",
    "\n",
    "print(\"The Area of circle : \",((math.pi)*r*r))\n",
    "\n",
    "\n",
    "#------------------XXXX----------------------------------XXXX----------------------------------------XXXX_---------------------\n",
    "#second program\n",
    "\n",
    "import math\n",
    "a=int(input(\"Enter length of the side one :\"))\n",
    "b=int(input(\"Enter length of the side two :\"))\n",
    "c=int(input(\"Enter length of the side Third :\"))\n",
    "s=(a+b+c)/2\n",
    "print(\"The Average of all side :\",s)\n",
    "print(\"The Area of Triangle :\",(math.sqrt(s*(s-a)*(s-b)*(s-c))))"
   ]
  },
  {
   "cell_type": "code",
   "execution_count": 36,
   "id": "4f02c335",
   "metadata": {},
   "outputs": [
    {
     "name": "stdout",
     "output_type": "stream",
     "text": [
      "{1, 2, 3, 4, 5}\n",
      "<class 'set'>\n",
      "frozenset({1, 2, 3, 4, 5})\n",
      "<class 'frozenset'>\n"
     ]
    }
   ],
   "source": [
    "# frozen set  # forzenset is mutable\n",
    "s={1,2,3,4,5}\n",
    "print(s)\n",
    "print(type(s))\n",
    "f=frozenset(s)  # after frozenset defind we can not change anything in set \n",
    "print(f)\n",
    "print(type(f))"
   ]
  },
  {
   "cell_type": "code",
   "execution_count": 37,
   "id": "096d577b",
   "metadata": {},
   "outputs": [
    {
     "name": "stdout",
     "output_type": "stream",
     "text": [
      "{1: 'ankush', 2: 'Gupta'}\n",
      "1374402947648\n",
      "<class 'dict'>\n"
     ]
    }
   ],
   "source": [
    "# Dictionary \n",
    "d={1:\"ankush\",2:\"Gupta\",}\n",
    "print(d)\n",
    "print(id(d))\n",
    "print(type(d))"
   ]
  },
  {
   "cell_type": "code",
   "execution_count": 38,
   "id": "64e4c1b0",
   "metadata": {},
   "outputs": [
    {
     "name": "stdout",
     "output_type": "stream",
     "text": [
      "{'A': 'ankush', 'G': 'Gupta'}\n",
      "1374403137280\n",
      "<class 'dict'>\n"
     ]
    }
   ],
   "source": [
    "# Dictionary \n",
    "d={\"A\":\"ankush\",\"G\":\"Gupta\",}\n",
    "print(d)\n",
    "print(id(d))\n",
    "print(type(d))"
   ]
  },
  {
   "cell_type": "code",
   "execution_count": 39,
   "id": "a7510e2e",
   "metadata": {},
   "outputs": [
    {
     "name": "stdout",
     "output_type": "stream",
     "text": [
      "{1: 'ankush', 2: 'Gupta', 'N': [9, 9]}\n",
      "1376535966400\n",
      "<class 'dict'>\n"
     ]
    }
   ],
   "source": [
    "# Dictionary  # Dictionary is immutable (It can be change)\n",
    "d={1:\"ankush\",2:\"Gupta\",\"N\":[9,9]}\n",
    "print(d)\n",
    "print(id(d))\n",
    "print(type(d))"
   ]
  },
  {
   "cell_type": "code",
   "execution_count": 45,
   "id": "e00c2bab",
   "metadata": {},
   "outputs": [
    {
     "name": "stdout",
     "output_type": "stream",
     "text": [
      "{1: 'ankush', 2: 'Gupta', 'N': [9, 9]}\n",
      "1374403371200\n",
      "<class 'dict'>\n",
      "\n",
      "ankush\n",
      "Gupta\n"
     ]
    }
   ],
   "source": [
    "# Dictionary \n",
    "d={1:\"ankush\",2:\"Gupta\",\"N\":[9,9]}\n",
    "print(d)\n",
    "print(id(d))\n",
    "print(type(d))\n",
    "print()\n",
    "print(d[1])\n",
    "print(d[2])"
   ]
  },
  {
   "cell_type": "code",
   "execution_count": 48,
   "id": "213b32c9",
   "metadata": {},
   "outputs": [
    {
     "name": "stdout",
     "output_type": "stream",
     "text": [
      "{1: 'Gupta', 2: 'Gupta', 'N': [9, 9]}\n",
      "{1: 'Gupta', 2: 'Gupta', 'N': [9, 9]}\n"
     ]
    }
   ],
   "source": [
    "print(d)\n",
    "d[1]=\"Gupta\"\n",
    "print(d)"
   ]
  },
  {
   "cell_type": "code",
   "execution_count": 49,
   "id": "9c862b91",
   "metadata": {},
   "outputs": [
    {
     "name": "stdout",
     "output_type": "stream",
     "text": [
      "{1: 'Gupta', 2: 'Gupta', 'N': [9, 9]}\n",
      "1374403371200\n",
      "<class 'dict'>\n",
      "\n",
      "Gupta\n",
      "Gupta\n"
     ]
    }
   ],
   "source": [
    "print(d)\n",
    "print(id(d))\n",
    "print(type(d))\n",
    "print()\n",
    "print(d[1])\n",
    "print(d[2])"
   ]
  },
  {
   "cell_type": "code",
   "execution_count": 50,
   "id": "69b2d34d",
   "metadata": {},
   "outputs": [
    {
     "name": "stdout",
     "output_type": "stream",
     "text": [
      "140736156308456\n",
      "140736156308456\n",
      "140736156311400\n"
     ]
    }
   ],
   "source": [
    "x=7  # int float is immutable  \n",
    "print(id(x))\n",
    "y=7\n",
    "print(id(y))\n",
    "x=99\n",
    "print(id(x))"
   ]
  },
  {
   "cell_type": "code",
   "execution_count": 51,
   "id": "e4e48e9e",
   "metadata": {},
   "outputs": [
    {
     "name": "stdout",
     "output_type": "stream",
     "text": [
      "[8, 7, 0]\n",
      "1374402542656\n",
      "[8, 7, 0, 88]\n",
      "1374402542656\n"
     ]
    }
   ],
   "source": [
    "l=[8,7,0]\n",
    "print(l)\n",
    "print(id(l))\n",
    "l.append(88)\n",
    "print(l)\n",
    "print(id(l))\n"
   ]
  },
  {
   "cell_type": "code",
   "execution_count": 53,
   "id": "0b35ceaa",
   "metadata": {},
   "outputs": [
    {
     "name": "stdout",
     "output_type": "stream",
     "text": [
      "None\n",
      "140736154921712\n",
      "<class 'NoneType'>\n",
      "99\n",
      "140736156311400\n"
     ]
    }
   ],
   "source": [
    "x=None\n",
    "print(x)\n",
    "print(id(x))\n",
    "print(type(x))   \n",
    "x=99\n"
   ]
  },
  {
   "cell_type": "code",
   "execution_count": 54,
   "id": "7bfdb62e",
   "metadata": {},
   "outputs": [
    {
     "data": {
      "text/plain": [
       "'A'"
      ]
     },
     "execution_count": 54,
     "metadata": {},
     "output_type": "execute_result"
    }
   ],
   "source": [
    "chr(65)  # unicode\n"
   ]
  },
  {
   "cell_type": "code",
   "execution_count": 56,
   "id": "b7daa359",
   "metadata": {},
   "outputs": [
    {
     "data": {
      "text/plain": [
       "71"
      ]
     },
     "execution_count": 56,
     "metadata": {},
     "output_type": "execute_result"
    }
   ],
   "source": [
    "ord(\"G\")"
   ]
  },
  {
   "cell_type": "code",
   "execution_count": 59,
   "id": "63f3b8ce",
   "metadata": {},
   "outputs": [
    {
     "data": {
      "text/plain": [
       "'\\x00'"
      ]
     },
     "execution_count": 59,
     "metadata": {},
     "output_type": "execute_result"
    }
   ],
   "source": [
    "chr(0)"
   ]
  },
  {
   "cell_type": "code",
   "execution_count": 66,
   "id": "dd324e82",
   "metadata": {},
   "outputs": [
    {
     "name": "stdout",
     "output_type": "stream",
     "text": [
      "😀\n"
     ]
    }
   ],
   "source": [
    "print(\"\\N{grinning face}\")"
   ]
  },
  {
   "cell_type": "code",
   "execution_count": 68,
   "id": "ce5c7d3d",
   "metadata": {},
   "outputs": [
    {
     "name": "stdout",
     "output_type": "stream",
     "text": [
      "0\n",
      "2\n",
      "4\n",
      "6\n",
      "8\n",
      "10\n",
      "12\n",
      "14\n",
      "16\n",
      "18\n"
     ]
    }
   ],
   "source": [
    "for i in range(0,20):\n",
    "    print(i)"
   ]
  },
  {
   "cell_type": "code",
   "execution_count": 69,
   "id": "0f6a99fa",
   "metadata": {},
   "outputs": [
    {
     "name": "stdout",
     "output_type": "stream",
     "text": [
      "0\n",
      "2\n",
      "4\n",
      "6\n",
      "8\n",
      "10\n",
      "12\n",
      "14\n",
      "16\n",
      "18\n"
     ]
    }
   ],
   "source": [
    "for i in range(0,20,2):\n",
    "    print(i)"
   ]
  },
  {
   "cell_type": "code",
   "execution_count": null,
   "id": "f696937d",
   "metadata": {},
   "outputs": [],
   "source": []
  }
 ],
 "metadata": {
  "kernelspec": {
   "display_name": "Python 3 (ipykernel)",
   "language": "python",
   "name": "python3"
  },
  "language_info": {
   "codemirror_mode": {
    "name": "ipython",
    "version": 3
   },
   "file_extension": ".py",
   "mimetype": "text/x-python",
   "name": "python",
   "nbconvert_exporter": "python",
   "pygments_lexer": "ipython3",
   "version": "3.11.3"
  }
 },
 "nbformat": 4,
 "nbformat_minor": 5
}
