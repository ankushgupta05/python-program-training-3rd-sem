{
 "cells": [
  {
   "cell_type": "code",
   "execution_count": 3,
   "id": "e110e8d0",
   "metadata": {},
   "outputs": [
    {
     "name": "stdout",
     "output_type": "stream",
     "text": [
      "Enter your eliment :12 23 12 23 34 45 34 45 56 67 56 67\n",
      "After removing Duplicate : ['12', '23', '34', '34', '45', '56', '67']\n"
     ]
    }
   ],
   "source": [
    "# remove Duplicate eliment ?\n",
    "\n",
    "def Duplicat(*t):\n",
    "    t=list(t)\n",
    "    for i in t:\n",
    "        num=t.count(i)\n",
    "        if num>1:\n",
    "            for j in range(num-1):\n",
    "                t.remove(i)\n",
    "    return t\n",
    "n=[i for i in input(\"Enter your eliment :\").split()]\n",
    "print(\"After removing Duplicate :\",Duplicat(*n))\n"
   ]
  },
  {
   "cell_type": "markdown",
   "id": "e72ab973",
   "metadata": {},
   "source": [
    "# Recursion "
   ]
  },
  {
   "cell_type": "code",
   "execution_count": 14,
   "id": "b1b82e32",
   "metadata": {},
   "outputs": [
    {
     "name": "stdout",
     "output_type": "stream",
     "text": [
      "10\n",
      "10\n",
      "9\n",
      "8\n",
      "7\n",
      "6\n",
      "5\n",
      "4\n",
      "3\n",
      "2\n",
      "1\n",
      "0\n"
     ]
    }
   ],
   "source": [
    "# write a python function to print 1 and n natural number in Reverse order by using recursion?\n",
    "\n",
    "\n",
    "def reverse(n):\n",
    "    if(n==0):\n",
    "        return 0\n",
    "    print(n)\n",
    "    return reverse(n-1)\n",
    "n=int(input())\n",
    "print(reverse(n))\n"
   ]
  },
  {
   "cell_type": "code",
   "execution_count": 20,
   "id": "b9b9f359",
   "metadata": {},
   "outputs": [
    {
     "name": "stdout",
     "output_type": "stream",
     "text": [
      "10\n",
      "\n",
      "19 17 15 13 11 9 7 5 3 1 "
     ]
    },
    {
     "data": {
      "text/plain": [
       "0"
      ]
     },
     "execution_count": 20,
     "metadata": {},
     "output_type": "execute_result"
    }
   ],
   "source": [
    "# write a program using recursion to print all odd number ?\n",
    "\n",
    "def oddNumbr(n):\n",
    "    if(n==0):\n",
    "        return 0;\n",
    "    print(2*n-1,end=\" \")\n",
    "    return oddNumbr(n-1)\n",
    "\n",
    "\n",
    "n=int(input())\n",
    "print()\n",
    "oddNumbr(n)"
   ]
  },
  {
   "cell_type": "code",
   "execution_count": 24,
   "id": "41de35a7",
   "metadata": {},
   "outputs": [
    {
     "name": "stdout",
     "output_type": "stream",
     "text": [
      "10\n",
      "\n"
     ]
    },
    {
     "ename": "RecursionError",
     "evalue": "maximum recursion depth exceeded in comparison",
     "output_type": "error",
     "traceback": [
      "\u001b[1;31m---------------------------------------------------------------------------\u001b[0m",
      "\u001b[1;31mRecursionError\u001b[0m                            Traceback (most recent call last)",
      "Cell \u001b[1;32mIn[24], line 11\u001b[0m\n\u001b[0;32m      9\u001b[0m n\u001b[38;5;241m=\u001b[39m\u001b[38;5;28mint\u001b[39m(\u001b[38;5;28minput\u001b[39m())\n\u001b[0;32m     10\u001b[0m \u001b[38;5;28mprint\u001b[39m()\n\u001b[1;32m---> 11\u001b[0m oddNumbr(n)\n",
      "Cell \u001b[1;32mIn[24], line 6\u001b[0m, in \u001b[0;36moddNumbr\u001b[1;34m(n)\u001b[0m\n\u001b[0;32m      4\u001b[0m \u001b[38;5;28;01mif\u001b[39;00m n\u001b[38;5;241m==\u001b[39m\u001b[38;5;241m0\u001b[39m:\n\u001b[0;32m      5\u001b[0m     \u001b[38;5;28;01mreturn\u001b[39;00m \u001b[38;5;241m0\u001b[39m\n\u001b[1;32m----> 6\u001b[0m \u001b[38;5;28;01mreturn\u001b[39;00m oddNumbr((\u001b[38;5;241m2\u001b[39m\u001b[38;5;241m*\u001b[39mn\u001b[38;5;241m-\u001b[39m\u001b[38;5;241m1\u001b[39m)\u001b[38;5;241m+\u001b[39m(\u001b[38;5;241m2\u001b[39m\u001b[38;5;241m*\u001b[39m(n\u001b[38;5;241m-\u001b[39m\u001b[38;5;241m1\u001b[39m)\u001b[38;5;241m-\u001b[39m\u001b[38;5;241m1\u001b[39m))\n",
      "Cell \u001b[1;32mIn[24], line 6\u001b[0m, in \u001b[0;36moddNumbr\u001b[1;34m(n)\u001b[0m\n\u001b[0;32m      4\u001b[0m \u001b[38;5;28;01mif\u001b[39;00m n\u001b[38;5;241m==\u001b[39m\u001b[38;5;241m0\u001b[39m:\n\u001b[0;32m      5\u001b[0m     \u001b[38;5;28;01mreturn\u001b[39;00m \u001b[38;5;241m0\u001b[39m\n\u001b[1;32m----> 6\u001b[0m \u001b[38;5;28;01mreturn\u001b[39;00m oddNumbr((\u001b[38;5;241m2\u001b[39m\u001b[38;5;241m*\u001b[39mn\u001b[38;5;241m-\u001b[39m\u001b[38;5;241m1\u001b[39m)\u001b[38;5;241m+\u001b[39m(\u001b[38;5;241m2\u001b[39m\u001b[38;5;241m*\u001b[39m(n\u001b[38;5;241m-\u001b[39m\u001b[38;5;241m1\u001b[39m)\u001b[38;5;241m-\u001b[39m\u001b[38;5;241m1\u001b[39m))\n",
      "    \u001b[1;31m[... skipping similar frames: oddNumbr at line 6 (2970 times)]\u001b[0m\n",
      "Cell \u001b[1;32mIn[24], line 6\u001b[0m, in \u001b[0;36moddNumbr\u001b[1;34m(n)\u001b[0m\n\u001b[0;32m      4\u001b[0m \u001b[38;5;28;01mif\u001b[39;00m n\u001b[38;5;241m==\u001b[39m\u001b[38;5;241m0\u001b[39m:\n\u001b[0;32m      5\u001b[0m     \u001b[38;5;28;01mreturn\u001b[39;00m \u001b[38;5;241m0\u001b[39m\n\u001b[1;32m----> 6\u001b[0m \u001b[38;5;28;01mreturn\u001b[39;00m oddNumbr((\u001b[38;5;241m2\u001b[39m\u001b[38;5;241m*\u001b[39mn\u001b[38;5;241m-\u001b[39m\u001b[38;5;241m1\u001b[39m)\u001b[38;5;241m+\u001b[39m(\u001b[38;5;241m2\u001b[39m\u001b[38;5;241m*\u001b[39m(n\u001b[38;5;241m-\u001b[39m\u001b[38;5;241m1\u001b[39m)\u001b[38;5;241m-\u001b[39m\u001b[38;5;241m1\u001b[39m))\n",
      "Cell \u001b[1;32mIn[24], line 4\u001b[0m, in \u001b[0;36moddNumbr\u001b[1;34m(n)\u001b[0m\n\u001b[0;32m      3\u001b[0m \u001b[38;5;28;01mdef\u001b[39;00m \u001b[38;5;21moddNumbr\u001b[39m(n):\n\u001b[1;32m----> 4\u001b[0m     \u001b[38;5;28;01mif\u001b[39;00m n\u001b[38;5;241m==\u001b[39m\u001b[38;5;241m0\u001b[39m:\n\u001b[0;32m      5\u001b[0m         \u001b[38;5;28;01mreturn\u001b[39;00m \u001b[38;5;241m0\u001b[39m\n\u001b[0;32m      6\u001b[0m     \u001b[38;5;28;01mreturn\u001b[39;00m oddNumbr((\u001b[38;5;241m2\u001b[39m\u001b[38;5;241m*\u001b[39mn\u001b[38;5;241m-\u001b[39m\u001b[38;5;241m1\u001b[39m)\u001b[38;5;241m+\u001b[39m(\u001b[38;5;241m2\u001b[39m\u001b[38;5;241m*\u001b[39m(n\u001b[38;5;241m-\u001b[39m\u001b[38;5;241m1\u001b[39m)\u001b[38;5;241m-\u001b[39m\u001b[38;5;241m1\u001b[39m))\n",
      "\u001b[1;31mRecursionError\u001b[0m: maximum recursion depth exceeded in comparison"
     ]
    }
   ],
   "source": [
    "# write a program using recursion to print all odd number ?\n",
    "\n",
    "def oddNumbr(n):\n",
    "    if n==0:\n",
    "        return 0\n",
    "    return oddNumbr((2*n-1)+(2*(n-1)-1))\n",
    "\n",
    "\n",
    "n=int(input())\n",
    "print()\n",
    "oddNumbr(n)"
   ]
  },
  {
   "cell_type": "code",
   "execution_count": null,
   "id": "09d65080",
   "metadata": {},
   "outputs": [],
   "source": [
    "# print riverse number of a given number using recursion ?\n",
    "\n",
    "\n",
    "def riverse(n):\n",
    "    \n",
    "\n",
    "n=int(input())\n",
    "print(\"Rivers number of a given number :\",reverse(n))"
   ]
  }
 ],
 "metadata": {
  "kernelspec": {
   "display_name": "Python 3 (ipykernel)",
   "language": "python",
   "name": "python3"
  },
  "language_info": {
   "codemirror_mode": {
    "name": "ipython",
    "version": 3
   },
   "file_extension": ".py",
   "mimetype": "text/x-python",
   "name": "python",
   "nbconvert_exporter": "python",
   "pygments_lexer": "ipython3",
   "version": "3.11.4"
  }
 },
 "nbformat": 4,
 "nbformat_minor": 5
}
