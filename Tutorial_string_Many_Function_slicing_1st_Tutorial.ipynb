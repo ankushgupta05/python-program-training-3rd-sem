{
 "cells": [
  {
   "cell_type": "code",
   "execution_count": 2,
   "id": "c6d4fe0e",
   "metadata": {},
   "outputs": [
    {
     "name": "stdout",
     "output_type": "stream",
     "text": [
      "12\n"
     ]
    }
   ],
   "source": [
    "## string slicing\n",
    "\n",
    "str1=\"Ankush Gupta\"\n",
    "print(len(str1))   # len is a Function that is use to Find Number of charator . "
   ]
  },
  {
   "cell_type": "code",
   "execution_count": 12,
   "id": "a719eb77",
   "metadata": {},
   "outputs": [
    {
     "name": "stdout",
     "output_type": "stream",
     "text": [
      "Ankus\n",
      "Ankus\n",
      "nkus\n",
      "Ankush Gupta\n"
     ]
    }
   ],
   "source": [
    "str1=\"Ankush Gupta\"\n",
    "print(str1[0:5])  # [] This bracket is use for slicing  \n",
    "print(str1[:5])   # It is execute one lessthan form orignal Number.\n",
    "print(str1[1:5])\n",
    "print(str1[:])\n"
   ]
  },
  {
   "cell_type": "code",
   "execution_count": 17,
   "id": "6c1747fe",
   "metadata": {},
   "outputs": [
    {
     "name": "stdout",
     "output_type": "stream",
     "text": [
      "Ankush \n",
      "Ankush \n",
      "Gupta\n"
     ]
    }
   ],
   "source": [
    "str1=\"Ankush Gupta\"\n",
    "print(str1[0:len(str1)-5])   \n",
    "print(str1[0:-5])  # both are same\n",
    "print(str1[-5:])"
   ]
  },
  {
   "cell_type": "code",
   "execution_count": 18,
   "id": "343ae923",
   "metadata": {},
   "outputs": [
    {
     "name": "stdout",
     "output_type": "stream",
     "text": [
      "ar\n"
     ]
    }
   ],
   "source": [
    "str1=\"harry\"\n",
    "print(str1[-4:-2])"
   ]
  },
  {
   "cell_type": "code",
   "execution_count": 2,
   "id": "810eb06d",
   "metadata": {},
   "outputs": [
    {
     "name": "stdout",
     "output_type": "stream",
     "text": [
      "ankushguptaa\n",
      "12\n",
      "ANKUSHGUPTAA\n",
      "ankushguptaa\n",
      "ankushgupt\n"
     ]
    }
   ],
   "source": [
    "##  string many Fuction\n",
    "\n",
    "str1=\"ankushguptaa\"\n",
    "print(str1)      \n",
    "print(len(str1))     # leg() Fuction is use for Find length of Fuction \n",
    "print(str1.upper())    # upper() is use for convert into Upper alphabet  \n",
    "print(str1.lower())       # lower() is use for convert into lower alphabet\n",
    "print(str1.rstrip(\"a\"))      # rstrip() is Use To remove last Digit of The string"
   ]
  },
  {
   "cell_type": "code",
   "execution_count": 8,
   "id": "a0a815c1",
   "metadata": {},
   "outputs": [
    {
     "name": "stdout",
     "output_type": "stream",
     "text": [
      "i Love My contry contry contry\n",
      "['i', 'Love', 'My', 'india', 'india', 'india']\n",
      "I love my india india india\n",
      "3\n",
      "True\n",
      "-1\n"
     ]
    }
   ],
   "source": [
    "str1=\"i Love My india india india\"\n",
    "print(str1.replace(\"india\",\"contry\"))   # replace() Fuction is Use To change string To the particuler string\n",
    "print(str1.split(\" \"))       # split() Fuction is use for convert into List\n",
    "print(str1.capitalize())     # capitalize() is Use For convert into Capital alphabet only 1st word\n",
    "print(str1.count(\"india\"))   # count() Fuction is Use For Count of Element Those Present in List\n",
    "print(str1.endswith(\"ia\"))   # endswith() Fuction Display To string is ending Yes or Not If Yes so give[True]\n",
    "print(str1.find(\"Mya\"))    # find() Fuction is Use To Find index where starting it & if not present so give -1.\n"
   ]
  },
  {
   "cell_type": "code",
   "execution_count": 94,
   "id": "9075d23c",
   "metadata": {},
   "outputs": [
    {
     "name": "stdout",
     "output_type": "stream",
     "text": [
      "5\n",
      "True\n",
      "True\n",
      "True\n",
      "False\n"
     ]
    }
   ],
   "source": [
    "str1=\"ilovemyindiaankushgupta\"\n",
    "print(str1.index(\"my\"))\n",
    "print(str1.isalnum()) # [A-Z & a-z & 0-9] is present in string so than \n",
    "                          #   True if Not prest. than False if space persent so false\n",
    "    \n",
    "print(str1.islower())  # if all string is small than give True if not than give False\n",
    "\n",
    "str2=\"ilovemyindiaankushgupta\\n\"\n",
    "print(str1.isprintable())  \n",
    "print(str2.isprintable())  # \\n is Not prints in output so it give False\n"
   ]
  },
  {
   "cell_type": "code",
   "execution_count": 105,
   "id": "83ed61f5",
   "metadata": {},
   "outputs": [
    {
     "name": "stdout",
     "output_type": "stream",
     "text": [
      "True\n",
      "True\n",
      "False\n",
      "aNKUSH gUPTA\n"
     ]
    }
   ],
   "source": [
    "str1=\" \"\n",
    "print(str1.isspace())  # if space/tap is present so output True if not present so False\n",
    "str2=\"Ankush Gupta\"\n",
    "print(str2.startswith(\"Ankush\"))   # if string  starts from it than output Yes if not than output False \n",
    "print(str2.startswith(\"Gupta\"))  \n",
    "print(str2.swapcase())  # it swap [small alphabet to capital] or [capital alphabet to small]\n",
    "\n"
   ]
  },
  {
   "cell_type": "code",
   "execution_count": 106,
   "id": "b0dcbaf8",
   "metadata": {},
   "outputs": [
    {
     "name": "stdout",
     "output_type": "stream",
     "text": [
      "Ankush Gupta L Love My India\n"
     ]
    }
   ],
   "source": [
    "str1=\"ankush gupta l love my india\"\n",
    "print(str1.title())  # convert capital alphabet to all charator of the all Word.\n"
   ]
  },
  {
   "cell_type": "code",
   "execution_count": 9,
   "id": "d2861d05",
   "metadata": {},
   "outputs": [
    {
     "name": "stdout",
     "output_type": "stream",
     "text": [
      "3\n"
     ]
    }
   ],
   "source": [
    "str1=\"ZZZOOOOOO\"\n",
    "# print(str1.endswith(\"ZZZ\"*1,\"OOO\"*2))   # endswith is also work From This Way.\n",
    "print(str1.count(\"Z\"))"
   ]
  },
  {
   "cell_type": "code",
   "execution_count": null,
   "id": "44627070",
   "metadata": {},
   "outputs": [],
   "source": [
    "# write programe to sort Number of non Derceasing order. ?\n",
    "\n",
    "x=[]\n",
    "# x=int(input(\"Enter Number list of Number :\"))\n",
    "n=int(input(\"Enter a Number :\"))\n",
    "for i in range(n):\n",
    "    x.append(int(input()))\n",
    "for i in range(n-1):\n",
    "    for j in range(n):\n",
    "        if()"
   ]
  },
  {
   "cell_type": "code",
   "execution_count": 5,
   "id": "85e603cd",
   "metadata": {},
   "outputs": [
    {
     "ename": "AttributeError",
     "evalue": "'int' object has no attribute 'numeric'",
     "output_type": "error",
     "traceback": [
      "\u001b[1;31m---------------------------------------------------------------------------\u001b[0m",
      "\u001b[1;31mAttributeError\u001b[0m                            Traceback (most recent call last)",
      "Cell \u001b[1;32mIn[5], line 6\u001b[0m\n\u001b[0;32m      2\u001b[0m str1\u001b[38;5;241m=\u001b[39m\u001b[38;5;124m\"\u001b[39m\u001b[38;5;124mankush58\u001b[39m\u001b[38;5;124m\"\u001b[39m\n\u001b[0;32m      3\u001b[0m \u001b[38;5;66;03m# for i in str1:\u001b[39;00m\n\u001b[0;32m      4\u001b[0m \u001b[38;5;66;03m#     ifi.numeric()==\u001b[39;00m\n\u001b[0;32m      5\u001b[0m \u001b[38;5;66;03m# print(str2.numeric())\u001b[39;00m\n\u001b[1;32m----> 6\u001b[0m str2\u001b[38;5;241m.\u001b[39mnumeric()\n",
      "\u001b[1;31mAttributeError\u001b[0m: 'int' object has no attribute 'numeric'"
     ]
    }
   ],
   "source": [
    "str2=3456\n",
    "str1=\"ankush58\"\n",
    "# for i in str1:\n",
    "#     ifi.numeric()==\n",
    "# print(str2.numeric())\n",
    "str2.numeric()"
   ]
  },
  {
   "cell_type": "code",
   "execution_count": 1,
   "id": "cedd8c87",
   "metadata": {},
   "outputs": [
    {
     "name": "stdout",
     "output_type": "stream",
     "text": [
      "[10, 10, 20, 20, 30, 40, 40]\n",
      "{40, 10, 20, 30}\n",
      "(40, 10, 20, 30)\n",
      "[10, 20, 30, 40]\n"
     ]
    }
   ],
   "source": [
    "### concept of manipulates of advanced datatype . \n",
    "\n",
    "s={}        # defind set \n",
    "l=[10,20,30,40,40,20,10]   # defind list\n",
    "l.sort()            # sorting can be possible in list datatype\n",
    "print(l)\n",
    "s=set(l)\n",
    "print(s)          \n",
    "tup=tuple(s)     # in tuple can not be possible of sorting ?\n",
    "print(tup)\n",
    "#        tup.sort()  ## in tuple can not be possible of sorting ?\n",
    "#       print(tup)\n",
    "L=list(tup)\n",
    "L.sort()     # sorting can be possible in list \n",
    "print(L)"
   ]
  },
  {
   "cell_type": "code",
   "execution_count": 1,
   "id": "77be658b",
   "metadata": {},
   "outputs": [
    {
     "name": "stdout",
     "output_type": "stream",
     "text": [
      "ankush\n",
      "dict_keys([1, 5, 8, 2])\n",
      "[1, 5, 8, 2]\n",
      "The keys of Dictionary : 1\n",
      "The keys of Dictionary : 5\n",
      "The keys of Dictionary : 8\n",
      "The keys of Dictionary : 2\n"
     ]
    }
   ],
   "source": [
    "# Dictionary keys concept ?\n",
    "\n",
    "d={1:\"ankush\",5:\"gupta\",8:\"okk\",2:\"by\"}\n",
    "print(d[1])\n",
    "print(d.keys())      # can be axies Keys of Dictionary \n",
    "l=list(d.keys())     # easyly can be convert into List\n",
    "print(l)\n",
    "num=len(l)            # indivisualy can be axies keys of Dictionary .\n",
    "for i in range(num):        \n",
    "    print(\"The keys of Dictionary :\",l[i])"
   ]
  },
  {
   "cell_type": "code",
   "execution_count": 1,
   "id": "4754a151",
   "metadata": {},
   "outputs": [
    {
     "name": "stdout",
     "output_type": "stream",
     "text": [
      "1\n",
      "2\n",
      "3\n",
      "4\n",
      "\n"
     ]
    }
   ],
   "source": [
    "l=[\"1\",\"2\",\"3\",\"4\"]\n",
    "for i in l:\n",
    "    if i.isnumeric():  # this is work only string numerical not work on integer\n",
    "        print(i)\n",
    "        \n",
    "        \n",
    "print()\n",
    "\n",
    "# l=[12,12,23,24]    # this is not allows on integer \n",
    "# for i in l:\n",
    "#    if i.numeric():\n",
    "#       print(i)"
   ]
  }
 ],
 "metadata": {
  "kernelspec": {
   "display_name": "Python 3 (ipykernel)",
   "language": "python",
   "name": "python3"
  },
  "language_info": {
   "codemirror_mode": {
    "name": "ipython",
    "version": 3
   },
   "file_extension": ".py",
   "mimetype": "text/x-python",
   "name": "python",
   "nbconvert_exporter": "python",
   "pygments_lexer": "ipython3",
   "version": "3.11.4"
  }
 },
 "nbformat": 4,
 "nbformat_minor": 5
}
