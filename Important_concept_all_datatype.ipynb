{
 "cells": [
  {
   "cell_type": "code",
   "execution_count": 8,
   "id": "d14f14e5",
   "metadata": {},
   "outputs": [
    {
     "name": "stdout",
     "output_type": "stream",
     "text": [
      "YES\n",
      "\n",
      "YES\n",
      "\n",
      "YES\n",
      "\n",
      "NO\n"
     ]
    }
   ],
   "source": [
    "# comperision of List ?\n",
    "\n",
    "a=[100,200,300,400,500]\n",
    "b=[10,20,30,40,50]    \n",
    "if a>b:\n",
    "    print(\"YES\")\n",
    "else:\n",
    "    print(\"NO\")\n",
    "\n",
    "    \n",
    "print()\n",
    "\n",
    "a=[100,200,300,400,500]\n",
    "b=[10,20000,3022222,4022222,50222222]  # comperission only 1st index of Both List ?\n",
    "if a>b:\n",
    "    print(\"YES\")\n",
    "else:\n",
    "    print(\"NO\")\n",
    "    \n",
    "print()\n",
    "\n",
    "a=[100,200,300,400,500]\n",
    "b=[100,20,30,40,50]          # comperission only 1st index of Both List ?\n",
    "if a>b:\n",
    "    print(\"YES\")\n",
    "else:\n",
    "    print(\"NO\")\n",
    "    \n",
    "print()\n",
    "\n",
    "a=[100,200,300,400,500]\n",
    "b=[101,20,30,40,50]          # comperission only 1st index of Both List ?\n",
    "if a>b:\n",
    "    print(\"YES\")\n",
    "else:\n",
    "    print(\"NO\")"
   ]
  },
  {
   "cell_type": "code",
   "execution_count": null,
   "id": "2bfa2590",
   "metadata": {},
   "outputs": [],
   "source": []
  }
 ],
 "metadata": {
  "kernelspec": {
   "display_name": "Python 3 (ipykernel)",
   "language": "python",
   "name": "python3"
  },
  "language_info": {
   "codemirror_mode": {
    "name": "ipython",
    "version": 3
   },
   "file_extension": ".py",
   "mimetype": "text/x-python",
   "name": "python",
   "nbconvert_exporter": "python",
   "pygments_lexer": "ipython3",
   "version": "3.11.4"
  }
 },
 "nbformat": 4,
 "nbformat_minor": 5
}
