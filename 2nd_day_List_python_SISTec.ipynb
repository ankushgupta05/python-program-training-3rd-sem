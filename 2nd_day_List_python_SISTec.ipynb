{
 "cells": [
  {
   "cell_type": "code",
   "execution_count": 15,
   "id": "809f64e1",
   "metadata": {},
   "outputs": [
    {
     "name": "stdout",
     "output_type": "stream",
     "text": [
      "[10, 20, 30, 40, 50]\n",
      "2154020722240\n",
      "<class 'list'>\n"
     ]
    }
   ],
   "source": [
    "# List concept    # List is mutable (we can add anotherr string throught append)\n",
    "\n",
    "x=[10,20,30,40,50]  # List can be also Empty   \n",
    "print(x)\n",
    "print(id(x))\n",
    "print(type(x))"
   ]
  },
  {
   "cell_type": "code",
   "execution_count": 2,
   "id": "c479222b",
   "metadata": {},
   "outputs": [
    {
     "name": "stdout",
     "output_type": "stream",
     "text": [
      "[10, 'Ankush Gupta', 20, True, 66.22]\n",
      "2154006588672\n",
      "<class 'list'>\n"
     ]
    }
   ],
   "source": [
    "x=[10,\"Ankush Gupta\",20,True,66.22]   # List allows To add all Type of data\n",
    "print(x)\n",
    "print(id(x))\n",
    "print(type(x))"
   ]
  },
  {
   "cell_type": "code",
   "execution_count": 3,
   "id": "971358b2",
   "metadata": {},
   "outputs": [
    {
     "name": "stdout",
     "output_type": "stream",
     "text": [
      "[10, ['Ankush', 'Gupta'], 20, [30, 40, 50]]\n",
      "2154006588544\n",
      "<class 'list'>\n"
     ]
    }
   ],
   "source": [
    "x=[10,[\"Ankush\",\"Gupta\"],20,[30,40,50]]   # List allows To add all Type of data\n",
    "print(x)\n",
    "print(id(x))\n",
    "print(type(x))"
   ]
  },
  {
   "cell_type": "code",
   "execution_count": 4,
   "id": "0f9b1c6c",
   "metadata": {},
   "outputs": [
    {
     "name": "stdout",
     "output_type": "stream",
     "text": [
      "[[[1, 2], [3, 4]], [['a', 'b']]]\n",
      "2154006692928\n",
      "<class 'list'>\n"
     ]
    }
   ],
   "source": [
    "x=[[[1,2],[3,4]],[[\"a\",\"b\"]]]\n",
    "print(x)\n",
    "print(id(x))\n",
    "print(type(x))"
   ]
  },
  {
   "cell_type": "code",
   "execution_count": 6,
   "id": "e74c1c0a",
   "metadata": {},
   "outputs": [
    {
     "name": "stdout",
     "output_type": "stream",
     "text": [
      "[[1, 2], [3, 4]]\n"
     ]
    }
   ],
   "source": [
    "x=[[[1,2],[3,4]],[[\"a\",\"b\"]]]   # nested index can be posible\n",
    "print(x[0])"
   ]
  },
  {
   "cell_type": "code",
   "execution_count": 7,
   "id": "3b30f879",
   "metadata": {},
   "outputs": [
    {
     "name": "stdout",
     "output_type": "stream",
     "text": [
      "[['a', 'b']]\n"
     ]
    }
   ],
   "source": [
    "x=[[[1,2],[3,4]],[[\"a\",\"b\"]]]      # nested index can be posile\n",
    "print(x[1])"
   ]
  },
  {
   "cell_type": "code",
   "execution_count": 8,
   "id": "6d134055",
   "metadata": {},
   "outputs": [
    {
     "name": "stdout",
     "output_type": "stream",
     "text": [
      "k\n"
     ]
    }
   ],
   "source": [
    "str=\"Ankush Gupta\" # nested  string(index) can not be posible\n",
    "print(str[2])"
   ]
  },
  {
   "cell_type": "code",
   "execution_count": 9,
   "id": "becee29b",
   "metadata": {},
   "outputs": [
    {
     "name": "stdout",
     "output_type": "stream",
     "text": [
      "[[[1, 2], [3, 4]], [['a', 'b']]]\n",
      "[[[1, 2], [3, 4]], [['a', 'b']], ' I Love My India']\n"
     ]
    }
   ],
   "source": [
    "print(x)\n",
    "x.append(\" I Love My India\")    # append concatenats(add) another string or list anything \n",
    "print(x)"
   ]
  },
  {
   "cell_type": "code",
   "execution_count": 18,
   "id": "c26bbd31",
   "metadata": {},
   "outputs": [
    {
     "name": "stdout",
     "output_type": "stream",
     "text": [
      "ankush\n"
     ]
    },
    {
     "ename": "TypeError",
     "evalue": "'tuple' object does not support item assignment",
     "output_type": "error",
     "traceback": [
      "\u001b[1;31m---------------------------------------------------------------------------\u001b[0m",
      "\u001b[1;31mTypeError\u001b[0m                                 Traceback (most recent call last)",
      "Cell \u001b[1;32mIn[18], line 5\u001b[0m\n\u001b[0;32m      2\u001b[0m x\u001b[38;5;241m=\u001b[39m(\u001b[38;5;124m\"\u001b[39m\u001b[38;5;124mankush\u001b[39m\u001b[38;5;124m\"\u001b[39m,\u001b[38;5;241m10\u001b[39m,\u001b[38;5;241m20\u001b[39m,\u001b[38;5;124m\"\u001b[39m\u001b[38;5;124mGupta\u001b[39m\u001b[38;5;124m\"\u001b[39m)\n\u001b[0;32m      3\u001b[0m \u001b[38;5;28mprint\u001b[39m(x[\u001b[38;5;241m0\u001b[39m])\n\u001b[1;32m----> 5\u001b[0m x[\u001b[38;5;241m0\u001b[39m]\u001b[38;5;241m=\u001b[39m\u001b[38;5;124m\"\u001b[39m\u001b[38;5;124mI Love My India\u001b[39m\u001b[38;5;124m\"\u001b[39m\n\u001b[0;32m      6\u001b[0m \u001b[38;5;28mprint\u001b[39m(x)\n",
      "\u001b[1;31mTypeError\u001b[0m: 'tuple' object does not support item assignment"
     ]
    }
   ],
   "source": [
    "# concept of Touple    Touple is immutable but List is Not Mutable\n",
    "x=(\"ankush\",10,20,\"Gupta\")\n",
    "print(x[0])\n",
    "\n",
    "x[0]=\"I Love My India\"\n",
    "print(x)\n",
    "\n"
   ]
  },
  {
   "cell_type": "code",
   "execution_count": 19,
   "id": "7715ba53",
   "metadata": {},
   "outputs": [
    {
     "name": "stdout",
     "output_type": "stream",
     "text": [
      "{1, 2, 3, 4, 5}\n",
      "2154020588672\n",
      "<class 'set'>\n"
     ]
    }
   ],
   "source": [
    "# set     # odder does not exit in set and set is muteble we add throught add(common)\n",
    "s={1,2,3,4,5}\n",
    "print(s)\n",
    "print(id(s))\n",
    "print(type(s))"
   ]
  },
  {
   "cell_type": "code",
   "execution_count": 20,
   "id": "74e5fd31",
   "metadata": {},
   "outputs": [
    {
     "name": "stdout",
     "output_type": "stream",
     "text": [
      "{1, 2, 3, 4, 5}\n",
      "2154020589344\n",
      "<class 'set'>\n"
     ]
    }
   ],
   "source": [
    "# set  # odder does not exit in set and set is muteble we add throught add(common)\n",
    "p={1,2,3,4,5}\n",
    "print(p)\n",
    "print(id(p))\n",
    "print(type(p))"
   ]
  },
  {
   "cell_type": "code",
   "execution_count": 21,
   "id": "433f2aae",
   "metadata": {},
   "outputs": [
    {
     "name": "stdout",
     "output_type": "stream",
     "text": [
      "{1, 2, 3, 4, 5}\n"
     ]
    }
   ],
   "source": [
    "s={1,1,3,3,2,4,5}\n",
    "print(s)"
   ]
  },
  {
   "cell_type": "code",
   "execution_count": 24,
   "id": "c2596066",
   "metadata": {},
   "outputs": [
    {
     "ename": "SyntaxError",
     "evalue": "invalid syntax (218638513.py, line 2)",
     "output_type": "error",
     "traceback": [
      "\u001b[1;36m  Cell \u001b[1;32mIn[24], line 2\u001b[1;36m\u001b[0m\n\u001b[1;33m    s.add{10,20}\u001b[0m\n\u001b[1;37m         ^\u001b[0m\n\u001b[1;31mSyntaxError\u001b[0m\u001b[1;31m:\u001b[0m invalid syntax\n"
     ]
    }
   ],
   "source": [
    "print(s)\n",
    "s.add{10,20}\n",
    "print(s)"
   ]
  },
  {
   "cell_type": "code",
   "execution_count": null,
   "id": "73bf5a56",
   "metadata": {},
   "outputs": [],
   "source": []
  }
 ],
 "metadata": {
  "kernelspec": {
   "display_name": "Python 3 (ipykernel)",
   "language": "python",
   "name": "python3"
  },
  "language_info": {
   "codemirror_mode": {
    "name": "ipython",
    "version": 3
   },
   "file_extension": ".py",
   "mimetype": "text/x-python",
   "name": "python",
   "nbconvert_exporter": "python",
   "pygments_lexer": "ipython3",
   "version": "3.11.3"
  }
 },
 "nbformat": 4,
 "nbformat_minor": 5
}
