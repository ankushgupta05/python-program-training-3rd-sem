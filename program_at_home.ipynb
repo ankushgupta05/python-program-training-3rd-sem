{
 "cells": [
  {
   "cell_type": "code",
   "execution_count": 1,
   "id": "dd5c04c3",
   "metadata": {},
   "outputs": [
    {
     "name": "stdout",
     "output_type": "stream",
     "text": [
      "Enter a string of eliment :12 3 4 11\n",
      "The greatest eliment of list : 12\n"
     ]
    }
   ],
   "source": [
    "# write a program  which takes variable lenght argument to find greatest \n",
    "#      eliment it will return greatest eliment Using fuction ?\n",
    "\n",
    "def greatest(str1):\n",
    "    l=str1.split(\" \")\n",
    "    Temp=0\n",
    "    for i in l:\n",
    "        if int(i)>Temp:\n",
    "            Temp=int(i)\n",
    "    return Temp\n",
    "str1=(input(\"Enter a string of eliment :\"))\n",
    "print(\"The greatest eliment of list :\",greatest(str1))"
   ]
  },
  {
   "cell_type": "code",
   "execution_count": 2,
   "id": "726a55c1",
   "metadata": {},
   "outputs": [
    {
     "name": "stdout",
     "output_type": "stream",
     "text": [
      "Enter a string :ankush aman mahesh mukesh sunny rockey  monika ramesh\n",
      "The lenght of indivisually string : 6\n",
      " Maximum string and same lenght of mul. string : ['ankush', 'mahesh', 'mukesh', 'rockey', 'monika', 'ramesh']\n"
     ]
    }
   ],
   "source": [
    "# write a python Funtion which takes variable lenght argument to receive string return\n",
    "#    the list of maximum lenght of string or string if  multiple string have the same string ?\n",
    "\n",
    "def mul_string(str1):\n",
    "    l=str1.split(\" \")\n",
    "    m=[]\n",
    "    Temp=0\n",
    "    num=len(l)\n",
    "    for i in range(num):\n",
    "        if len(l[i])>Temp:\n",
    "            Temp=len(l[i])\n",
    "    for i in range(num):\n",
    "        if len(l[i])>=Temp:\n",
    "            m.append(l[i])\n",
    "    return m\n",
    "\n",
    "str1=input(\"Enter a string :\")\n",
    "lenght=len(mul_string(str1)[0]) \n",
    "print(\"The lenght of indivisually string :\",lenght)\n",
    "print(\" Maximum string and same lenght of mul. string :\",mul_string(str1))"
   ]
  },
  {
   "cell_type": "code",
   "execution_count": 18,
   "id": "7092ea1a",
   "metadata": {},
   "outputs": [
    {
     "name": "stdout",
     "output_type": "stream",
     "text": [
      "Enter 1st Numbr :3\n",
      "Enter 2st Numbr :11\n",
      "The LCM of Two number  : 33\n"
     ]
    }
   ],
   "source": [
    "# Find LCM of Two Number Given By Users Using Function ?\n",
    "\n",
    "def LCM_numbr(n1,n2):\n",
    "    miNumbr=min(n1,n1)\n",
    "    maNumbr=max(n1,n2)\n",
    "    i=1\n",
    "    num1=[]\n",
    "    num2=[]\n",
    "    if maNumbr%miNumbr==0:\n",
    "        return maNumbr\n",
    "    while(maNumbr!=i):\n",
    "        num1.append(miNumbr*i)\n",
    "        num2.append(maNumbr*i)\n",
    "        i+=1\n",
    "    for i in num1:\n",
    "        for j in num2:\n",
    "            if i==j:\n",
    "                return i\n",
    "    return n1*n2\n",
    "n1=int(input(\"Enter 1st Numbr :\"))\n",
    "n2=int(input(\"Enter 2st Numbr :\"))\n",
    "print(\"The LCM of Two number  :\",LCM_numbr(n1,n2))\n"
   ]
  },
  {
   "cell_type": "code",
   "execution_count": 6,
   "id": "f057f8a4",
   "metadata": {
    "scrolled": true
   },
   "outputs": [
    {
     "name": "stdout",
     "output_type": "stream",
     "text": [
      "1 2 3\n",
      ".\n",
      ".\n",
      "#\n",
      "#\n",
      "#\n",
      ".\n",
      "2 "
     ]
    }
   ],
   "source": [
    "# find maximum border ?\n",
    "\n",
    "def find(n,m):    \n",
    "    p1=[]\n",
    "    Temp2=0\n",
    "    j=0\n",
    "    while(n!=j):  \n",
    "        for i in range(m):\n",
    "            p1.append(input())\n",
    "            \n",
    "        Temp1=p1.count('#')\n",
    "        if Temp1>Temp2:\n",
    "            Temp2=Temp1\n",
    "            p1.clear()\n",
    "        j=j+1\n",
    "    return Temp2\n",
    "\n",
    "t=input().split()\n",
    "a,n,m=t\n",
    "a=int(a)\n",
    "n=int(n)\n",
    "m=int(m)\n",
    "i=0\n",
    "while(a>i):\n",
    "    res=find(n,m)\n",
    "    print(res,end=\" \")\n",
    "    a=a-1"
   ]
  },
  {
   "cell_type": "code",
   "execution_count": 36,
   "id": "5e020ea6",
   "metadata": {},
   "outputs": [
    {
     "name": "stdout",
     "output_type": "stream",
     "text": [
      "[1, 3, 5, 7, 9]\n"
     ]
    }
   ],
   "source": [
    "y=[i for i in range(1,11) if i%2!=0 ]\n",
    "print(y)"
   ]
  },
  {
   "cell_type": "code",
   "execution_count": 42,
   "id": "29b30cee",
   "metadata": {},
   "outputs": [
    {
     "name": "stdout",
     "output_type": "stream",
     "text": [
      "[1, 2, 3, 4, 5, 6, 7, 8, 9, 10]\n"
     ]
    }
   ],
   "source": [
    "x=[i for i in range(1,11)]\n",
    "print(x)"
   ]
  },
  {
   "cell_type": "code",
   "execution_count": 7,
   "id": "181c2bf8",
   "metadata": {},
   "outputs": [
    {
     "name": "stdout",
     "output_type": "stream",
     "text": [
      "Enter aNumber :5\n",
      "0\n",
      "1\n",
      "1\n",
      "3\n",
      "4\n",
      "9\n",
      "13\n",
      "25\n"
     ]
    }
   ],
   "source": [
    "# write a program to Find Finacchi ?\n",
    "\n",
    "f1=[]\n",
    "Temp1=0\n",
    "Temp2=1\n",
    "n1=int(input(\"Enter aNumber :\"))\n",
    "for i in range(1,n1):\n",
    "    print(Temp1)\n",
    "    print(Temp2)\n",
    "    Temp1=Temp2\n",
    "    Temp2=Temp2+i+Temp1\n",
    "    \n",
    "    \n",
    "    "
   ]
  },
  {
   "cell_type": "code",
   "execution_count": 16,
   "id": "9044517e",
   "metadata": {},
   "outputs": [
    {
     "name": "stdout",
     "output_type": "stream",
     "text": [
      "Enter a Number of string :10 2 4 11 0 5 11\n",
      "['0', '2', '4', '5', '10', '11', '11']\n"
     ]
    }
   ],
   "source": [
    "# sorting  in python in long way called selection sort ?\n",
    "\n",
    "n1=input(\"Enter a Number of string :\").split()\n",
    "num=len(n1)\n",
    "Temp=0\n",
    "for i in range(0,num-1):\n",
    "    for j in range(1+i,num):\n",
    "        if int(n1[i])>int(n1[j]):\n",
    "            Temp=n1[i]\n",
    "            n1[i]=n1[j]\n",
    "            n1[j]=Temp\n",
    "print(n1)\n",
    "            "
   ]
  },
  {
   "cell_type": "code",
   "execution_count": 22,
   "id": "1d4e884f",
   "metadata": {},
   "outputs": [
    {
     "name": "stdout",
     "output_type": "stream",
     "text": [
      "Enter a list  of string  number :1 22 3 44 5 66 7 88 9\n",
      "['1', '3', '5', '7', '9', '22', '44', '66', '88']\n"
     ]
    }
   ],
   "source": [
    "# write a  python fuction to To solve Bubble sort ?\n",
    "\n",
    "str1=input(\"Enter a list  of string  number :\").split()\n",
    "num=len(str1)\n",
    "count=1\n",
    "Temp=0\n",
    "while(count<num):\n",
    "    for i in range(0,num-count):\n",
    "        if int(str1[i])>int(str1[1+i]):\n",
    "            Temp=str1[i]\n",
    "            str1[i]=str1[i+1]\n",
    "            str1[i+1]=Temp\n",
    "    count+=1\n",
    "print(str1)"
   ]
  },
  {
   "cell_type": "code",
   "execution_count": 27,
   "id": "461ffe43",
   "metadata": {},
   "outputs": [
    {
     "name": "stdout",
     "output_type": "stream",
     "text": [
      "Enter a string of number :1 2 0 2 1\n",
      "['1', '2', '0', '2', '1']\n",
      "1 3 3 5 6 2 2 4 5 0 2 3 2 3 1 "
     ]
    }
   ],
   "source": [
    "# Find sum of [ list ] array till i_th index ?\n",
    "\n",
    "str1=input(\"Enter a string of number :\").split()\n",
    "print(str1)\n",
    "num=len(str1)\n",
    "for i in range(0,num):\n",
    "    curLen=0\n",
    "    for j in range(0+i,num):\n",
    "        curLen+=int(str1[j])\n",
    "        print(curLen,end=\" \")\n",
    "        "
   ]
  },
  {
   "cell_type": "code",
   "execution_count": 31,
   "id": "a67832fc",
   "metadata": {},
   "outputs": [
    {
     "name": "stdout",
     "output_type": "stream",
     "text": [
      "Enter a number of string :12 34 2 1 66 100\n",
      "['12', '34', '2', '1', '66', '100']\n",
      "The maximum Number  : 100\n"
     ]
    }
   ],
   "source": [
    "# Maximum Number Throught Array [ List ] ?\n",
    "\n",
    "str1=input(\"Enter a number of string :\").split()\n",
    "maxx=-11999\n",
    "print(str1)\n",
    "for i in str1:\n",
    "    mx=max(maxx,int(i))\n",
    "print(\"The maximum Number  :\",mx)"
   ]
  },
  {
   "cell_type": "code",
   "execution_count": 14,
   "id": "f6778b63",
   "metadata": {},
   "outputs": [
    {
     "name": "stdout",
     "output_type": "stream",
     "text": [
      "Enter a Fibnacci Number :10\n",
      "Fibnacci serise Throught : 55\n",
      "Fibnacco serise throught iterate : 55\n"
     ]
    }
   ],
   "source": [
    "# write a program to make a fibnocci program ?\n",
    "\n",
    "def fib_Iterate(n1):\n",
    "    curlen=1\n",
    "    preNum=0\n",
    "    for i in range(1,n1):\n",
    "        prepreNum=preNum\n",
    "        preNum=curlen\n",
    "        curlen=prepreNum+preNum\n",
    "    return curlen\n",
    "    \n",
    "def fib_Recursen(n1):\n",
    "    \n",
    "    if n1==0:\n",
    "        return 0\n",
    "    elif n1==1:\n",
    "        return 1\n",
    "    else:\n",
    "        return fibn(n1-1)+fibn(n1-2)    \n",
    "\n",
    "n1=int(input(\"Enter a Fibnacci Number :\"))\n",
    "print(\"Fibnacci serise Throught :\",fib_Recursen(n1))\n",
    "print(\"Fibnacco serise throught iterate :\",fib_Iterate(n1))"
   ]
  },
  {
   "cell_type": "code",
   "execution_count": 49,
   "id": "4a42067a",
   "metadata": {},
   "outputs": [
    {
     "name": "stdout",
     "output_type": "stream",
     "text": [
      "ankush0510 gupta2004\n",
      "ankush0510 gupta2004\n",
      "['0', '5', '1', '0', '2', '0', '0', '4']\n",
      "8\n",
      "['a', 'n', 'k', 'u', 's', 'h', ' ', 'g', 'u', 'p', 't', 'a']\n",
      "12\n"
     ]
    }
   ],
   "source": [
    "# concept of numeric() Fuction\n",
    "n1=[]\n",
    "c1=[]\n",
    "str1=input()  # Taking string in input ?\n",
    "print(str1)\n",
    "for i in str1:\n",
    "    if i.isnumeric():  # numeric() fuction can not take space or tap \n",
    "        n1.append(i)  \n",
    "    else:\n",
    "        c1.append(i)\n",
    "print(n1)\n",
    "print(len(n1))\n",
    "print(c1)\n",
    "print(len(c1))\n",
    "\n",
    "\n",
    "\n",
    "# NOTE : str object has no attribute of \"  remove() \" Fuction ( we can not use This facilities )\n",
    "# NOTE : isalpha() also take space or tap ( or space can be append in list throught input when for loop is running ).\n",
    "# NOTE :  numeric() dose not take space or tap when for loop is runing ."
   ]
  },
  {
   "cell_type": "code",
   "execution_count": 50,
   "id": "2aafd078",
   "metadata": {},
   "outputs": [
    {
     "name": "stdout",
     "output_type": "stream",
     "text": [
      "ankush0510 gupta2004\n",
      "['0', '5', '1', '0', ' ', '2', '0', '0', '4']\n",
      "9\n",
      "['a', 'n', 'k', 'u', 's', 'h', 'g', 'u', 'p', 't', 'a']\n",
      "11\n"
     ]
    }
   ],
   "source": [
    "# concept of isalpha() Fuction \n",
    "\n",
    "n1=[]\n",
    "c1=[]\n",
    "str1=input()\n",
    "for i in str1:\n",
    "    if i.isalpha():       # isalpha() can be take space By Default\n",
    "        c1.append(i)\n",
    "    else:\n",
    "        n1.append(i)\n",
    "print(n1)\n",
    "print(len(n1))\n",
    "print(c1)\n",
    "print(len(c1))\n",
    "\n",
    "\n",
    "# NOTE : str object has no attribute of \"  remove() \" Fuction ( we can not use This facilities )\n",
    "# NOTE : isalpha() also take space or tap ( or space can be append in list throught input when for loop is running ).\n",
    "# NOTE :  numeric() dose not take space or tap when for loop is runing .\n",
    "# NOTE : str object no attribute of numeric() fuction ."
   ]
  },
  {
   "cell_type": "code",
   "execution_count": 4,
   "id": "534b7e9c",
   "metadata": {},
   "outputs": [
    {
     "name": "stdout",
     "output_type": "stream",
     "text": [
      "Enter  a Number :5\n",
      "Given Number is Prime : 5\n"
     ]
    }
   ],
   "source": [
    "# write a programe to find prime or not ?\n",
    "\n",
    "n1=int(input(\"Enter  a Number :\"))\n",
    "Temp=0\n",
    "for i in range(1,n1+1):\n",
    "    if n1%i==0:\n",
    "        Temp+=1\n",
    "if Temp==2:\n",
    "    print(f\"Given Number is Prime : {n1}\")\n",
    "else:\n",
    "    print(f\"Given Number is Not Prime : {n1}\")\n",
    "    "
   ]
  },
  {
   "cell_type": "code",
   "execution_count": 14,
   "id": "d14cb566",
   "metadata": {},
   "outputs": [
    {
     "name": "stdout",
     "output_type": "stream",
     "text": [
      "Enter Two Number with Space :10 27\n",
      "The List of prime number from 10 to 27 is : [11, 13, 17, 19, 23]\n"
     ]
    }
   ],
   "source": [
    "# write a program to find prime number between two numbers ?\n",
    "\n",
    "\n",
    "n1,n2=[ int(i) for i in input(\"Enter Two Number with Space :\").split()]\n",
    "l=[]\n",
    "num1=n1+1    # between two number but both number can not be persent in list .\n",
    "num2=n2-1     \n",
    "while( num2 > num1 ):\n",
    "    Temp=0\n",
    "    for i in range(1,num1+1):\n",
    "        if num1%i==0:\n",
    "            Temp+=1\n",
    "    if Temp==2:\n",
    "        l.append(num1)\n",
    "    num1+=1\n",
    "print(f\"The List of prime number from {n1} to {n2} is :\",l)"
   ]
  },
  {
   "cell_type": "code",
   "execution_count": 20,
   "id": "7b7521fe",
   "metadata": {},
   "outputs": [
    {
     "name": "stdout",
     "output_type": "stream",
     "text": [
      "12 23 34 45 45\n",
      "The list of even number [12, 34] and remainder list is [23, 45, 45]\n"
     ]
    }
   ],
   "source": [
    "# write a function program which recieve variable length argument to filter or n even numbers ?\n",
    "\n",
    "def even_list(*l):\n",
    "    l=list(l)\n",
    "    T=[]\n",
    "    for i in l:\n",
    "        if int(i)%2==0:\n",
    "            T.append(i)\n",
    "            l.remove(i)\n",
    "    print(f\"The list of even number {T} and remainder list is {l}\")\n",
    "    \n",
    "\n",
    "l=[ int(i) for i in input().split()]\n",
    "even_list(*l) \n"
   ]
  },
  {
   "cell_type": "code",
   "execution_count": 22,
   "id": "c812bd96",
   "metadata": {},
   "outputs": [
    {
     "name": "stdout",
     "output_type": "stream",
     "text": [
      "Enter a number :100\n",
      "The factor of given number 100 is : [1, 2, 4, 5, 10, 20, 25, 50]\n"
     ]
    }
   ],
   "source": [
    "# write a program to find factor of given number ?\n",
    "\n",
    "def factor(n1):\n",
    "    l=[]\n",
    "    for i in range(1,n1):\n",
    "        if n1%i==0:\n",
    "            l.append(i)\n",
    "    return l\n",
    "\n",
    "n1=int(input(\"Enter a number :\"))\n",
    "print(f\"The factor of given number {n1} is :\",factor(n1))"
   ]
  }
 ],
 "metadata": {
  "kernelspec": {
   "display_name": "Python 3 (ipykernel)",
   "language": "python",
   "name": "python3"
  },
  "language_info": {
   "codemirror_mode": {
    "name": "ipython",
    "version": 3
   },
   "file_extension": ".py",
   "mimetype": "text/x-python",
   "name": "python",
   "nbconvert_exporter": "python",
   "pygments_lexer": "ipython3",
   "version": "3.11.4"
  }
 },
 "nbformat": 4,
 "nbformat_minor": 5
}
