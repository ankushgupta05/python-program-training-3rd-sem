{
 "cells": [
  {
   "cell_type": "code",
   "execution_count": 3,
   "id": "3afcfc99",
   "metadata": {},
   "outputs": [
    {
     "name": "stdout",
     "output_type": "stream",
     "text": [
      "Enter a Numner :0\n",
      "Number is possitive \n"
     ]
    }
   ],
   "source": [
    "# Decision making\n",
    "\n",
    "# IF Else\n",
    "\n",
    "a=int(input(\"Enter a Numner :\"))  # python Follow indentation \n",
    "if a>=0:\n",
    "    print(\"Number is possitive \")\n",
    "else:\n",
    "    print(\"Number is Negative \")\n"
   ]
  },
  {
   "cell_type": "code",
   "execution_count": 6,
   "id": "879ffa34",
   "metadata": {},
   "outputs": [
    {
     "name": "stdout",
     "output_type": "stream",
     "text": [
      "Enter a Numner : 5\n",
      "Number is possitive \n"
     ]
    }
   ],
   "source": [
    "a=int(input(\"Enter a Numner : \"))\n",
    "if a>0:\n",
    "    print(\"Number is possitive \")\n",
    "elif a<0:\n",
    "    print(\"Number is negative \")\n",
    "else:\n",
    "    print(\"Number is Zero \")"
   ]
  },
  {
   "cell_type": "code",
   "execution_count": 1,
   "id": "670634fa",
   "metadata": {},
   "outputs": [
    {
     "name": "stdout",
     "output_type": "stream",
     "text": [
      "A\n",
      "n\n",
      "k\n",
      "u\n",
      "s\n",
      "h\n",
      " \n",
      "G\n",
      "u\n",
      "p\n",
      "t\n",
      "a\n"
     ]
    }
   ],
   "source": [
    "# in python only here for Loop and while Loop But Do while Loop is not here in python\n",
    "\n",
    "str=\"Ankush Gupta\"   # Any value we can take in place of i.\n",
    "for i  in str:\n",
    "    print(i)\n",
    "    "
   ]
  },
  {
   "cell_type": "code",
   "execution_count": 2,
   "id": "be76af7b",
   "metadata": {},
   "outputs": [
    {
     "name": "stdout",
     "output_type": "stream",
     "text": [
      "A\n",
      "n\n",
      "k\n",
      "u\n",
      "s\n",
      "h\n",
      " \n",
      "G\n",
      "u\n",
      "p\n",
      "t\n",
      "a\n"
     ]
    }
   ],
   "source": [
    "str=\"Ankush Gupta\"\n",
    "for _  in str:      # Any value we can take in place of i.\n",
    "    print(_)"
   ]
  },
  {
   "cell_type": "code",
   "execution_count": 5,
   "id": "18a3d223",
   "metadata": {},
   "outputs": [
    {
     "name": "stdout",
     "output_type": "stream",
     "text": [
      "List elem 10  :  10\n",
      "List elem 20  :  20\n",
      "List elem 30  :  30\n",
      "List elem 40  :  40\n",
      "List elem 50  :  50\n"
     ]
    }
   ],
   "source": [
    "L=[10,20,30,40,50]\n",
    "for i in L:\n",
    "    print(\"List elem\",i,\" : \",i)"
   ]
  },
  {
   "cell_type": "code",
   "execution_count": 6,
   "id": "11387d99",
   "metadata": {},
   "outputs": [
    {
     "name": "stdout",
     "output_type": "stream",
     "text": [
      "0\n",
      "1\n",
      "2\n",
      "3\n",
      "4\n"
     ]
    }
   ],
   "source": [
    "for i in range(0,5):\n",
    "    print(i)"
   ]
  },
  {
   "cell_type": "code",
   "execution_count": 22,
   "id": "88ed532f",
   "metadata": {},
   "outputs": [
    {
     "name": "stdout",
     "output_type": "stream",
     "text": [
      "Enter one Digit :5\n",
      "Factorial of  5 is 120\n"
     ]
    }
   ],
   "source": [
    "# factorial Find in python\n",
    "\n",
    "x=int(input(\"Enter one Digit :\"))\n",
    "Temp=1;\n",
    "for i in range(1,x+1):\n",
    "    Temp*=i\n",
    "print(\"Factorial of \",x,\"is\",Temp)"
   ]
  },
  {
   "cell_type": "code",
   "execution_count": 25,
   "id": "85c23f49",
   "metadata": {},
   "outputs": [
    {
     "name": "stdout",
     "output_type": "stream",
     "text": [
      " i : 0  j : 0\n",
      " i : 0  j : 1\n",
      " i : 0  j : 2\n",
      " i : 0  j : 3\n",
      " i : 0  j : 4\n",
      " i : 1  j : 0\n",
      " i : 1  j : 1\n",
      " i : 1  j : 2\n",
      " i : 1  j : 3\n",
      " i : 1  j : 4\n",
      " i : 2  j : 0\n",
      " i : 2  j : 1\n",
      " i : 2  j : 2\n",
      " i : 2  j : 3\n",
      " i : 2  j : 4\n",
      " i : 3  j : 0\n",
      " i : 3  j : 1\n",
      " i : 3  j : 2\n",
      " i : 3  j : 3\n",
      " i : 3  j : 4\n"
     ]
    }
   ],
   "source": [
    "# Nested For Loop \n",
    "\n",
    "for i in range(0,4):\n",
    "    for j in range(0,5):\n",
    "        print(\" i :\",i,\" j :\",j)"
   ]
  },
  {
   "cell_type": "code",
   "execution_count": 43,
   "id": "601af7c8",
   "metadata": {},
   "outputs": [
    {
     "name": "stdout",
     "output_type": "stream",
     "text": [
      "Enter one Number :5\n",
      "5  *  1  =  5\n",
      "5  *  2  =  10\n",
      "5  *  3  =  15\n",
      "5  *  4  =  20\n",
      "5  *  5  =  25\n",
      "5  *  6  =  30\n",
      "5  *  7  =  35\n",
      "5  *  8  =  40\n",
      "5  *  9  =  45\n",
      "5  *  10  =  50\n",
      "\n",
      "4  *  1  =  4\n",
      "4  *  2  =  8\n",
      "4  *  3  =  12\n",
      "4  *  4  =  16\n",
      "4  *  5  =  20\n",
      "4  *  6  =  24\n",
      "4  *  7  =  28\n",
      "4  *  8  =  32\n",
      "4  *  9  =  36\n",
      "4  *  10  =  40\n",
      "\n",
      "3  *  1  =  3\n",
      "3  *  2  =  6\n",
      "3  *  3  =  9\n",
      "3  *  4  =  12\n",
      "3  *  5  =  15\n",
      "3  *  6  =  18\n",
      "3  *  7  =  21\n",
      "3  *  8  =  24\n",
      "3  *  9  =  27\n",
      "3  *  10  =  30\n",
      "\n",
      "2  *  1  =  2\n",
      "2  *  2  =  4\n",
      "2  *  3  =  6\n",
      "2  *  4  =  8\n",
      "2  *  5  =  10\n",
      "2  *  6  =  12\n",
      "2  *  7  =  14\n",
      "2  *  8  =  16\n",
      "2  *  9  =  18\n",
      "2  *  10  =  20\n",
      "\n",
      "1  *  1  =  1\n",
      "1  *  2  =  2\n",
      "1  *  3  =  3\n",
      "1  *  4  =  4\n",
      "1  *  5  =  5\n",
      "1  *  6  =  6\n",
      "1  *  7  =  7\n",
      "1  *  8  =  8\n",
      "1  *  9  =  9\n",
      "1  *  10  =  10\n",
      "\n"
     ]
    }
   ],
   "source": [
    "# Take of Given Number Using Nested For Loop.\n",
    "\n",
    "n=int(input(\"Enter one Number :\"))\n",
    "\n",
    "for i in range(1,n+1):\n",
    "    for j in range(1,11):\n",
    "        print(n,\" * \",j,\" = \",j*n)\n",
    "    n=n-1\n",
    "    print()\n",
    "        "
   ]
  },
  {
   "cell_type": "code",
   "execution_count": 40,
   "id": "25a0a4d1",
   "metadata": {},
   "outputs": [
    {
     "name": "stdout",
     "output_type": "stream",
     "text": [
      "Enter one Number :5\n",
      "1  *  1  =  1\n",
      "1  *  2  =  2\n",
      "1  *  3  =  3\n",
      "1  *  4  =  4\n",
      "1  *  5  =  5\n",
      "1  *  6  =  6\n",
      "1  *  7  =  7\n",
      "1  *  8  =  8\n",
      "1  *  9  =  9\n",
      "1  *  10  =  10\n",
      "\n",
      "2  *  1  =  2\n",
      "2  *  2  =  4\n",
      "2  *  3  =  6\n",
      "2  *  4  =  8\n",
      "2  *  5  =  10\n",
      "2  *  6  =  12\n",
      "2  *  7  =  14\n",
      "2  *  8  =  16\n",
      "2  *  9  =  18\n",
      "2  *  10  =  20\n",
      "\n",
      "3  *  1  =  3\n",
      "3  *  2  =  6\n",
      "3  *  3  =  9\n",
      "3  *  4  =  12\n",
      "3  *  5  =  15\n",
      "3  *  6  =  18\n",
      "3  *  7  =  21\n",
      "3  *  8  =  24\n",
      "3  *  9  =  27\n",
      "3  *  10  =  30\n",
      "\n",
      "4  *  1  =  4\n",
      "4  *  2  =  8\n",
      "4  *  3  =  12\n",
      "4  *  4  =  16\n",
      "4  *  5  =  20\n",
      "4  *  6  =  24\n",
      "4  *  7  =  28\n",
      "4  *  8  =  32\n",
      "4  *  9  =  36\n",
      "4  *  10  =  40\n",
      "\n",
      "5  *  1  =  5\n",
      "5  *  2  =  10\n",
      "5  *  3  =  15\n",
      "5  *  4  =  20\n",
      "5  *  5  =  25\n",
      "5  *  6  =  30\n",
      "5  *  7  =  35\n",
      "5  *  8  =  40\n",
      "5  *  9  =  45\n",
      "5  *  10  =  50\n",
      "\n"
     ]
    }
   ],
   "source": [
    "# Table By Using Nested For Loop. \n",
    "\n",
    "n=int(input(\"Enter one Number :\"))\n",
    "for i in range(1,n+1):\n",
    "    for j in range(1,11):\n",
    "        print(i,\" * \",j,\" = \",j*i)\n",
    "    n=n+1\n",
    "    print()\n"
   ]
  },
  {
   "cell_type": "code",
   "execution_count": 49,
   "id": "9cc00e36",
   "metadata": {},
   "outputs": [
    {
     "name": "stdout",
     "output_type": "stream",
     "text": [
      "0\n",
      "1\n",
      "2\n",
      "3\n",
      "4\n"
     ]
    }
   ],
   "source": [
    "# while Loop\n",
    "x=0   # initialization\n",
    "while x<5:     # condition\n",
    "    print(x)\n",
    "    x=x+1     # increament/Decreament"
   ]
  },
  {
   "cell_type": "code",
   "execution_count": 53,
   "id": "3e65c09e",
   "metadata": {},
   "outputs": [
    {
     "name": "stdout",
     "output_type": "stream",
     "text": [
      "10\n",
      "20\n",
      "30\n",
      "40\n",
      "50\n",
      "End of programe \n"
     ]
    }
   ],
   "source": [
    "# Break and contineous keyword\n",
    "\n",
    "per=[10,20,30,40,50,777,60,50,40]\n",
    "for i in per:\n",
    "    if i<100:\n",
    "        print(i)\n",
    "    else:\n",
    "        break\n",
    "print(\"End of programe \")"
   ]
  },
  {
   "cell_type": "code",
   "execution_count": 59,
   "id": "bb4c16b7",
   "metadata": {},
   "outputs": [
    {
     "name": "stdout",
     "output_type": "stream",
     "text": [
      "10\n",
      "20\n",
      "30\n",
      "40\n",
      "50\n",
      "60\n",
      "50\n",
      "40\n",
      "End of programe \n"
     ]
    }
   ],
   "source": [
    "per=[10,20,30,40,50,777,60,50,40]\n",
    "for i in per:\n",
    "    if i<100:\n",
    "        print(i)\n",
    "    else:\n",
    "        continue\n",
    "print(\"End of programe \")"
   ]
  },
  {
   "cell_type": "code",
   "execution_count": 61,
   "id": "7b8be25c",
   "metadata": {},
   "outputs": [
    {
     "name": "stdout",
     "output_type": "stream",
     "text": [
      "Enter i :8\n",
      "wrong value\n"
     ]
    }
   ],
   "source": [
    "# pass  keyword\n",
    "\n",
    "i=int(input(\"Enter i :\"))\n",
    "if i<8:\n",
    "    pass\n",
    "else:\n",
    "    print(\"wrong value\")\n",
    "    "
   ]
  },
  {
   "cell_type": "code",
   "execution_count": 62,
   "id": "a701a444",
   "metadata": {},
   "outputs": [
    {
     "name": "stdout",
     "output_type": "stream",
     "text": [
      "Enter i :6\n"
     ]
    }
   ],
   "source": [
    "# pass  keyword\n",
    "\n",
    "i=int(input(\"Enter i :\"))\n",
    "if i<8:\n",
    "    pass\n",
    "else:\n",
    "    print(\"wrong value\")\n",
    "    "
   ]
  },
  {
   "cell_type": "code",
   "execution_count": 65,
   "id": "877a9d5a",
   "metadata": {},
   "outputs": [
    {
     "name": "stdout",
     "output_type": "stream",
     "text": [
      "Enter a number :77\n",
      "End of program\n"
     ]
    }
   ],
   "source": [
    "# For else  keyword\n",
    "# when For Loop condition is False than else part is Execute\n",
    "\n",
    "n=int(input(\"Enter a number :\"))\n",
    "for i in range(0,n):\n",
    "    if n<=0:\n",
    "        print(i)\n",
    "    else:\n",
    "        break\n",
    "print(\"End of program\")\n",
    "    "
   ]
  },
  {
   "cell_type": "code",
   "execution_count": 71,
   "id": "6276e9dd",
   "metadata": {},
   "outputs": [
    {
     "name": "stdout",
     "output_type": "stream",
     "text": [
      "Enter a number :-11\n",
      "End of program\n"
     ]
    }
   ],
   "source": [
    "n=int(input(\"Enter a number :\"))\n",
    "for i in range(0,n):\n",
    "    if n<=0:\n",
    "        print(i)\n",
    "    else:\n",
    "        break\n",
    "else:                    # This else is execute when for Loop is fully Execute \n",
    "    print(\"End of program\")\n",
    "    "
   ]
  },
  {
   "cell_type": "code",
   "execution_count": null,
   "id": "0f6eb063",
   "metadata": {},
   "outputs": [],
   "source": []
  },
  {
   "cell_type": "code",
   "execution_count": null,
   "id": "57e62cbc",
   "metadata": {},
   "outputs": [],
   "source": []
  }
 ],
 "metadata": {
  "kernelspec": {
   "display_name": "Python 3 (ipykernel)",
   "language": "python",
   "name": "python3"
  },
  "language_info": {
   "codemirror_mode": {
    "name": "ipython",
    "version": 3
   },
   "file_extension": ".py",
   "mimetype": "text/x-python",
   "name": "python",
   "nbconvert_exporter": "python",
   "pygments_lexer": "ipython3",
   "version": "3.11.3"
  }
 },
 "nbformat": 4,
 "nbformat_minor": 5
}
