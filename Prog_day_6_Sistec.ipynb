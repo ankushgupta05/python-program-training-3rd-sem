{
 "cells": [
  {
   "cell_type": "code",
   "execution_count": 10,
   "id": "2aa08c94",
   "metadata": {},
   "outputs": [
    {
     "name": "stdout",
     "output_type": "stream",
     "text": [
      "Number of list Number :5\n",
      "10\n",
      "10\n",
      "10\n",
      "10\n",
      "10\n",
      "The sum of list of integer eliment : 50\n",
      "This is a second way of solving Task \n",
      "10 10 10 10 10\n",
      "The sum of string integer eliment  50\n"
     ]
    }
   ],
   "source": [
    "# 1) write a program sum of the eliment of a List ?\n",
    "\n",
    "l=[]\n",
    "n=int(input(\"Number of list Number :\"))\n",
    "for i in range(n):\n",
    "    l.append(int(input()))\n",
    "print(\"The sum of list of integer eliment :\",sum(l))\n",
    "\n",
    "# 2nd way solving program \n",
    "\n",
    "print(\"This is a second way of solving Task throught string \")\n",
    "Temp=0\n",
    "str1=input()\n",
    "s=str1.split(\" \")\n",
    "for i in s:\n",
    "    Temp+=int(i)\n",
    "print(\"The sum of string integer eliment \",Temp)\n"
   ]
  },
  {
   "cell_type": "code",
   "execution_count": 24,
   "id": "f7ba5c6d",
   "metadata": {},
   "outputs": [
    {
     "name": "stdout",
     "output_type": "stream",
     "text": [
      "3\n",
      "10\n",
      "20\n",
      "30\n",
      "Squar of list eliment : [100, 400, 900]\n"
     ]
    }
   ],
   "source": [
    "# 2) write a program to create  a list of square of number of a given list ?\n",
    "squar=[]\n",
    "l=[]\n",
    "n=int(input())\n",
    "for i in range(n):\n",
    "    l.append(int(input()))\n",
    "for j in range(n):\n",
    "    squar.append(l[j]*l[j])\n",
    "print(\"Squar of list eliment :\",squar)"
   ]
  },
  {
   "cell_type": "code",
   "execution_count": 28,
   "id": "9f1f878e",
   "metadata": {},
   "outputs": [
    {
     "name": "stdout",
     "output_type": "stream",
     "text": [
      "5\n",
      "22\n",
      "11\n",
      "88\n",
      "99\n",
      "1\n",
      "List in Desending order : [99, 88, 22, 11, 1]\n"
     ]
    }
   ],
   "source": [
    "# 3) write a progm. to sort list in  desending order.\n",
    "l=[]\n",
    "n=int(input())\n",
    "for i in range(n):\n",
    "    l.append(int(input()))\n",
    "l.sort(reverse=True)\n",
    "print(\"List in Desending order :\",l)"
   ]
  },
  {
   "cell_type": "code",
   "execution_count": 31,
   "id": "41eb6532",
   "metadata": {},
   "outputs": [
    {
     "name": "stdout",
     "output_type": "stream",
     "text": [
      "enter a Number :5\n",
      "NO\n"
     ]
    }
   ],
   "source": [
    "# 4) Create 1st & n prime Number of list?\n",
    "count=0\n",
    "n=int(input(\"enter a Number :\"))\n",
    "for i in range(1,n+1):\n",
    "    if n%i==0:\n",
    "        count=count+1\n",
    "if count==3:\n",
    "    print(\"YES\")\n",
    "else:\n",
    "    print(\"NO\")"
   ]
  },
  {
   "cell_type": "code",
   "execution_count": 33,
   "id": "01f95692",
   "metadata": {},
   "outputs": [
    {
     "name": "stdout",
     "output_type": "stream",
     "text": [
      "3\n",
      "1\n",
      "2\n",
      "1\n",
      "4\n",
      "4\n",
      "0\n",
      "1\n",
      "2\n",
      "3\n"
     ]
    }
   ],
   "source": [
    "# 5) write a program giving list seperate +ve and -ve list of eliment ?\n",
    "p_list=[]\n",
    "n_list=[]\n",
    "org_list=[]\n",
    "num=int(input())\n",
    "for i in range(n):\n",
    "    org_list.append(int(input()))\n",
    "len_org=len(org_list)\n",
    "for i in range(len-1):\n",
    "    print(i)"
   ]
  },
  {
   "cell_type": "code",
   "execution_count": 32,
   "id": "2c0323ee",
   "metadata": {},
   "outputs": [
    {
     "name": "stdout",
     "output_type": "stream",
     "text": [
      "5\n"
     ]
    }
   ],
   "source": [
    "list1=[1,2,3,4,5]\n",
    "print(len(list1))"
   ]
  }
 ],
 "metadata": {
  "kernelspec": {
   "display_name": "Python 3 (ipykernel)",
   "language": "python",
   "name": "python3"
  },
  "language_info": {
   "codemirror_mode": {
    "name": "ipython",
    "version": 3
   },
   "file_extension": ".py",
   "mimetype": "text/x-python",
   "name": "python",
   "nbconvert_exporter": "python",
   "pygments_lexer": "ipython3",
   "version": "3.11.3"
  }
 },
 "nbformat": 4,
 "nbformat_minor": 5
}
