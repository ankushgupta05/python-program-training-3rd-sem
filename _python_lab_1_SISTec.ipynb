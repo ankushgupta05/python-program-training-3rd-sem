{
 "cells": [
  {
   "cell_type": "markdown",
   "id": "b7cb1304",
   "metadata": {},
   "source": [
    "# Lab 1st python"
   ]
  },
  {
   "cell_type": "code",
   "execution_count": 2,
   "id": "066965f5",
   "metadata": {},
   "outputs": [
    {
     "name": "stdout",
     "output_type": "stream",
     "text": [
      "Enter a number :5\n",
      "The given no. 5 and the cube This no.: 125\n"
     ]
    }
   ],
   "source": [
    "# write a program To print cube of number using fuction ?\n",
    "\n",
    "def cube_num(n):\n",
    "    return n*n*n;\n",
    "    \n",
    "n=int(input(\"Enter a number :\"))\n",
    "print(f\"The given no. {n} and the cube This no.:\",cube_num(n))"
   ]
  },
  {
   "cell_type": "code",
   "execution_count": 4,
   "id": "66af6024",
   "metadata": {},
   "outputs": [
    {
     "name": "stdout",
     "output_type": "stream",
     "text": [
      "Enter a number :10\n",
      "Your number is Even : 10 \n"
     ]
    }
   ],
   "source": [
    "# write a Fuction to print even or not ?\n",
    "\n",
    "def even_num(n):\n",
    "    if(n%2==0):\n",
    "        return True\n",
    "    else:\n",
    "        return False \n",
    "\n",
    "n=int(input(\"Enter a number :\"))\n",
    "if n==0:\n",
    "    print(\"You have entered Zero\")\n",
    "elif even_num(n)==True:\n",
    "    print(f\"Your number is Even : {n} \")\n",
    "else:\n",
    "    print(f\"Your number is odd :{n}\")"
   ]
  },
  {
   "cell_type": "code",
   "execution_count": 7,
   "id": "f3951001",
   "metadata": {},
   "outputs": [
    {
     "name": "stdout",
     "output_type": "stream",
     "text": [
      "Enter two number with space :10 30\n",
      "The prime number Given two numbers  : [13, 17, 19, 23, 29]\n"
     ]
    }
   ],
   "source": [
    "# write a prgram to find prime number between two numbers ?\n",
    "\n",
    "\n",
    "n=[]    \n",
    "a,b=[int(i) for i in input(\"Enter two number with space :\").split() ]\n",
    "a=a+1\n",
    "while(a != b):\n",
    "    a+=1\n",
    "    T=0\n",
    "    for i in range(1,a+1):\n",
    "        if a%i==0:\n",
    "            T+=1\n",
    "    if T==2:\n",
    "        n.append(a)\n",
    "print(\"The prime number Given two numbers  :\",n)\n",
    "    "
   ]
  },
  {
   "cell_type": "code",
   "execution_count": 6,
   "id": "75995017",
   "metadata": {},
   "outputs": [
    {
     "name": "stdout",
     "output_type": "stream",
     "text": [
      "Enter a number :20\n",
      "The factor of a given number : [1, 2, 4, 5, 10, 20]\n"
     ]
    }
   ],
   "source": [
    "# write a program to find factor of a given number ?\n",
    "\n",
    "def factor(n):\n",
    "    t=[]\n",
    "    for i in range(1,n+1):\n",
    "        \n",
    "        if n%i==0:\n",
    "            t.append(i)\n",
    "    return t\n",
    "\n",
    "n=int(input(\"Enter a number :\"))\n",
    "print(\"The factor of a given number :\",factor(n))\n",
    "\n"
   ]
  },
  {
   "cell_type": "code",
   "execution_count": 23,
   "id": "fc7b6e82",
   "metadata": {},
   "outputs": [
    {
     "name": "stdout",
     "output_type": "stream",
     "text": [
      "Enter a Number :10 12 13 14 15\n",
      "List of n even number using simple function : [10, 12, 14]\n",
      "\n",
      "\n",
      "Enter a Number :10 12 13 14 15\n",
      "List of n enven number using lembda function : [10, 12, 14]\n"
     ]
    }
   ],
   "source": [
    "#  write a python fuction which takes length argument and store even number in a list ?\n",
    "\n",
    "def length_arg(*n):\n",
    "    num=len(n)\n",
    "    t=[]\n",
    "    for i in range(1,num+1):\n",
    "        if n[i-1]%2==0:\n",
    "            t.append(n[i-1])\n",
    "    return t\n",
    "\n",
    "n=[int(i) for i in input(\"Enter a Number :\").split()]\n",
    "print(\"List of n even number using simple function :\",length_arg(*n))\n",
    "\n",
    "print()\n",
    "print()\n",
    "\n",
    "# using lamda fuction ?\n",
    "\n",
    "\n",
    "n=[int(i) for i in input(\"Enter a Number :\").split()]\n",
    "t=[]\n",
    "(lambda *n:[t.append(i) for i in n if i%2==0])(*n)\n",
    "print(\"List of n enven number using lembda function :\",t)\n"
   ]
  },
  {
   "cell_type": "code",
   "execution_count": null,
   "id": "c41540ae",
   "metadata": {},
   "outputs": [],
   "source": [
    "# remove Duplicate eliment ?\n",
    "\n",
    "def Duplicat(*t):\n",
    "    t=list(t)\n",
    "    for i in t:\n",
    "        num=t.count(i)\n",
    "        if num>1:\n",
    "            for j in range(num-1):\n",
    "                t.remove(i)\n",
    "    return t\n",
    "n=[i for i in input(\"Enter your eliment :\").split()]\n",
    "print(\"After removing Duplicate :\",Duplicat(*n))"
   ]
  }
 ],
 "metadata": {
  "kernelspec": {
   "display_name": "Python 3 (ipykernel)",
   "language": "python",
   "name": "python3"
  },
  "language_info": {
   "codemirror_mode": {
    "name": "ipython",
    "version": 3
   },
   "file_extension": ".py",
   "mimetype": "text/x-python",
   "name": "python",
   "nbconvert_exporter": "python",
   "pygments_lexer": "ipython3",
   "version": "3.11.3"
  }
 },
 "nbformat": 4,
 "nbformat_minor": 5
}
