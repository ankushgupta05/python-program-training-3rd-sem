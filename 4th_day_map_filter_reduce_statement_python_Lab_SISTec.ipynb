{
 "cells": [
  {
   "cell_type": "markdown",
   "id": "b233809d",
   "metadata": {},
   "source": [
    "# map fuction"
   ]
  },
  {
   "cell_type": "code",
   "execution_count": 23,
   "id": "8ee91068",
   "metadata": {},
   "outputs": [
    {
     "name": "stdout",
     "output_type": "stream",
     "text": [
      "<map object at 0x000002080426F910>\n",
      "<class 'map'>\n",
      "1 8 27 64 125 216 343 512 729 1000 []\n"
     ]
    }
   ],
   "source": [
    "# map() fuction defined\n",
    "\n",
    "def cube(n):\n",
    "    return n**3\n",
    "\n",
    "x=map(cube,[1,2,3,4,5,6,7,8,9,10])\n",
    "print(x)\n",
    "print(type(x))\n",
    "for i in x:\n",
    "    print(i,end=\" \")\n",
    "    \n",
    "print(list(x))   # It can be convert into List \n"
   ]
  },
  {
   "cell_type": "code",
   "execution_count": 33,
   "id": "301b3aec",
   "metadata": {},
   "outputs": [
    {
     "name": "stdout",
     "output_type": "stream",
     "text": [
      "['odd', 'Even', 'odd', 'Even', 'odd', 'Even', 'odd', 'Even']\n"
     ]
    }
   ],
   "source": [
    "def Even_odd(n):\n",
    "    if n%2==0:\n",
    "        return \"Even\"\n",
    "    else:\n",
    "        return\"odd\"\n",
    "y=map(Even_odd,[1,2,3,4,5,6,7,8])\n",
    "print(list(y))"
   ]
  },
  {
   "cell_type": "code",
   "execution_count": null,
   "id": "7dbb20b9",
   "metadata": {},
   "outputs": [],
   "source": [
    "def Even_odd(n):\n",
    "    if n%2==0:\n",
    "        return \"Even\"\n",
    "    else:\n",
    "        return\"odd\"\n",
    "y=map(Even_odd,[1,2,3,4,5,6,7,8])\n",
    "print(list(y))"
   ]
  },
  {
   "cell_type": "markdown",
   "id": "34c69b05",
   "metadata": {},
   "source": [
    "# Filter function"
   ]
  },
  {
   "cell_type": "code",
   "execution_count": 41,
   "id": "35081781",
   "metadata": {},
   "outputs": [
    {
     "name": "stdout",
     "output_type": "stream",
     "text": [
      "[2, 4, 6, 8]\n",
      "[False, True, False, True, False, True, False, True]\n"
     ]
    }
   ],
   "source": [
    "def Even_odd(n):\n",
    "    if n%2==0:\n",
    "        return True\n",
    "    else:\n",
    "        return False  \n",
    "    \n",
    "y=filter(Even_odd,[1,2,3,4,5,6,7,8])# filter object always Give only True value(apply it and than give only True or false value) \n",
    "print(list(y))\n",
    "\n",
    "y=map(Even_odd,[1,2,3,4,5,6,7,8])   # filter object always Give only True value(only apply and than give return value)\n",
    "print(list(y))\n"
   ]
  },
  {
   "cell_type": "markdown",
   "id": "54a29f36",
   "metadata": {},
   "source": [
    "# reduce fuction"
   ]
  },
  {
   "cell_type": "code",
   "execution_count": 50,
   "id": "0d3d2a8f",
   "metadata": {},
   "outputs": [
    {
     "name": "stdout",
     "output_type": "stream",
     "text": [
      "15\n"
     ]
    }
   ],
   "source": [
    "from functools import reduce\n",
    "\n",
    "def add(a,b):\n",
    "    return a+b\n",
    "    \n",
    "y=reduce(add,[1,2,3,4,5])\n",
    "print(y)"
   ]
  }
 ],
 "metadata": {
  "kernelspec": {
   "display_name": "Python 3 (ipykernel)",
   "language": "python",
   "name": "python3"
  },
  "language_info": {
   "codemirror_mode": {
    "name": "ipython",
    "version": 3
   },
   "file_extension": ".py",
   "mimetype": "text/x-python",
   "name": "python",
   "nbconvert_exporter": "python",
   "pygments_lexer": "ipython3",
   "version": "3.11.3"
  }
 },
 "nbformat": 4,
 "nbformat_minor": 5
}
