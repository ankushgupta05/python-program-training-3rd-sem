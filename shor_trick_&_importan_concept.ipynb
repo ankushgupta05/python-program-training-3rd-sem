{
 "cells": [
  {
   "cell_type": "code",
   "execution_count": 10,
   "id": "a15c4f8d",
   "metadata": {},
   "outputs": [
    {
     "name": "stdout",
     "output_type": "stream",
     "text": [
      "a  : 20  is grater \n"
     ]
    }
   ],
   "source": [
    "# shorttric of if else statement ?\n",
    "a=20\n",
    "b=10\n",
    "print(f\"a  : {a}  is grater \") if a>b else print(f\"b is greater : {b}\" )"
   ]
  },
  {
   "cell_type": "code",
   "execution_count": 11,
   "id": "7ecfa4b8",
   "metadata": {},
   "outputs": [
    {
     "name": "stdout",
     "output_type": "stream",
     "text": [
      "b is greater : 20\n"
     ]
    }
   ],
   "source": [
    "# \n",
    "a=10\n",
    "b=20\n",
    "print(f\"a  : {a}  is grater \") if a>b else print(f\"b is greater : {b}\" )"
   ]
  },
  {
   "cell_type": "code",
   "execution_count": 15,
   "id": "dbdb5a64",
   "metadata": {},
   "outputs": [
    {
     "name": "stdout",
     "output_type": "stream",
     "text": [
      " Both 30= 30\n"
     ]
    }
   ],
   "source": [
    "# third condition if statement equal ?\n",
    "\n",
    "a=30\n",
    "b=30\n",
    "print(\"a greater \") if a>b else print(f\" Both {a}= {b}\") if a==b else print(\"b grater \")"
   ]
  },
  {
   "cell_type": "code",
   "execution_count": 16,
   "id": "fa9c7121",
   "metadata": {},
   "outputs": [
    {
     "name": "stdout",
     "output_type": "stream",
     "text": [
      "b grater \n"
     ]
    }
   ],
   "source": [
    "# third condition if statement equal ?\n",
    "\n",
    "a=20\n",
    "b=30\n",
    "print(\"a greater \") if a>b else print(f\" Both {a}= {b}\") if a==b else print(\"b grater \")"
   ]
  },
  {
   "cell_type": "code",
   "execution_count": 4,
   "id": "25bafe97",
   "metadata": {},
   "outputs": [
    {
     "name": "stdout",
     "output_type": "stream",
     "text": [
      "1st case : 15\n",
      "\n",
      "2nd case : 10\n"
     ]
    }
   ],
   "source": [
    "# we can also use this kind ?\n",
    "\n",
    "a=11\n",
    "b=6\n",
    "num= 10 if a<b else 15\n",
    "print(\"1st case :\",num)\n",
    "\n",
    "print()\n",
    "\n",
    "\n",
    "a=11\n",
    "b=22\n",
    "num= 10 if a<b else 15\n",
    "print(\"2nd case :\",num)"
   ]
  },
  {
   "cell_type": "markdown",
   "id": "aa61486f",
   "metadata": {},
   "source": [
    "# enumerate keyword "
   ]
  },
  {
   "cell_type": "code",
   "execution_count": 11,
   "id": "10f9e734",
   "metadata": {},
   "outputs": [
    {
     "name": "stdout",
     "output_type": "stream",
     "text": [
      "1\n",
      "2\n",
      "3\n",
      "4\n",
      "Ankush_gupta\n",
      "5\n",
      "6\n",
      "7\n",
      "8\n"
     ]
    }
   ],
   "source": [
    "#  index with for loop using enumerate keyword  ?\n",
    "\n",
    "l=[1,2,3,4,5,6,7,8]\n",
    "for index, i in enumerate(l):\n",
    "    print(i)\n",
    "    if index==3:\n",
    "        print(\"Ankush_gupta\")"
   ]
  },
  {
   "cell_type": "markdown",
   "id": "69bec5df",
   "metadata": {},
   "source": [
    "# concept of dir in import"
   ]
  },
  {
   "cell_type": "code",
   "execution_count": 15,
   "id": "82092cce",
   "metadata": {},
   "outputs": [
    {
     "name": "stdout",
     "output_type": "stream",
     "text": [
      "['__doc__', '__loader__', '__name__', '__package__', '__spec__', 'acos', 'acosh', 'asin', 'asinh', 'atan', 'atan2', 'atanh', 'cbrt', 'ceil', 'comb', 'copysign', 'cos', 'cosh', 'degrees', 'dist', 'e', 'erf', 'erfc', 'exp', 'exp2', 'expm1', 'fabs', 'factorial', 'floor', 'fmod', 'frexp', 'fsum', 'gamma', 'gcd', 'hypot', 'inf', 'isclose', 'isfinite', 'isinf', 'isnan', 'isqrt', 'lcm', 'ldexp', 'lgamma', 'log', 'log10', 'log1p', 'log2', 'modf', 'nan', 'nextafter', 'perm', 'pi', 'pow', 'prod', 'radians', 'remainder', 'sin', 'sinh', 'sqrt', 'tan', 'tanh', 'tau', 'trunc', 'ulp']\n"
     ]
    }
   ],
   "source": [
    "import math   \n",
    "print(dir(math))"
   ]
  },
  {
   "cell_type": "code",
   "execution_count": 16,
   "id": "309cb5fc",
   "metadata": {},
   "outputs": [
    {
     "name": "stdout",
     "output_type": "stream",
     "text": [
      "['_STRUCT_TM_ITEMS', '__doc__', '__loader__', '__name__', '__package__', '__spec__', 'altzone', 'asctime', 'ctime', 'daylight', 'get_clock_info', 'gmtime', 'localtime', 'mktime', 'monotonic', 'monotonic_ns', 'perf_counter', 'perf_counter_ns', 'process_time', 'process_time_ns', 'sleep', 'strftime', 'strptime', 'struct_time', 'thread_time', 'thread_time_ns', 'time', 'time_ns', 'timezone', 'tzname']\n"
     ]
    }
   ],
   "source": [
    "import time\n",
    "print(dir(time))"
   ]
  },
  {
   "cell_type": "code",
   "execution_count": 20,
   "id": "5873df00",
   "metadata": {},
   "outputs": [
    {
     "name": "stdout",
     "output_type": "stream",
     "text": [
      "['Calendar', 'EPOCH', 'FRIDAY', 'February', 'HTMLCalendar', 'IllegalMonthError', 'IllegalWeekdayError', 'January', 'LocaleHTMLCalendar', 'LocaleTextCalendar', 'MONDAY', 'SATURDAY', 'SUNDAY', 'THURSDAY', 'TUESDAY', 'TextCalendar', 'WEDNESDAY', '_EPOCH_ORD', '__all__', '__builtins__', '__cached__', '__doc__', '__file__', '__loader__', '__name__', '__package__', '__spec__', '_colwidth', '_get_default_locale', '_locale', '_localized_day', '_localized_month', '_monthlen', '_nextmonth', '_prevmonth', '_spacing', 'c', 'calendar', 'datetime', 'day_abbr', 'day_name', 'different_locale', 'error', 'firstweekday', 'format', 'formatstring', 'isleap', 'leapdays', 'main', 'mdays', 'month', 'month_abbr', 'month_name', 'monthcalendar', 'monthrange', 'prcal', 'prmonth', 'prweek', 'repeat', 'setfirstweekday', 'sys', 'timegm', 'week', 'weekday', 'weekheader']\n"
     ]
    }
   ],
   "source": [
    "import calendar\n",
    "print(dir(calendar))\n"
   ]
  },
  {
   "cell_type": "markdown",
   "id": "f32ac2dd",
   "metadata": {},
   "source": [
    "# as keyword ?"
   ]
  },
  {
   "cell_type": "code",
   "execution_count": 22,
   "id": "e1bcf0fe",
   "metadata": {},
   "outputs": [
    {
     "name": "stdout",
     "output_type": "stream",
     "text": [
      "Enter a radious of circle :10\n",
      "The Area of cirle : 314.1592653589793\n"
     ]
    }
   ],
   "source": [
    "# its a simple way to import pi of math ?\n",
    "\n",
    "import math\n",
    "r=int(input(\"Enter a radious of circle :\"))\n",
    "print(\"The Area of cirle :\",math.pi*r*r)\n"
   ]
  },
  {
   "cell_type": "code",
   "execution_count": 23,
   "id": "89c8841f",
   "metadata": {},
   "outputs": [
    {
     "name": "stdout",
     "output_type": "stream",
     "text": [
      "The Area of circle 314.1592653589793\n"
     ]
    }
   ],
   "source": [
    "# new way to import pi from math ?\n",
    "\n",
    "from math import pi\n",
    "print(\"The Area of circle\",pi*r*r)"
   ]
  },
  {
   "cell_type": "code",
   "execution_count": 25,
   "id": "32e4fc47",
   "metadata": {},
   "outputs": [
    {
     "name": "stdout",
     "output_type": "stream",
     "text": [
      "The squar of number : 4.0\n"
     ]
    }
   ],
   "source": [
    "# new way to import sqrt() from math ?\n",
    "\n",
    "from math import sqrt\n",
    "n=16\n",
    "print(\"The squar of number :\",sqrt(n))"
   ]
  },
  {
   "cell_type": "code",
   "execution_count": 27,
   "id": "70622297",
   "metadata": {},
   "outputs": [
    {
     "name": "stdout",
     "output_type": "stream",
     "text": [
      "The squar of number : 5.0\n"
     ]
    }
   ],
   "source": [
    "# concept of as with import ?\n",
    "\n",
    "from math import sqrt as squar    # can be represent squar using as keyword \n",
    "n=25\n",
    "print(\"The squar of number :\",squar(n))"
   ]
  },
  {
   "cell_type": "markdown",
   "id": "540c5671",
   "metadata": {},
   "source": [
    "\n",
    "# Array in python "
   ]
  },
  {
   "cell_type": "code",
   "execution_count": 31,
   "id": "ca11cd27",
   "metadata": {},
   "outputs": [
    {
     "name": "stdout",
     "output_type": "stream",
     "text": [
      "[ 6.  11.   6.  11.5 21.5]\n",
      "Particuler one element of array : 22\n"
     ]
    }
   ],
   "source": [
    "# numpy --> numerical python\n",
    "\n",
    "from numpy import array\n",
    "\n",
    "l=array([12,22,12,23,43])  # in array we can calculate Divide method But list not allows \n",
    "m=l/2\n",
    "print(m)\n",
    "print(\"Particuler one element of array :\",l[1]) "
   ]
  },
  {
   "cell_type": "code",
   "execution_count": 33,
   "id": "ae36c52d",
   "metadata": {},
   "outputs": [
    {
     "name": "stdout",
     "output_type": "stream",
     "text": [
      "2\n",
      "3\n",
      "4\n",
      "2\n",
      "3\n",
      "4\n",
      "5\n",
      "6\n"
     ]
    }
   ],
   "source": [
    "# we can also defind this kind ?\n",
    "\n",
    "from array import *   \n",
    "\n",
    "l=array(\"i\",[2,3,4,2,3,4,5,6])\n",
    "for i in l:\n",
    "    print(i)"
   ]
  },
  {
   "cell_type": "code",
   "execution_count": 3,
   "id": "db65412c",
   "metadata": {},
   "outputs": [
    {
     "name": "stdout",
     "output_type": "stream",
     "text": [
      "Enter number size of array :5\n",
      "1 \n",
      "2\n",
      "3\n",
      "3\n",
      "2\n",
      "array('i', [1, 2, 3, 3, 2])\n",
      "2\n"
     ]
    }
   ],
   "source": [
    "# learn to take input as a array in python ?\n",
    "\n",
    "from array import *\n",
    "\n",
    "num=array(\"i\",[])   # inplace of i we can consits of this bad typecode(this charactor ) must be \n",
    "                           #  must be b, B, u, h, H, i, I, l, L, q, Q, f or d)\n",
    "\n",
    "n=int(input(\"Enter number size of array :\"))\n",
    "for i in range(n):\n",
    "    num.append(int(input()))\n",
    "print(num)\n",
    "print(num[1])"
   ]
  },
  {
   "cell_type": "code",
   "execution_count": 36,
   "id": "ce6cf523",
   "metadata": {},
   "outputs": [
    {
     "name": "stdout",
     "output_type": "stream",
     "text": [
      "Enter number size of array :5\n",
      "10\n",
      "10\n",
      "10\n",
      "10\n",
      "10\n",
      "The sum of array eliment : 50\n"
     ]
    }
   ],
   "source": [
    "# Using array write a fuction ?\n",
    "\n",
    "\n",
    "def arr_num(num,n):\n",
    "    Temp=0\n",
    "    for i in range(n):\n",
    "        Temp+=num[i]\n",
    "        \n",
    "    return Temp\n",
    "        \n",
    "from array import *\n",
    "\n",
    "num=array(\"i\",[])\n",
    "n=int(input(\"Enter number size of array :\"))\n",
    "for i in range(n):\n",
    "    num.append(int(input()))\n",
    "print(\"The sum of array eliment :\",arr_num(num,n))"
   ]
  }
 ],
 "metadata": {
  "kernelspec": {
   "display_name": "Python 3 (ipykernel)",
   "language": "python",
   "name": "python3"
  },
  "language_info": {
   "codemirror_mode": {
    "name": "ipython",
    "version": 3
   },
   "file_extension": ".py",
   "mimetype": "text/x-python",
   "name": "python",
   "nbconvert_exporter": "python",
   "pygments_lexer": "ipython3",
   "version": "3.11.4"
  }
 },
 "nbformat": 4,
 "nbformat_minor": 5
}
