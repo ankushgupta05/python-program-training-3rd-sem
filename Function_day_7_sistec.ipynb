{
 "cells": [
  {
   "cell_type": "code",
   "execution_count": 2,
   "id": "c1666967",
   "metadata": {},
   "outputs": [
    {
     "name": "stdout",
     "output_type": "stream",
     "text": [
      "enter 1st number :10\n",
      "enter 2nd number :10\n",
      "Multiphication of two number : 100\n"
     ]
    }
   ],
   "source": [
    "# 1) write a prog. find product number Using Function ?\n",
    "\n",
    "def product(a,b):   # a and b  is a formal perameter \n",
    "    print(\"Multiphication of two number :\",a*b)\n",
    "\n",
    "a=int(input(\"enter 1st number :\"))\n",
    "b=int(input(\"enter 2nd number :\"))\n",
    "product(a,b)  # a and b  is a actual perameter"
   ]
  },
  {
   "cell_type": "code",
   "execution_count": 20,
   "id": "a6f89923",
   "metadata": {},
   "outputs": [
    {
     "name": "stdout",
     "output_type": "stream",
     "text": [
      "Ente string :ankush\n",
      "Unique code of the string : [97, 110, 107, 117, 115, 104]\n"
     ]
    }
   ],
   "source": [
    "# 2) write a py.Function to take input will be string containing charactors and you have to print the unik code\n",
    "#                corresponing to the charactor ? \n",
    "\n",
    "def string_fun(str1):\n",
    "    l=[]\n",
    "    for i in str1:\n",
    "        l.append(ord(i))\n",
    "    return l\n",
    "        \n",
    "str1=input(\"Ente string :\")\n",
    "print(\"Unique code of the string :\",string_fun(str1))"
   ]
  },
  {
   "cell_type": "code",
   "execution_count": 9,
   "id": "1bf615a8",
   "metadata": {},
   "outputs": [
    {
     "name": "stdout",
     "output_type": "stream",
     "text": [
      "Enter a radiou of circle :10\n",
      "The area of circle : 314.1592653589793\n"
     ]
    }
   ],
   "source": [
    "# 3) write a python function to calculet area to circle ?\n",
    "\n",
    "def area(r):\n",
    "    res=r*r*math.pi\n",
    "    return res\n",
    "import math\n",
    "r=int(input(\"Enter a radiou of circle :\"))\n",
    "print(\"The area of circle :\",area(r))"
   ]
  },
  {
   "cell_type": "code",
   "execution_count": 12,
   "id": "fa33189c",
   "metadata": {},
   "outputs": [],
   "source": [
    "# 4) write a py. Function to calculate compound interest ?\n",
    "def c_interest(p,r,y):\n",
    "    \n",
    "    for i in range(y):\n",
    "        \n",
    "\n",
    "\n",
    "p_amout=int(input(\"Enter a principle amount :\"))\n",
    "r_interst=float(input(\"Enter interst :\"))\n",
    "y_year=int(input(\"Enter year :\"))\n",
    "print(\"Total amount :\",c_interest(p_amount,r_interest,y_year))"
   ]
  }
 ],
 "metadata": {
  "kernelspec": {
   "display_name": "Python 3 (ipykernel)",
   "language": "python",
   "name": "python3"
  },
  "language_info": {
   "codemirror_mode": {
    "name": "ipython",
    "version": 3
   },
   "file_extension": ".py",
   "mimetype": "text/x-python",
   "name": "python",
   "nbconvert_exporter": "python",
   "pygments_lexer": "ipython3",
   "version": "3.11.3"
  }
 },
 "nbformat": 4,
 "nbformat_minor": 5
}
