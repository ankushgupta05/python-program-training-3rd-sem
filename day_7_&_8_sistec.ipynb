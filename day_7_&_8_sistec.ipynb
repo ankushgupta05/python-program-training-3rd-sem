{
 "cells": [
  {
   "cell_type": "markdown",
   "id": "24578857",
   "metadata": {},
   "source": [
    "# Function deeply"
   ]
  },
  {
   "cell_type": "code",
   "execution_count": 1,
   "id": "f0eb28fe",
   "metadata": {},
   "outputs": [
    {
     "name": "stdout",
     "output_type": "stream",
     "text": [
      "enter 1st number :10\n",
      "enter 2nd number :22\n",
      "Multiphication of two number : 220\n"
     ]
    }
   ],
   "source": [
    "# 1) write a prog. find product number Using Function ?\n",
    "\n",
    "def product(a,b):   # a and b  is a formal perameter \n",
    "    print(\"Multiphication of two number :\",a*b)\n",
    "\n",
    "a=int(input(\"enter 1st number :\"))\n",
    "b=int(input(\"enter 2nd number :\"))\n",
    "product(a,b)  # a and b  is a actual perameter"
   ]
  },
  {
   "cell_type": "code",
   "execution_count": null,
   "id": "b01eee0e",
   "metadata": {},
   "outputs": [],
   "source": [
    "# function making  type\n",
    "\n",
    "# Taking nothing, Giving nothing\n",
    "# Taking nothing, Giving something\n",
    "# Taking something, Giving nothing\n",
    "# Taking something, Giving something"
   ]
  },
  {
   "cell_type": "code",
   "execution_count": 3,
   "id": "1c88680c",
   "metadata": {},
   "outputs": [
    {
     "name": "stdout",
     "output_type": "stream",
     "text": [
      "Enter a :5\n",
      "Enter b :5\n",
      "Average is : 5.0\n"
     ]
    }
   ],
   "source": [
    "# Taking nothing, Giving nothing\n",
    "\n",
    "def average():\n",
    "    a=int(input(\"Enter a :\"))\n",
    "    b=int(input(\"Enter b :\"))\n",
    "    c=(a+b)/2\n",
    "    print(\"Average is :\",c)\n",
    "    \n",
    "average()"
   ]
  },
  {
   "cell_type": "code",
   "execution_count": 4,
   "id": "e617e72c",
   "metadata": {},
   "outputs": [
    {
     "name": "stdout",
     "output_type": "stream",
     "text": [
      "Average is : 10.0\n"
     ]
    }
   ],
   "source": [
    "# Taking something, Giving nothing\n",
    "\n",
    "def average(a,b):\n",
    "    \n",
    "    c=(a+b)/2\n",
    "    print(\"Average is :\",c)\n",
    "    \n",
    "average(10,10)"
   ]
  },
  {
   "cell_type": "code",
   "execution_count": 6,
   "id": "c559a679",
   "metadata": {},
   "outputs": [
    {
     "name": "stdout",
     "output_type": "stream",
     "text": [
      "Enter a :10\n",
      "Enter b :10\n",
      "Average of a number : 10.0\n"
     ]
    }
   ],
   "source": [
    "# Taking nothing, Giving something\n",
    "\n",
    "def average():\n",
    "    a=int(input(\"Enter a :\"))\n",
    "    b=int(input(\"Enter b :\"))\n",
    "    c=(a+b)/2\n",
    "    return c\n",
    "\n",
    "x=average()\n",
    "print(\"Average of a number :\",x)"
   ]
  },
  {
   "cell_type": "code",
   "execution_count": 9,
   "id": "ecde85c5",
   "metadata": {},
   "outputs": [
    {
     "name": "stdout",
     "output_type": "stream",
     "text": [
      "Enter a :10\n",
      "Enter b :10\n",
      "Average of a number : 10.0\n"
     ]
    }
   ],
   "source": [
    "# Taking something, Giving something\n",
    "\n",
    "def average(a,b):\n",
    "    c=(a+b)/2\n",
    "    return c\n",
    "\n",
    "a=int(input(\"Enter a :\"))\n",
    "b=int(input(\"Enter b :\"))\n",
    "x=average(a,b)\n",
    "print(\"Average of a number :\",x)"
   ]
  },
  {
   "cell_type": "markdown",
   "id": "36f8ff8f",
   "metadata": {},
   "source": [
    "# Default Function "
   ]
  },
  {
   "cell_type": "code",
   "execution_count": 13,
   "id": "d7d6a5a3",
   "metadata": {},
   "outputs": [
    {
     "name": "stdout",
     "output_type": "stream",
     "text": [
      "Average of a number : 15\n"
     ]
    }
   ],
   "source": [
    "# Case 1 ? \n",
    "\n",
    "def average(a=5,b=5,c=5):\n",
    "    return a+b+c\n",
    "\n",
    "\n",
    "x=average()\n",
    "print(\"Average of a number :\",x)"
   ]
  },
  {
   "cell_type": "code",
   "execution_count": 15,
   "id": "373eda30",
   "metadata": {},
   "outputs": [
    {
     "name": "stdout",
     "output_type": "stream",
     "text": [
      "Average of a number : 15\n"
     ]
    }
   ],
   "source": [
    "# case 3?\n",
    "\n",
    "def average(a,b=5,c=5): # [Functio Take value of b and c from here By Default ]\n",
    "    return a+b+c\n",
    "\n",
    "\n",
    "x=average(5)  # a=5 By Default\n",
    "print(\"Average of a number :\",x)"
   ]
  },
  {
   "cell_type": "code",
   "execution_count": 16,
   "id": "5cfe44db",
   "metadata": {},
   "outputs": [
    {
     "ename": "SyntaxError",
     "evalue": "non-default argument follows default argument (147038547.py, line 2)",
     "output_type": "error",
     "traceback": [
      "\u001b[1;36m  Cell \u001b[1;32mIn[16], line 2\u001b[1;36m\u001b[0m\n\u001b[1;33m    def average(a=5,b,c=5): # [Functio Take value of b and c from here By Default ]\u001b[0m\n\u001b[1;37m                    ^\u001b[0m\n\u001b[1;31mSyntaxError\u001b[0m\u001b[1;31m:\u001b[0m non-default argument follows default argument\n"
     ]
    }
   ],
   "source": [
    "# \n",
    "def average(a=5,b,c=5): #   This is Not allow to run program [Bcz value of b is not available  here ]\n",
    "    return a+b+c\n",
    "\n",
    "\n",
    "x=average(5)  # 5 is a value of a variable not value of b\n",
    "print(\"Average of a number :\",x)"
   ]
  },
  {
   "cell_type": "markdown",
   "id": "193da840",
   "metadata": {},
   "source": [
    "# Error of function"
   ]
  },
  {
   "cell_type": "code",
   "execution_count": 24,
   "id": "6affc1ec",
   "metadata": {},
   "outputs": [
    {
     "ename": "SyntaxError",
     "evalue": "non-default argument follows default argument (1192564862.py, line 6)",
     "output_type": "error",
     "traceback": [
      "\u001b[1;36m  Cell \u001b[1;32mIn[24], line 6\u001b[1;36m\u001b[0m\n\u001b[1;33m    def  circle_area(p=3.14,r):\u001b[0m\n\u001b[1;37m                            ^\u001b[0m\n\u001b[1;31mSyntaxError\u001b[0m\u001b[1;31m:\u001b[0m non-default argument follows default argument\n"
     ]
    }
   ],
   "source": [
    "\n",
    "# case 1:\n",
    "\n",
    "def  circle_area(p=3.14,r): # this is not allow to r will be become 1st in argument\n",
    "    return p*r*r\n",
    "circle_area(5) "
   ]
  },
  {
   "cell_type": "markdown",
   "id": "11f2b652",
   "metadata": {},
   "source": [
    "\n",
    "# program of function making many type"
   ]
  },
  {
   "cell_type": "code",
   "execution_count": 17,
   "id": "baa00115",
   "metadata": {},
   "outputs": [
    {
     "name": "stdout",
     "output_type": "stream",
     "text": [
      "Enter a weight :10\n",
      "Enter a lenght :10\n",
      "Enter a hight :10\n",
      "cuboid of volume : 1000\n"
     ]
    }
   ],
   "source": [
    "# cuboid of volume Using Fuction [ Taking nothing and giving nothing]\n",
    "\n",
    "def volume():\n",
    "    w=int(input(\"Enter a weight :\"))\n",
    "    l=int(input(\"Enter a lenght :\"))\n",
    "    h=int(input(\"Enter a hight :\"))\n",
    "    print(\"cuboid of volume :\",w*l*h)\n",
    "\n",
    "volume()"
   ]
  },
  {
   "cell_type": "code",
   "execution_count": 18,
   "id": "a3c9edb4",
   "metadata": {},
   "outputs": [
    {
     "name": "stdout",
     "output_type": "stream",
     "text": [
      "Enter a weight :10\n",
      "Enter a lenght :10\n",
      "Enter a hight :10\n",
      "cuboid of volume : 1000\n"
     ]
    }
   ],
   "source": [
    "# cuboid of volume Using Fuction [ Taking nothing and giving something]\n",
    "\n",
    "def volume():\n",
    "    w=int(input(\"Enter a weight :\"))\n",
    "    l=int(input(\"Enter a lenght :\"))\n",
    "    h=int(input(\"Enter a hight :\"))\n",
    "    return w*l*h \n",
    "    \n",
    "    \n",
    "print(\"cuboid of volume :\",volume())\n",
    "       "
   ]
  },
  {
   "cell_type": "code",
   "execution_count": 19,
   "id": "84a9def0",
   "metadata": {},
   "outputs": [
    {
     "name": "stdout",
     "output_type": "stream",
     "text": [
      "Enter a weight :10\n",
      "Enter a lenght :10\n",
      "Enter a hight :10\n",
      "cuboid of volume : 1000\n"
     ]
    }
   ],
   "source": [
    "# cuboid of volume Using Fuction  [Taking something, Giving something]\n",
    "\n",
    "def volume(w,l,h):\n",
    "    return w*l*h \n",
    "    \n",
    "w=int(input(\"Enter a weight :\"))\n",
    "l=int(input(\"Enter a lenght :\"))\n",
    "h=int(input(\"Enter a hight :\"))  \n",
    "print(\"cuboid of volume :\",volume(w,l,h))\n",
    "       \n"
   ]
  },
  {
   "cell_type": "code",
   "execution_count": 20,
   "id": "5463d4b3",
   "metadata": {},
   "outputs": [
    {
     "name": "stdout",
     "output_type": "stream",
     "text": [
      "Enter a weight :10\n",
      "Enter a lenght :10\n",
      "Enter a hight :10\n",
      "cuboid of volume : 1000\n"
     ]
    }
   ],
   "source": [
    "# cuboid of volume Using Fuction  [Taking something, Giving nothing]\n",
    "def volume(w,l,h):\n",
    "    print(\"cuboid of volume :\",w*h*l)\n",
    "    \n",
    "w=int(input(\"Enter a weight :\"))\n",
    "l=int(input(\"Enter a lenght :\"))\n",
    "h=int(input(\"Enter a hight :\"))  \n",
    "volume(w,l,h)\n",
    "       \n"
   ]
  },
  {
   "cell_type": "markdown",
   "id": "428139aa",
   "metadata": {},
   "source": [
    "# possition Argument Vs Keyword argument"
   ]
  },
  {
   "cell_type": "code",
   "execution_count": 25,
   "id": "5b269161",
   "metadata": {},
   "outputs": [
    {
     "name": "stdout",
     "output_type": "stream",
     "text": [
      "30\n"
     ]
    }
   ],
   "source": [
    "# possition argument \n",
    "\n",
    "def rec_area(l,b):  # l=5 and b=6 assign value\n",
    "    print(\"l value is :\",l)\n",
    "    print(\"b value is :\",b)\n",
    "    return l*b\n",
    "ar=rec_area(5,6)\n",
    "print(ar)"
   ]
  },
  {
   "cell_type": "code",
   "execution_count": 28,
   "id": "03ae5d60",
   "metadata": {},
   "outputs": [
    {
     "name": "stdout",
     "output_type": "stream",
     "text": [
      "l value is : 6\n",
      "b value is : 5\n",
      "30\n"
     ]
    }
   ],
   "source": [
    "# Keyword argument ?\n",
    "\n",
    "def rec_area(l,b):  # l=6 and b=5 assign value\n",
    "    print(\"l value is :\",l)\n",
    "    print(\"b value is :\",b)\n",
    "    return l*b\n",
    "ar=rec_area(b=5,l=6)  # keyword argument is Declaration \n",
    "\n",
    "print(ar)\n"
   ]
  },
  {
   "cell_type": "code",
   "execution_count": 31,
   "id": "7d8d4b92",
   "metadata": {},
   "outputs": [
    {
     "name": "stdout",
     "output_type": "stream",
     "text": [
      "l value is : 5\n",
      "b value is : 6\n",
      "30\n"
     ]
    }
   ],
   "source": [
    "# Keyword argument ?\n",
    "# case 1:\n",
    "\n",
    "def rec_area(l,b):  # l=6 and b=5 assign value\n",
    "    print(\"l value is :\",l)\n",
    "    print(\"b value is :\",b)\n",
    "    return l*b\n",
    "ar=rec_area(5,b=6)  # This condition is allows to compile \n",
    "\n",
    "print(ar)\n"
   ]
  },
  {
   "cell_type": "code",
   "execution_count": 30,
   "id": "0891cf53",
   "metadata": {},
   "outputs": [
    {
     "ename": "SyntaxError",
     "evalue": "positional argument follows keyword argument (4147201868.py, line 8)",
     "output_type": "error",
     "traceback": [
      "\u001b[1;36m  Cell \u001b[1;32mIn[30], line 8\u001b[1;36m\u001b[0m\n\u001b[1;33m    ar=rec_area(l=5,6)  # This condition is Not allows to compile and Error will be become\u001b[0m\n\u001b[1;37m                     ^\u001b[0m\n\u001b[1;31mSyntaxError\u001b[0m\u001b[1;31m:\u001b[0m positional argument follows keyword argument\n"
     ]
    }
   ],
   "source": [
    "# Keyword argument \n",
    "# case 2 :\n",
    "\n",
    "def rec_area(l,b):  # l=6 and b=5 assign value\n",
    "    print(\"l value is :\",l)\n",
    "    print(\"b value is :\",b)\n",
    "    return l*b\n",
    "ar=rec_area(l=5,6)  # This condition is Not allows to compile and Error will be become \n",
    "\n",
    "print(ar)\n"
   ]
  },
  {
   "cell_type": "code",
   "execution_count": 29,
   "id": "3fc4d852",
   "metadata": {},
   "outputs": [
    {
     "ename": "TypeError",
     "evalue": "rec_area() got multiple values for argument 'l'",
     "output_type": "error",
     "traceback": [
      "\u001b[1;31m---------------------------------------------------------------------------\u001b[0m",
      "\u001b[1;31mTypeError\u001b[0m                                 Traceback (most recent call last)",
      "Cell \u001b[1;32mIn[29], line 8\u001b[0m\n\u001b[0;32m      6\u001b[0m     \u001b[38;5;28mprint\u001b[39m(\u001b[38;5;124m\"\u001b[39m\u001b[38;5;124mb value is :\u001b[39m\u001b[38;5;124m\"\u001b[39m,b)\n\u001b[0;32m      7\u001b[0m     \u001b[38;5;28;01mreturn\u001b[39;00m l\u001b[38;5;241m*\u001b[39mb\n\u001b[1;32m----> 8\u001b[0m ar\u001b[38;5;241m=\u001b[39mrec_area(\u001b[38;5;241m5\u001b[39m,l\u001b[38;5;241m=\u001b[39m\u001b[38;5;241m6\u001b[39m)  \u001b[38;5;66;03m# This condition is Not allows to compile and Error will be become \u001b[39;00m\n\u001b[0;32m     10\u001b[0m \u001b[38;5;28mprint\u001b[39m(ar)\n",
      "\u001b[1;31mTypeError\u001b[0m: rec_area() got multiple values for argument 'l'"
     ]
    }
   ],
   "source": [
    "# Keyword argument \n",
    "# case 3 :\n",
    "\n",
    "def rec_area(l,b):  # l=6 and b=5 assign value\n",
    "    print(\"l value is :\",l)\n",
    "    print(\"b value is :\",b)\n",
    "    return l*b\n",
    "ar=rec_area(5,l=6)  # This condition is Not allows to compile and Error will be become bcz \n",
    "                      # bcz value is not assign in variable b\n",
    "\n",
    "print(ar)\n"
   ]
  },
  {
   "cell_type": "markdown",
   "id": "4db350a1",
   "metadata": {},
   "source": [
    "# variable lenght argument ?\n",
    "\n"
   ]
  },
  {
   "cell_type": "code",
   "execution_count": 1,
   "id": "a8260ca7",
   "metadata": {},
   "outputs": [
    {
     "name": "stdout",
     "output_type": "stream",
     "text": [
      "My number : (3, 6)\n",
      "2\n",
      "9\n",
      "<class 'tuple'>\n",
      "My number : (3, 6, 4, 5)\n",
      "4\n",
      "18\n",
      "<class 'tuple'>\n",
      "My number : (3, 6, 3, 5, 6)\n",
      "5\n",
      "23\n",
      "<class 'tuple'>\n",
      "My number : (3, 6, 4, 3, 2, 2)\n",
      "6\n",
      "20\n",
      "<class 'tuple'>\n",
      "My number : (3, 6, 2, 3, 4, 5, 6)\n",
      "7\n",
      "29\n",
      "<class 'tuple'>\n",
      "My number : (3, 6, 1, 2, 3, 4, 5, 6)\n",
      "8\n",
      "30\n",
      "<class 'tuple'>\n"
     ]
    }
   ],
   "source": [
    "\n",
    "def add(*t):   \n",
    "    print(\"My number :\",t)\n",
    "    print(len(t))\n",
    "    print(sum(t))\n",
    "    print(type(t))\n",
    "    \n",
    "    \n",
    "\n",
    "\n",
    "add(3,6)\n",
    "add(3,6,4,5)\n",
    "add(3,6,3,5,6)\n",
    "add(3,6,4,3,2,2)\n",
    "add(3,6,2,3,4,5,6)\n",
    "add(3,6,1,2,3,4,5,6)\n"
   ]
  },
  {
   "cell_type": "code",
   "execution_count": 44,
   "id": "49f474b5",
   "metadata": {},
   "outputs": [
    {
     "name": "stdout",
     "output_type": "stream",
     "text": [
      "Average of number : 5.0\n"
     ]
    }
   ],
   "source": [
    "# prog\n",
    "\n",
    "def average(*t):  # **t Dictinary  and *t is tuple [(*) called estric ]\n",
    "    \n",
    "    num=len(t)\n",
    "    print(\"Average of number :\",sum(t)/num) \n",
    "    \n",
    "average(5,5,5,5,5)\n",
    "\n",
    "\n",
    "# **t Dictinary  and *t is tuple"
   ]
  },
  {
   "cell_type": "code",
   "execution_count": 1,
   "id": "8333212b",
   "metadata": {},
   "outputs": [
    {
     "name": "stdout",
     "output_type": "stream",
     "text": [
      "{'a': 3, 'b': 4, 'c': 4}\n",
      "<class 'dict'>\n"
     ]
    }
   ],
   "source": [
    "# keyword argument \n",
    "\n",
    "def average(**kwrgs):  # **t Dictinary  is a Dictionary It give in dictionary [ (**) key word  lenght argument]\n",
    "    print(kwrgs)\n",
    "    print(type(kwrgs))\n",
    "average(a=3,b=4,c=4)\n",
    "\n"
   ]
  },
  {
   "cell_type": "code",
   "execution_count": 2,
   "id": "44ad32b4",
   "metadata": {},
   "outputs": [
    {
     "name": "stdout",
     "output_type": "stream",
     "text": [
      "([2, 3, 4, 5],)\n",
      "(2, 3, 4, 5)\n"
     ]
    }
   ],
   "source": [
    "def display(*l):\n",
    "    print(l)\n",
    "\n",
    "\n",
    "l=[2,3,4,5]\n",
    "display(l)    # it convert into a single index ( give list one single index ) \n",
    "display(*l)    # it convert into indivisuallly index"
   ]
  },
  {
   "cell_type": "code",
   "execution_count": 5,
   "id": "d41edced",
   "metadata": {},
   "outputs": [
    {
     "name": "stdout",
     "output_type": "stream",
     "text": [
      "1 2 3 4 5\n",
      "[2, 4, 6, 8, 10]\n",
      "<class 'list'>\n"
     ]
    }
   ],
   "source": [
    "x=input().split()\n",
    "x=[ int(i) for i in range(1,11) if i%2==0]\n",
    "print(x)\n",
    "print(type(x))"
   ]
  }
 ],
 "metadata": {
  "kernelspec": {
   "display_name": "Python 3 (ipykernel)",
   "language": "python",
   "name": "python3"
  },
  "language_info": {
   "codemirror_mode": {
    "name": "ipython",
    "version": 3
   },
   "file_extension": ".py",
   "mimetype": "text/x-python",
   "name": "python",
   "nbconvert_exporter": "python",
   "pygments_lexer": "ipython3",
   "version": "3.11.3"
  }
 },
 "nbformat": 4,
 "nbformat_minor": 5
}
