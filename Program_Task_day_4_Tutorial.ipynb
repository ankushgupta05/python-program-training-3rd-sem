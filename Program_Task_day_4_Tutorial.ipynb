{
 "cells": [
  {
   "cell_type": "code",
   "execution_count": 5,
   "id": "a0b8d61d",
   "metadata": {},
   "outputs": [
    {
     "name": "stdout",
     "output_type": "stream",
     "text": [
      "Enter a Number :0\n",
      "The Number is Zero 0\n"
     ]
    }
   ],
   "source": [
    "# 1) write a program wheather Giving number is Possitive and negative or Zero\n",
    "\n",
    "n=int(input(\"Enter a Number :\"))\n",
    "if n>0:\n",
    "    print(\"The Number is positive :\",n)\n",
    "elif n<0:\n",
    "    print(\"The Number is Negative :,\",n)\n",
    "else:\n",
    "    print(\"The Number is Zero\",n)"
   ]
  },
  {
   "cell_type": "code",
   "execution_count": 7,
   "id": "344a3846",
   "metadata": {},
   "outputs": [
    {
     "name": "stdout",
     "output_type": "stream",
     "text": [
      "Enter a Number :500\n",
      "YES\n"
     ]
    }
   ],
   "source": [
    "# 2) write a Program to chek whether a Given Number is Divisible By 5 or Not ?\n",
    "\n",
    "n=int(input(\"Enter a Number :\"))\n",
    "if n%5==0:\n",
    "    print(\"YES\")\n",
    "else:\n",
    "    print(\"NO\")\n",
    "\n",
    "\n"
   ]
  },
  {
   "cell_type": "code",
   "execution_count": 8,
   "id": "a2721b03",
   "metadata": {},
   "outputs": [
    {
     "name": "stdout",
     "output_type": "stream",
     "text": [
      "Enter a Number :22\n",
      "Even\n"
     ]
    }
   ],
   "source": [
    "# 3) Given Number is Even or Not ?\n",
    "\n",
    "n=int(input(\"Enter a Number :\"))\n",
    "if n%2==0:\n",
    "    print(\"Even\")\n",
    "else:\n",
    "    print(\"odd\")\n"
   ]
  },
  {
   "cell_type": "code",
   "execution_count": 11,
   "id": "b441baee",
   "metadata": {},
   "outputs": [
    {
     "name": "stdout",
     "output_type": "stream",
     "text": [
      "Enter a 1st Number :111\n",
      "Enter a 2nd Number :111\n",
      " Both Number is Equal \n"
     ]
    }
   ],
   "source": [
    "# 4) Take Two input From Users and Find Who is Greater or Both Number is Same ?\n",
    "\n",
    "a=int(input(\"Enter a 1st Number :\"))\n",
    "b=int(input(\"Enter a 2nd Number :\"))\n",
    "if a>b:\n",
    "    print(a,\" is Greater than \",b)\n",
    "elif a<b:\n",
    "    print(b,\" is Greater than \",a)\n",
    "else:\n",
    "    print(\" Both Number is Equal \")"
   ]
  },
  {
   "cell_type": "code",
   "execution_count": 25,
   "id": "5dd1a04e",
   "metadata": {},
   "outputs": [
    {
     "name": "stdout",
     "output_type": "stream",
     "text": [
      "Enter 1st string : A\n",
      "Enter 2nd string : B\n",
      "B  is string Greater than  A\n"
     ]
    }
   ],
   "source": [
    "# 5) Find Two string and Find Who is Greater ?\n",
    "\n",
    "str1=input(\"Enter 1st string : \")\n",
    "str2=input(\"Enter 2nd string : \")\n",
    "if (str1>str2):\n",
    "    print(str1,\" is string Greater than \",str2)\n",
    "elif (str1<str2):\n",
    "    print(str2,\" is string Greater than \",str1)\n",
    "else:\n",
    "    print( str1,\"Both string is Same \",str2)"
   ]
  },
  {
   "cell_type": "code",
   "execution_count": 4,
   "id": "0ea8e20c",
   "metadata": {},
   "outputs": [
    {
     "name": "stdout",
     "output_type": "stream",
     "text": [
      "Enter a Number :333\n",
      "The Given Number is exit under in Three Digit : 333\n"
     ]
    }
   ],
   "source": [
    "# 6) Find one Number is available on Three Digit or Not ?\n",
    "\n",
    "n=int(input(\"Enter a Number :\"))\n",
    "Temp=0\n",
    "s=n\n",
    "while(s>0):\n",
    "    s//=10\n",
    "    Temp=Temp+1\n",
    "if Temp==3:\n",
    "    print(\"The Given Number is exit under in Three Digit :\",n)\n",
    "else:\n",
    "    print(\"The Given Number is Not exit in Three Digit : \",n)"
   ]
  },
  {
   "cell_type": "code",
   "execution_count": 12,
   "id": "09784b05",
   "metadata": {},
   "outputs": [
    {
     "name": "stdout",
     "output_type": "stream",
     "text": [
      "Enter 1st Number :10\n",
      "Enter 2nd Number  :4\n",
      "Enter 3rd Number :2\n",
      "The Equeation is Real and Imaginary  -64\n"
     ]
    }
   ],
   "source": [
    "# 7) write a program to check weather a Quadric equation has to real & imaginary part.\n",
    "\n",
    "a=int(input(\"Enter 1st Number :\"))\n",
    "b=int(input(\"Enter 2nd Number  :\"))\n",
    "c=int(input(\"Enter 3rd Number :\"))\n",
    "res=b*b-4*a*c\n",
    "if res>0:\n",
    "    print(\"The Equeation is Real and Distinct \",res)\n",
    "elif res<0:\n",
    "    print(\"The Equeation is Real and Imaginary \",res)\n",
    "else:\n",
    "    print(\"The Equeation Root's is Equal \",res)"
   ]
  },
  {
   "cell_type": "code",
   "execution_count": 21,
   "id": "20f08411",
   "metadata": {},
   "outputs": [
    {
     "name": "stdout",
     "output_type": "stream",
     "text": [
      "Enter your Date or Year :2004\n",
      "This is Not Leap Year : 2004\n"
     ]
    }
   ],
   "source": [
    "# 8) to find Leap Year.\n",
    "y=int(input(\"Enter your Date or Year :\"))\n",
    "if n%100==0 and n%400==0:\n",
    "    print(\"This is a Leap Year :\",y)\n",
    "elif n%4==0 and n>100:\n",
    "    print(\"This is a Leap Year :\",y)\n",
    "else:\n",
    "    print(\"This is Not Leap Year :\",y)"
   ]
  },
  {
   "cell_type": "code",
   "execution_count": 8,
   "id": "e293aa2e",
   "metadata": {},
   "outputs": [
    {
     "name": "stdout",
     "output_type": "stream",
     "text": [
      "Enter 1st Number :5\n",
      "Enter 2nd Number  :4\n",
      "Enter 3rd Number :3\n",
      "Small Number is three Number : 3\n",
      "Middle Number of three Number : 4\n",
      "Greater than of three Number  5\n"
     ]
    }
   ],
   "source": [
    "# 9) write a program To print greter three Number .\n",
    "n1=int(input(\"Enter 1st Number :\"))\n",
    "n2=int(input(\"Enter 2nd Number  :\"))\n",
    "n3=int(input(\"Enter 3rd Number :\"))\n",
    "print(\"Small Number is three Number :\",min(n1,n2,n3))\n",
    "print(\"Middle Number of three Number :\",max(min(n1,n2),min(n2,n3)))\n",
    "print(\"Greater than of three Number \",max(n1,n2,n3))"
   ]
  },
  {
   "cell_type": "code",
   "execution_count": null,
   "id": "a5f9dc93",
   "metadata": {},
   "outputs": [],
   "source": []
  }
 ],
 "metadata": {
  "kernelspec": {
   "display_name": "Python 3 (ipykernel)",
   "language": "python",
   "name": "python3"
  },
  "language_info": {
   "codemirror_mode": {
    "name": "ipython",
    "version": 3
   },
   "file_extension": ".py",
   "mimetype": "text/x-python",
   "name": "python",
   "nbconvert_exporter": "python",
   "pygments_lexer": "ipython3",
   "version": "3.11.3"
  }
 },
 "nbformat": 4,
 "nbformat_minor": 5
}
