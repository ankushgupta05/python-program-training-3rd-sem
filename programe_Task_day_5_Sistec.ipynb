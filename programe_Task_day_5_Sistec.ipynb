{
 "cells": [
  {
   "cell_type": "markdown",
   "id": "0a29d8f7",
   "metadata": {},
   "source": [
    "#  Task For programing"
   ]
  },
  {
   "cell_type": "code",
   "execution_count": 29,
   "id": "937b3277",
   "metadata": {},
   "outputs": [
    {
     "name": "stdout",
     "output_type": "stream",
     "text": [
      "Enter a Number :10\n",
      "2\n",
      "4\n",
      "6\n",
      "8\n",
      "10\n",
      "Enter a Number :10\n",
      "2\n",
      "4\n",
      "6\n",
      "8\n",
      "10\n"
     ]
    }
   ],
   "source": [
    "# 1) \n",
    "n=int(input(\"Enter a Number :\"))\n",
    "for i in range(1,n+1):\n",
    "    if i%2==0:\n",
    "        print(i)\n",
    "\n",
    "Temp=1\n",
    "n=int(input(\"Enter a Number :\"))\n",
    "while(n+1!=Temp):\n",
    "    if Temp%2==0:\n",
    "        print(Temp)\n",
    "    Temp+=1\n",
    "    "
   ]
  },
  {
   "cell_type": "code",
   "execution_count": 5,
   "id": "3b726342",
   "metadata": {},
   "outputs": [
    {
     "name": "stdout",
     "output_type": "stream",
     "text": [
      "Enter a Number :10\n",
      "10\n",
      "8\n",
      "6\n",
      "4\n",
      "2\n"
     ]
    }
   ],
   "source": [
    "# 2)\n",
    "n=int(input(\"Enter a Number :\"))\n",
    "while(n>0):\n",
    "    if n%2==0:\n",
    "        print(n)\n",
    "    n=n-1"
   ]
  },
  {
   "cell_type": "code",
   "execution_count": 24,
   "id": "d4fd4ae5",
   "metadata": {},
   "outputs": [
    {
     "name": "stdout",
     "output_type": "stream",
     "text": [
      "Enter a Number :10\n",
      "The cube of 10  Number : 1\n",
      "The cube of 10  Number : 8\n",
      "The cube of 10  Number : 27\n",
      "The cube of 10  Number : 64\n",
      "The cube of 10  Number : 125\n",
      "The cube of 10  Number : 216\n",
      "The cube of 10  Number : 343\n",
      "The cube of 10  Number : 512\n",
      "The cube of 10  Number : 729\n",
      "The cube of 10  Number : 1000\n",
      "The sum of natural Number : 55.0\n"
     ]
    }
   ],
   "source": [
    "# 3)\n",
    "n=int(input(\"Enter a Number :\"))\n",
    "res=n*(n+1)/2\n",
    "for i in range(1,n+1):\n",
    "    print(\"The cube of\",n,\" Number :\",i**3)\n",
    "print()\n",
    "print(\"The sum of natural Number :\",res)\n",
    "\n"
   ]
  },
  {
   "cell_type": "code",
   "execution_count": 2,
   "id": "1ddff9c5",
   "metadata": {},
   "outputs": [
    {
     "name": "stdout",
     "output_type": "stream",
     "text": [
      "Enter string :Ankush\n",
      "A\n",
      "u\n"
     ]
    }
   ],
   "source": [
    "# 5) Find vowells in string ?\n",
    "\n",
    "s=\"aeiouAEIOU\"\n",
    "s1=input(\"Enter string :\")\n",
    "for char in s1:\n",
    "    if char in s:\n",
    "        print(char)"
   ]
  },
  {
   "cell_type": "code",
   "execution_count": 43,
   "id": "e90d1ba4",
   "metadata": {},
   "outputs": [
    {
     "name": "stdout",
     "output_type": "stream",
     "text": [
      "i am Ankush gupta\n",
      "Total space or tap is Use in string : 3\n"
     ]
    }
   ],
   "source": [
    "# 6) write program to find space / tab in string ?\n",
    "str1=input()\n",
    "\n",
    "print(\"Total space or tap is Use in string :\",str1.count(\" \"))\n"
   ]
  },
  {
   "cell_type": "code",
   "execution_count": 11,
   "id": "fbc668ed",
   "metadata": {},
   "outputs": [
    {
     "name": "stdout",
     "output_type": "stream",
     "text": [
      "ankushgupta\n",
      "Yes\n"
     ]
    }
   ],
   "source": [
    "# 7) check a Giving only string in alphabet ?\n",
    "str1=input()\n",
    "s=str1.isalpha()\n",
    "if s:\n",
    "    print(\"Yes\")\n",
    "else:\n",
    "    print(\"No\")"
   ]
  },
  {
   "cell_type": "code",
   "execution_count": 13,
   "id": "8085f343",
   "metadata": {},
   "outputs": [
    {
     "name": "stdout",
     "output_type": "stream",
     "text": [
      "Enter string :ankushgupta\n",
      "Enter string to  check :shgu\n",
      "Yes\n"
     ]
    }
   ],
   "source": [
    "# 8) find given charactor ispresent in string ?\n",
    "str1=input(\"Enter string :\")\n",
    "str2=input(\"Enter string to  check :\")\n",
    "if str2 in str1:\n",
    "    print(\"Yes\")\n",
    "else:\n",
    "    print(\"No\")"
   ]
  },
  {
   "cell_type": "code",
   "execution_count": 38,
   "id": "947180fd",
   "metadata": {},
   "outputs": [
    {
     "name": "stdout",
     "output_type": "stream",
     "text": [
      "Enter orignal string :ankusouhd\n",
      "Enter vowells :aeiou\n",
      "a\n",
      "o\n",
      "u\n",
      "u\n",
      "Number of vowells : 4 "
     ]
    }
   ],
   "source": [
    "# 9) Find vowells in string ?\n",
    "\n",
    "Temp=0\n",
    "str1=input(\"Enter orignal string :\")\n",
    "str2=input(\"Enter vowells :\")\n",
    "for i in str2:\n",
    "    for j in str1:\n",
    "        if j==i:\n",
    "            print(i)\n",
    "            Temp+=1\n",
    "print(\"Number of vowells :\",Temp)"
   ]
  },
  {
   "cell_type": "code",
   "execution_count": 6,
   "id": "23084663",
   "metadata": {},
   "outputs": [
    {
     "name": "stdout",
     "output_type": "stream",
     "text": [
      "ankush gupta \n",
      "Number of string : 11\n"
     ]
    }
   ],
   "source": [
    "# 10) count string ?\n",
    "Temp=0\n",
    "str1=input()\n",
    "for i in str1:\n",
    "    if i==\" \":\n",
    "        pass\n",
    "    else:\n",
    "        Temp+=1\n",
    "print(\"Number of string :\",Temp)"
   ]
  },
  {
   "cell_type": "code",
   "execution_count": 26,
   "id": "db558b87",
   "metadata": {},
   "outputs": [
    {
     "name": "stdout",
     "output_type": "stream",
     "text": [
      "ankush\n",
      "h s u k n a "
     ]
    }
   ],
   "source": [
    "# 11) River string ?\n",
    "str1=input()\n",
    "num=len(str1)\n",
    "for i in range(0,num):\n",
    "    print(str1[(num-1)-i],end=\" \")\n",
    "    "
   ]
  },
  {
   "cell_type": "code",
   "execution_count": 57,
   "id": "dc42def7",
   "metadata": {},
   "outputs": [
    {
     "name": "stdout",
     "output_type": "stream",
     "text": [
      "ankush1gupta2\n",
      "Number is present in string : ['1', '2']\n"
     ]
    }
   ],
   "source": [
    "#12) find Number in string ?\n",
    "num=[]\n",
    "str1=input()\n",
    "for i in str1:\n",
    "    if i.isnumeric():\n",
    "        num.append(i)\n",
    "print(\"Number is present in string :\",num)\n",
    "        "
   ]
  },
  {
   "cell_type": "code",
   "execution_count": 58,
   "id": "d5f8a101",
   "metadata": {},
   "outputs": [
    {
     "name": "stdout",
     "output_type": "stream",
     "text": [
      "Enter string :nitin\n",
      "Yes\n"
     ]
    }
   ],
   "source": [
    "# 13) Find string is pelidrom ?\n",
    "\n",
    "str1=input(\"Enter string :\")\n",
    "num=len(str1)\n",
    "for i in range(num):\n",
    "    if str1[i]!=str1[num-1-i]:\n",
    "        count=0\n",
    "        break\n",
    "    else:\n",
    "        count=1\n",
    "if count==True:\n",
    "    print(\"Yes\")\n",
    "else:\n",
    "    print(\"No\")"
   ]
  },
  {
   "cell_type": "code",
   "execution_count": null,
   "id": "e3691bef",
   "metadata": {},
   "outputs": [],
   "source": [
    "# 14) Find Unique Digit From List ?\n",
    "\n"
   ]
  }
 ],
 "metadata": {
  "kernelspec": {
   "display_name": "Python 3 (ipykernel)",
   "language": "python",
   "name": "python3"
  },
  "language_info": {
   "codemirror_mode": {
    "name": "ipython",
    "version": 3
   },
   "file_extension": ".py",
   "mimetype": "text/x-python",
   "name": "python",
   "nbconvert_exporter": "python",
   "pygments_lexer": "ipython3",
   "version": "3.11.3"
  }
 },
 "nbformat": 4,
 "nbformat_minor": 5
}
