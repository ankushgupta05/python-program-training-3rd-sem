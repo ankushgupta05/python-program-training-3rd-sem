{
 "cells": [
  {
   "cell_type": "code",
   "execution_count": 41,
   "id": "24567542",
   "metadata": {},
   "outputs": [
    {
     "name": "stdout",
     "output_type": "stream",
     "text": [
      "Enter orignal string :ankush gupta\n",
      "aeiou\n",
      "a\n",
      "a\n",
      "u\n",
      "u\n",
      "Total Number of vowells present : 4\n"
     ]
    }
   ],
   "source": [
    "# write a program to find vowells ?\n",
    "\n",
    "Temp=0\n",
    "str1=input(\"Enter orignal string :\")\n",
    "str2=input()\n",
    "for i in str2:\n",
    "    for j in str1:\n",
    "        if i==j:\n",
    "            print(i)\n",
    "            Temp+=1\n",
    "print(\"Total Number of vowells present :\",Temp)"
   ]
  },
  {
   "cell_type": "code",
   "execution_count": 60,
   "id": "2dfe2424",
   "metadata": {},
   "outputs": [
    {
     "name": "stdout",
     "output_type": "stream",
     "text": [
      "anksuh\n",
      "h u s k n a "
     ]
    }
   ],
   "source": [
    "# write a programe to river a string ?\n",
    "\n",
    "str1=input()\n",
    "num=len(str1)\n",
    "for i in range(0,num):\n",
    "    print(str1[(num-1)-i],end=\" \")"
   ]
  },
  {
   "cell_type": "code",
   "execution_count": 5,
   "id": "f7bf3dc4",
   "metadata": {},
   "outputs": [
    {
     "name": "stdout",
     "output_type": "stream",
     "text": [
      " Enter a string :I am Ankush Gupta and I am verry polit person\n",
      "The no. of max. word present in string : 2\n",
      "The maximum lenght of size of word : 6\n",
      "The maximum lenght of word : ['Ankush', 'person']\n"
     ]
    }
   ],
   "source": [
    "# write a program to find max. lenght of word.\n",
    "\n",
    "str1=input(\" Enter a string :\")\n",
    "l=str1.split(\" \")\n",
    "Temp=0\n",
    "m=[]\n",
    "for i in l:\n",
    "    if len(i)>Temp:\n",
    "        Temp=len(i)\n",
    "for i in l:\n",
    "    if len(i)==Temp:\n",
    "        m.append(i)\n",
    "print(\"The no. of max. word present in string :\",len(m))\n",
    "print(\"The maximum lenght of size of word :\",Temp)\n",
    "print(\"The maximum lenght of word :\",m)\n",
    "            "
   ]
  },
  {
   "cell_type": "code",
   "execution_count": 107,
   "id": "2e8fa495",
   "metadata": {},
   "outputs": [
    {
     "name": "stdout",
     "output_type": "stream",
     "text": [
      "\n",
      "h  s  u  k  n  a  \n",
      "a  t  p  u  g  \n",
      "l  a  p  o  h  b  "
     ]
    }
   ],
   "source": [
    "# write a program to rivers wordwise ?\n",
    "str1=[\"ankush\",\"gupta\",\"bhopal\"]\n",
    "num=len(str1)\n",
    "for i in range(num):\n",
    "    num2=len(str1[i])\n",
    "    print()\n",
    "    for j in range(num2):\n",
    "        print(str1[i][num2-1-j],end=\"  \")\n"
   ]
  },
  {
   "cell_type": "code",
   "execution_count": 45,
   "id": "c16e9cd0",
   "metadata": {},
   "outputs": [
    {
     "name": "stdout",
     "output_type": "stream",
     "text": [
      "10\n",
      "10\n",
      "-10\n",
      "20\n",
      "-20\n",
      "30\n",
      "-30\n",
      "0\n",
      "-0\n",
      "40\n",
      "-40\n",
      "[10, -10, 20, -20, 30, -30, 0, 0, 40, -40]\n",
      "List of Possitive Number  : [10, 20, 30, 40]\n",
      "List of possituve Number  : [-10, -20, -30, -40]\n",
      "List of present Zero : [0, 0]\n"
     ]
    }
   ],
   "source": [
    "# write a prog.to seperate +ve and -ve number in List ?\n",
    "non=[]\n",
    "na=[]\n",
    "p=[]\n",
    "orglist=[]\n",
    "n=int(input())\n",
    "for i in range(n):\n",
    "    orglist.append(int(input()))\n",
    "print(orglist)\n",
    "num=len(orglist)\n",
    "for i in range(num):\n",
    "    if orglist[i]>0:\n",
    "        p.append(orglist[i])\n",
    "    elif orglist[i]<0:\n",
    "        na.append(orglist[i])\n",
    "    else:\n",
    "        non.append(orglist[i])\n",
    "print(\"List of Possitive Number  :\",p)\n",
    "print(\"List of possituve Number  :\",na)\n",
    "print(\"List of present Zero :\",non)"
   ]
  },
  {
   "cell_type": "code",
   "execution_count": 110,
   "id": "06743bf4",
   "metadata": {},
   "outputs": [
    {
     "name": "stdout",
     "output_type": "stream",
     "text": [
      "4\n",
      "11\n",
      "22\n",
      "33\n",
      "44\n",
      "[11, 22, 33, 44]\n",
      " Convert into tuple : (11, 22, 33, 44)\n",
      "44 33 22 11 "
     ]
    }
   ],
   "source": [
    "# write a program to creat a touple from a given list and rivers it ?\n",
    "tup=()\n",
    "l=[]\n",
    "n=int(input())\n",
    "for i in range(n):\n",
    "    l.append(int(input()))\n",
    "print(l)\n",
    "tup=tuple(l)\n",
    "num=len(tup)\n",
    "print(\" Convert into tuple :\",tup)\n",
    "for i in range(num):\n",
    "    print(tup[num-1-i],end=\" \")\n",
    "    "
   ]
  },
  {
   "cell_type": "code",
   "execution_count": 12,
   "id": "4788e599",
   "metadata": {},
   "outputs": [
    {
     "name": "stdout",
     "output_type": "stream",
     "text": [
      "5\n",
      "11\n",
      "22\n",
      "11\n",
      "22\n",
      "33\n",
      "{33, 11, 22}\n"
     ]
    }
   ],
   "source": [
    "# write a prog.Two sets From a Given set of numbers to seprate even or odd number ?\n",
    "\n",
    "l=[]\n",
    "n=int(input())\n",
    "for i in range(n):\n",
    "    l.append(int(input()))\n",
    "s=set(l)\n",
    "print(s)"
   ]
  },
  {
   "cell_type": "code",
   "execution_count": 4,
   "id": "bda46017",
   "metadata": {},
   "outputs": [
    {
     "name": "stdout",
     "output_type": "stream",
     "text": [
      "5\n",
      "11\n",
      "22\n",
      "11\n",
      "33\n",
      "55\n",
      "[22, 11, 33, 55]\n"
     ]
    }
   ],
   "source": [
    "# Find a unique Digit ?\n",
    "l=[]\n",
    "n=int(input())\n",
    "for i in range(n):\n",
    "    l.append(int(input()))\n",
    "num=len(l)\n",
    "for i in range(0,num-2):\n",
    "    for j in range(1+i,n-1):\n",
    "        if l[j]==l[i]:\n",
    "            l.remove(l[i])\n",
    "print(l)\n",
    "            "
   ]
  },
  {
   "cell_type": "code",
   "execution_count": 12,
   "id": "7d4d1cea",
   "metadata": {},
   "outputs": [
    {
     "name": "stdout",
     "output_type": "stream",
     "text": [
      "5\n",
      "11\n",
      "22\n",
      "11\n",
      "22\n",
      "33\n",
      "{33, 11, 22}\n"
     ]
    }
   ],
   "source": [
    "# write a prog.Two sets From a Given set of numbers to seprate even or odd number ?\n",
    "\n",
    "l=[]\n",
    "n=int(input())\n",
    "for i in range(n):\n",
    "    l.append(int(input()))\n",
    "s=set(l)\n",
    "print(s)"
   ]
  },
  {
   "cell_type": "code",
   "execution_count": 16,
   "id": "d069d508",
   "metadata": {},
   "outputs": [
    {
     "name": "stdout",
     "output_type": "stream",
     "text": [
      "Enter a number :20\n",
      "The prime Number is Present  :  [1, 2, 3, 5, 7, 11, 13, 17, 19]\n"
     ]
    }
   ],
   "source": [
    "# Write a program to Find all prime Number ? \n",
    "\n",
    "def find(n):\n",
    "    num=0\n",
    "    num=int(math.sqrt(n))\n",
    "    for i in range(2,num+1):\n",
    "        if n%i==0:\n",
    "            return False\n",
    "    return True\n",
    "\n",
    "import math\n",
    "n=int(input(\"Enter a number :\"))\n",
    "l=[]\n",
    "while(n>0):\n",
    "    if find(n):\n",
    "        l.append(n)\n",
    "        \n",
    "    n=n-1\n",
    "print(\"The prime Number is Present  : \",l[::-1])"
   ]
  },
  {
   "cell_type": "code",
   "execution_count": null,
   "id": "9a0e3e7c",
   "metadata": {},
   "outputs": [],
   "source": [
    "# write a program to Find prime Number By indivisually ?\n",
    "\n",
    "count=0\n",
    "n=int(input())\n",
    "for i in range(1,n+1):\n",
    "    if n%i==0:\n",
    "        count+=1\n",
    "if count==2:\n",
    "    print(\"prime Number :\",n)\n",
    "else:\n",
    "    print(\"NON prime NUmbe :\",n)"
   ]
  }
 ],
 "metadata": {
  "kernelspec": {
   "display_name": "Python 3 (ipykernel)",
   "language": "python",
   "name": "python3"
  },
  "language_info": {
   "codemirror_mode": {
    "name": "ipython",
    "version": 3
   },
   "file_extension": ".py",
   "mimetype": "text/x-python",
   "name": "python",
   "nbconvert_exporter": "python",
   "pygments_lexer": "ipython3",
   "version": "3.11.4"
  }
 },
 "nbformat": 4,
 "nbformat_minor": 5
}
