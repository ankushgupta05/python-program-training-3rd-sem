{
 "cells": [
  {
   "cell_type": "code",
   "execution_count": 7,
   "id": "18c2d5a7",
   "metadata": {},
   "outputs": [
    {
     "name": "stdout",
     "output_type": "stream",
     "text": [
      "Enter 1st  number :3\n",
      "Enter 2nd  number :4\n",
      "The LCM of Two number : 12\n"
     ]
    }
   ],
   "source": [
    "# Find LCM [Lowest common Multiple ]\n",
    "def LCM(n1,n2):\n",
    "    \n",
    "    num1=max(n1,n2)\n",
    "    num2=min(n1,n2)\n",
    "    if(num1%num2==0):\n",
    "        return num1\n",
    "    i=1\n",
    "    p1=[]\n",
    "    p2=[]\n",
    "    while(num2!=i):\n",
    "            p1.append(i*num1)\n",
    "            p2.append(i*num2)\n",
    "            i+=1\n",
    "    for i in p1:\n",
    "        for j in p2:\n",
    "            if i==j:\n",
    "                return i\n",
    "    return n1*n2\n",
    "\n",
    "\n",
    "n1=int(input(\"Enter 1st  number :\"))\n",
    "n2=int(input(\"Enter 2nd  number :\"))\n",
    "print(\"The LCM of Two number :\",LCM(n1,n2))"
   ]
  },
  {
   "cell_type": "code",
   "execution_count": 4,
   "id": "ed2ca75d",
   "metadata": {},
   "outputs": [
    {
     "name": "stdout",
     "output_type": "stream",
     "text": [
      "Enter a string :l am ankush gupta\n",
      " Word present  in string :  4\n"
     ]
    }
   ],
   "source": [
    "# 2) write program to find string word ?\n",
    "\n",
    "def word(str1):\n",
    "    l=str1.split(\" \")\n",
    "    return len(l)\n",
    "\n",
    "str1=input(\"Enter a string :\")\n",
    "print(\" Word present  in string : \",word(str1))"
   ]
  },
  {
   "cell_type": "code",
   "execution_count": 13,
   "id": "36631b8a",
   "metadata": {},
   "outputs": [
    {
     "name": "stdout",
     "output_type": "stream",
     "text": [
      "Enter a string :ankush 34 gupta44\n",
      "The list of fuction : ['3', '4', '4', '4']\n"
     ]
    }
   ],
   "source": [
    "# 3) write a function  to find number in a string ?\n",
    "\n",
    "def numbr(str1):\n",
    "    l=[]\n",
    "    string_num=\"0123456789\"\n",
    "    for i in str1:\n",
    "        for j in string_num:\n",
    "            if i==j:\n",
    "                l.append(i)\n",
    "    return l\n",
    "                \n",
    "    \n",
    "    \n",
    "str1=input(\"Enter a string :\")\n",
    "print(\"The list of fuction :\",numbr(str1))"
   ]
  },
  {
   "cell_type": "code",
   "execution_count": 14,
   "id": "6b988866",
   "metadata": {},
   "outputs": [
    {
     "name": "stdout",
     "output_type": "stream",
     "text": [
      "1 2 3\n"
     ]
    },
    {
     "ename": "ValueError",
     "evalue": "invalid literal for int() with base 10: '1 2 3'",
     "output_type": "error",
     "traceback": [
      "\u001b[1;31m---------------------------------------------------------------------------\u001b[0m",
      "\u001b[1;31mValueError\u001b[0m                                Traceback (most recent call last)",
      "Cell \u001b[1;32mIn[14], line 16\u001b[0m\n\u001b[0;32m     13\u001b[0m         j\u001b[38;5;241m=\u001b[39mj\u001b[38;5;241m+\u001b[39m\u001b[38;5;241m1\u001b[39m\n\u001b[0;32m     14\u001b[0m     \u001b[38;5;28;01mreturn\u001b[39;00m Temp2\n\u001b[1;32m---> 16\u001b[0m T\u001b[38;5;241m=\u001b[39m\u001b[38;5;28mint\u001b[39m(\u001b[38;5;28minput\u001b[39m())\u001b[38;5;241m.\u001b[39msplit()\n\u001b[0;32m     17\u001b[0m t,n,m\u001b[38;5;241m=\u001b[39mT\n\u001b[0;32m     19\u001b[0m i\u001b[38;5;241m=\u001b[39m\u001b[38;5;241m0\u001b[39m\n",
      "\u001b[1;31mValueError\u001b[0m: invalid literal for int() with base 10: '1 2 3'"
     ]
    }
   ],
   "source": [
    "\n",
    "\n",
    "def find(n,m):    \n",
    "    p1=[]\n",
    "    Temp1=0\n",
    "    Temp2=0\n",
    "    j=0\n",
    "    while(n!=j):  \n",
    "        for i in range(m):\n",
    "            p1.append(input())\n",
    "        Temp1=p1.count('#')\n",
    "        if Temp1>Temp2:\n",
    "            Temp2=Temp1\n",
    "            p1.clear()\n",
    "        j=j+1\n",
    "    return Temp2\n",
    "\n",
    "T=input().split()\n",
    "t,n,m=T\n",
    "\n",
    "i=0\n",
    "while(t>i):\n",
    "    res=find(n,m)\n",
    "    print(res,end=\" \")\n",
    "    t=t-1\n"
   ]
  },
  {
   "cell_type": "code",
   "execution_count": 22,
   "id": "387fedf7",
   "metadata": {},
   "outputs": [
    {
     "name": "stdout",
     "output_type": "stream",
     "text": [
      "1 2 3\n",
      "1 2 3\n",
      "<class 'str'> <class 'str'> <class 'str'>\n"
     ]
    }
   ],
   "source": [
    "T=input().split()\n",
    "a,b,c=T\n",
    "print(a,b,c)\n",
    "print(type(a),type(b),type(c))"
   ]
  }
 ],
 "metadata": {
  "kernelspec": {
   "display_name": "Python 3 (ipykernel)",
   "language": "python",
   "name": "python3"
  },
  "language_info": {
   "codemirror_mode": {
    "name": "ipython",
    "version": 3
   },
   "file_extension": ".py",
   "mimetype": "text/x-python",
   "name": "python",
   "nbconvert_exporter": "python",
   "pygments_lexer": "ipython3",
   "version": "3.11.3"
  }
 },
 "nbformat": 4,
 "nbformat_minor": 5
}
