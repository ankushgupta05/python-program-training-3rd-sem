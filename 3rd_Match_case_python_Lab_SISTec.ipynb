{
 "cells": [
  {
   "cell_type": "markdown",
   "id": "807d9fb0",
   "metadata": {},
   "source": [
    "# Match case"
   ]
  },
  {
   "cell_type": "code",
   "execution_count": 10,
   "id": "b48b821b",
   "metadata": {},
   "outputs": [
    {
     "name": "stdout",
     "output_type": "stream",
     "text": [
      "Enter a number(0-5) :5\n",
      "You have entered five : 5\n"
     ]
    }
   ],
   "source": [
    "# macth case  ( it is similer to switch case )\n",
    "# NOTE:  '3.10 python version'   allows match case statement .  \n",
    "\n",
    "\n",
    "num=int(input(\"Enter a number(0-5) :\"))\n",
    "match num:\n",
    "    case 0:\n",
    "        print(f\"You have entered ZERO : {num}\")\n",
    "    case 1:\n",
    "        print(f\"You have entered one : {num}\" )\n",
    "    case 3:\n",
    "        print(f\"You have entered Three : {num}\")\n",
    "    case 4:\n",
    "        print(f\"You have entered fore : {num}\")\n",
    "    case 5:\n",
    "        print(f\"You have entered five : {num}\")\n",
    "   \n",
    "    case _:   #  ' _ ' This operator is called underscore     # It run when User entered number is not valid (Default case)\n",
    "        print(f\"Sorry You have entered Invalid number : {num}\")\n",
    " \n"
   ]
  },
  {
   "cell_type": "markdown",
   "id": "f8ba06de",
   "metadata": {},
   "source": [
    "# if else condition in match case  statement"
   ]
  },
  {
   "cell_type": "code",
   "execution_count": 23,
   "id": "c046f674",
   "metadata": {},
   "outputs": [
    {
     "name": "stdout",
     "output_type": "stream",
     "text": [
      "Enter a number :0\n",
      "You have Entered Zero \n"
     ]
    }
   ],
   "source": [
    "# write a match case using if else statement (Even or not number)?\n",
    "\n",
    "num=int(input(\"Enter a number :\"))\n",
    "match num:\n",
    "    case num if num>0 and num%2==0:\n",
    "        print(f\"Even number : {num} \")\n",
    "    case num if num>0 and num%2 !=0:\n",
    "        print(f\"odd number : {num}\")\n",
    "    case _:\n",
    "        print(\"You have Entered Zero \")"
   ]
  },
  {
   "cell_type": "code",
   "execution_count": 15,
   "id": "c5a68d66",
   "metadata": {},
   "outputs": [
    {
     "name": "stdout",
     "output_type": "stream",
     "text": [
      "Enter 1st integer number :10\n",
      "Enter 2st integer number :10\n",
      "Enter one option Which you wants to performs :-\n",
      "1) Additiona of Two number .\n",
      "2) Substraction of Two number .\n",
      "3) Mulltiply of Two number .\n",
      "4) Division of Two number .\n",
      "1\n",
      "The Additional of Two Number : 20\n"
     ]
    }
   ],
   "source": [
    "# Task of Programing\n",
    "\n",
    "# write a pyhon program to make calcuketor ?\n",
    "\n",
    "n1=int(input(\"Enter 1st integer number :\"))\n",
    "n2=int(input(\"Enter 2st integer number :\"))\n",
    "print(\"Enter one option Which you wants to performs :-\")\n",
    "print(\"1) Additiona of Two number .\")\n",
    "print(\"2) Substraction of Two number .\")\n",
    "print(\"3) Mulltiply of Two number .\")\n",
    "print(\"4) Division of Two number .\")\n",
    "num=int(input())\n",
    "match num:\n",
    "    case 1:\n",
    "        print(\"The Additional of Two Number :\",n1+n2)\n",
    "    case 2:\n",
    "        print(\"The Substraction of Two Number :\",n1-n2)\n",
    "    case 3:\n",
    "        print(\"The Multification of Two Number :\",n1*n2)\n",
    "    case 4:\n",
    "        print(\"The Additional of Two Number :\",n1/n2)\n",
    "    case _:\n",
    "        print(\"Sorry You have Entered wrong Key ??\")"
   ]
  },
  {
   "cell_type": "code",
   "execution_count": null,
   "id": "d60b50a9",
   "metadata": {},
   "outputs": [],
   "source": []
  }
 ],
 "metadata": {
  "kernelspec": {
   "display_name": "Python 3 (ipykernel)",
   "language": "python",
   "name": "python3"
  },
  "language_info": {
   "codemirror_mode": {
    "name": "ipython",
    "version": 3
   },
   "file_extension": ".py",
   "mimetype": "text/x-python",
   "name": "python",
   "nbconvert_exporter": "python",
   "pygments_lexer": "ipython3",
   "version": "3.11.3"
  }
 },
 "nbformat": 4,
 "nbformat_minor": 5
}
