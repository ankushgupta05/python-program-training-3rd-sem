def deco_result(result):
  def distinction(marks):
    for m in marks:
        if m>= 75:
          print("Distinct with ",m," marks")

  return distinction

@deco_result
def result(marks):
  for m in marks:
    if m>=35:
      pass
    else:
      print("Fail")
  else:
    print("Pass")
marks=[10,40,50,60,70,80]
result(marks)
