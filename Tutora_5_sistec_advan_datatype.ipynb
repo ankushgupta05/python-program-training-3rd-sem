{
 "cells": [
  {
   "cell_type": "markdown",
   "id": "b51b6b90",
   "metadata": {},
   "source": [
    "# slicing in string \n",
    "\n",
    "\n"
   ]
  },
  {
   "cell_type": "code",
   "execution_count": 16,
   "id": "91a5f5b0",
   "metadata": {},
   "outputs": [
    {
     "name": "stdout",
     "output_type": "stream",
     "text": [
      "18\n",
      "k\n",
      "I am An\n",
      "I am Ankush Gupta \n",
      "I am Ankush Gupta \n"
     ]
    }
   ],
   "source": [
    "str=\"I am Ankush Gupta \"\n",
    "print(len(str1))  # Give numbr of index\n",
    "print(str[7])  # it Give a particuler index of a string and it give 7-1-->6 upto index\n",
    "print(str[0:7])  # it give from 0 To 7(7-1-->6) upto index\n",
    "print(str[0:])      # By Default it Give all string \n",
    "print(str[:])         # By Default it Give all string "
   ]
  },
  {
   "cell_type": "code",
   "execution_count": 10,
   "id": "c2dc845b",
   "metadata": {},
   "outputs": [
    {
     "name": "stdout",
     "output_type": "stream",
     "text": [
      "I am  Ankush\n",
      "I am  Ankush\n",
      "Ia Aks\n"
     ]
    }
   ],
   "source": [
    "str1=\"I am  Ankush Gupta \"\n",
    "print(str1[0:12])  # 1st initialization and 2nd ending \n",
    "print(str1[0:12:])\n",
    "print(str1[0:12:2])  # 3rd place is denoting Decreament/increament"
   ]
  },
  {
   "cell_type": "code",
   "execution_count": 20,
   "id": "0fe65178",
   "metadata": {},
   "outputs": [
    {
     "name": "stdout",
     "output_type": "stream",
     "text": [
      "G hsuknA ma \n",
      "atpuG hsuknA ma I\n",
      "\n"
     ]
    }
   ],
   "source": [
    "# Revers Index\n",
    "\n",
    "str1=\"I am Ankush Gupta\"\n",
    "print(str1[12:0:-1])   # string move in revers Diarection\n",
    "print(str1[::-1])      # By Default string move in revers Diarection\n",
    "print(str1[0:12:-1])   # it is Not Give any string bcz  string is not visible in revers but \n",
    "                            #  syntex iss right so it exexute []"
   ]
  },
  {
   "cell_type": "code",
   "execution_count": 19,
   "id": "b2ee966c",
   "metadata": {},
   "outputs": [
    {
     "name": "stdout",
     "output_type": "stream",
     "text": [
      "HELL\n",
      "OLLE\n"
     ]
    }
   ],
   "source": [
    "str1=\"HELLO\"\n",
    "print(str1[-5:-1])\n",
    "print(str1[-1:-5:-1])"
   ]
  },
  {
   "cell_type": "code",
   "execution_count": 26,
   "id": "3b915caa",
   "metadata": {},
   "outputs": [
    {
     "name": "stdout",
     "output_type": "stream",
     "text": [
      "LOma\n",
      "namO\n"
     ]
    }
   ],
   "source": [
    "str1=\"HELLOman\"\n",
    "print(str1[-5:-1])\n",
    "print(str1[-1:-5:-1])"
   ]
  },
  {
   "cell_type": "code",
   "execution_count": 31,
   "id": "fc09e4c9",
   "metadata": {},
   "outputs": [
    {
     "name": "stdout",
     "output_type": "stream",
     "text": [
      "True\n",
      "5\n",
      "-1\n"
     ]
    }
   ],
   "source": [
    "str1=\"HELLOman\"\n",
    "print(\"H\" in str1)\n",
    "print(str1.find(\"m\"))   # it Give Particuler index of Sub string of original  string .\n",
    "print(str1.find(\"A\"))   # if not present than give -1 But it not give Error."
   ]
  },
  {
   "cell_type": "code",
   "execution_count": 34,
   "id": "7c6e980f",
   "metadata": {},
   "outputs": [
    {
     "name": "stdout",
     "output_type": "stream",
     "text": [
      "5\n"
     ]
    }
   ],
   "source": [
    "str1=\"HELLOman\"\n",
    "print(str1.index(\"m\"))  # it Give  particuler index of Sub string of orignal string.\n",
    "# print(str1.index(\"A\"))  # But index give error if Not persent Substring in orignal string"
   ]
  },
  {
   "cell_type": "code",
   "execution_count": 44,
   "id": "cb2f853a",
   "metadata": {},
   "outputs": [
    {
     "name": "stdout",
     "output_type": "stream",
     "text": [
      "     Ankush gupta     \n",
      "Ankush gupta\n",
      "     Ankush gupta\n",
      "Ankush gupta     \n"
     ]
    }
   ],
   "source": [
    "str1=\"     Ankush gupta     \"\n",
    "print(str1)    \n",
    "print(str1.strip())   # strip() reduce space of the string from Both side\n",
    "print(str1.rstrip())     # rstrip() reduce last Digit of the string\n",
    "print(str1.lstrip())         # lstrip() reduce First Digit  of the string From left side"
   ]
  },
  {
   "cell_type": "code",
   "execution_count": 46,
   "id": "2aa95321",
   "metadata": {},
   "outputs": [
    {
     "name": "stdout",
     "output_type": "stream",
     "text": [
      "!!!!!!!Ankush gupta!!!!!!!!!\n",
      "Ankush gupta\n",
      "!!!!!!!Ankush gupta\n",
      "Ankush gupta!!!!!!!!!\n"
     ]
    }
   ],
   "source": [
    "str1=\"!!!!!!!Ankush gupta!!!!!!!!!\"\n",
    "print(str1)    \n",
    "print(str1.strip(\"!\"))   # strip() reduce space of the string from Both side\n",
    "print(str1.rstrip(\"!\"))     # rstrip() reduce last Digit of the string\n",
    "print(str1.lstrip(\"!\"))         # lstrip() reduce FirstDigit  of the string From left side"
   ]
  },
  {
   "cell_type": "code",
   "execution_count": 58,
   "id": "2eb32893",
   "metadata": {},
   "outputs": [
    {
     "name": "stdout",
     "output_type": "stream",
     "text": [
      "2884614512576\n",
      "16\n",
      "!!!!!!!Madhuri gupta!!!!!!!!!\n",
      "2884614511216\n"
     ]
    }
   ],
   "source": [
    "str1=\"!!!!!!!Ankush gupta!!!!!!!!!\"\n",
    "print(id(str1))\n",
    "print(str1.count(\"!\"))  # count() is use to count the particuler string.\n",
    "print(str1.replace(\"Ankush\",\"Madhuri\")) # replace() changes to anothe word\n",
    "print(id(str1.replace(\"Ankush\",\"Madhuri\")))   # Id can be change also"
   ]
  },
  {
   "cell_type": "code",
   "execution_count": 62,
   "id": "1c835273",
   "metadata": {},
   "outputs": [
    {
     "name": "stdout",
     "output_type": "stream",
     "text": [
      "False\n",
      "False\n",
      "True\n",
      "False\n"
     ]
    }
   ],
   "source": [
    "str1=\"abc334ggf\"\n",
    "str2=\"565445654\"\n",
    "str3=\"akushgupta\"\n",
    "str4=\"@#$%\"\n",
    "print(str1.isalpha()) \n",
    "print(str2.isalpha())\n",
    "print(str3.isalpha())\n",
    "print(str4.isalpha())\n"
   ]
  },
  {
   "cell_type": "code",
   "execution_count": 63,
   "id": "a91eeddc",
   "metadata": {},
   "outputs": [
    {
     "name": "stdout",
     "output_type": "stream",
     "text": [
      "True\n",
      "True\n",
      "True\n",
      "False\n"
     ]
    }
   ],
   "source": [
    "str1=\"abc334ggf\"\n",
    "str2=\"565445654\"\n",
    "str3=\"akushgupta\"\n",
    "str4=\"@#$%\"\n",
    "print(str1.isalnum()) \n",
    "print(str2.isalnum())\n",
    "print(str3.isalnum())\n",
    "print(str4.isalnum())\n"
   ]
  },
  {
   "cell_type": "code",
   "execution_count": 64,
   "id": "ed40aed2",
   "metadata": {},
   "outputs": [
    {
     "name": "stdout",
     "output_type": "stream",
     "text": [
      "False\n",
      "True\n",
      "False\n",
      "False\n"
     ]
    }
   ],
   "source": [
    "str1=\"abc334ggf\"\n",
    "str2=\"565445654\"\n",
    "str3=\"akushgupta\"\n",
    "str4=\"@#$%\"\n",
    "print(str1.isnumeric()) \n",
    "print(str2.isnumeric()) \n",
    "print(str3.isnumeric()) \n",
    "print(str4.isnumeric()) \n"
   ]
  },
  {
   "cell_type": "code",
   "execution_count": null,
   "id": "3e3219ca",
   "metadata": {},
   "outputs": [],
   "source": [
    "str1=\"abc334ggf\"\n",
    "str2=\"565445654\"\n",
    "str3=\"akushgupta\"\n",
    "str4=\"@#$%\"\n",
    "print(str1.isnumeric()) \n",
    "print(str2.isnumeric()) \n",
    "print(str3.isnumeric()) \n",
    "print(str4.isnumeric()) "
   ]
  },
  {
   "cell_type": "code",
   "execution_count": 71,
   "id": "6a477dba",
   "metadata": {},
   "outputs": [
    {
     "name": "stdout",
     "output_type": "stream",
     "text": [
      "True\n",
      "False\n",
      "False\n",
      "False\n",
      "False\n",
      "True\n"
     ]
    }
   ],
   "source": [
    "str5=\"   \"\n",
    "str1=\"abc334ggf    kkf\"\n",
    "str2=\"565445654\"\n",
    "str3=\"akushgupta\"\n",
    "str4=\"@#$%\"\n",
    "str6=\" \\n\\n  \"\n",
    "print(str5.isspace())       # if only space considard so give it true eithor false\n",
    "print(str1.isspace()) \n",
    "print(str2.isspace()) \n",
    "print(str3.isspace()) \n",
    "print(str4.isspace()) \n",
    "print(str6.isspace()) "
   ]
  },
  {
   "cell_type": "code",
   "execution_count": 75,
   "id": "2130e924",
   "metadata": {},
   "outputs": [
    {
     "name": "stdout",
     "output_type": "stream",
     "text": [
      "ANKUSHGUPTA\n",
      "ankushgupta\n",
      "True\n",
      "False\n"
     ]
    }
   ],
   "source": [
    "str1=\"ankushgupta\"\n",
    "str2=\"ANKUSHGUPTA\"\n",
    "print(str1.upper())\n",
    "print(str2.lower())\n",
    "print(str1.islower())\n",
    "print(str1.isupper())"
   ]
  },
  {
   "cell_type": "code",
   "execution_count": 76,
   "id": "2eca7389",
   "metadata": {},
   "outputs": [
    {
     "name": "stdout",
     "output_type": "stream",
     "text": [
      "False\n",
      "True\n"
     ]
    }
   ],
   "source": [
    "print(str2.islower())\n",
    "print(str2.isupper())"
   ]
  },
  {
   "cell_type": "code",
   "execution_count": 91,
   "id": "62402723",
   "metadata": {},
   "outputs": [
    {
     "name": "stdout",
     "output_type": "stream",
     "text": [
      "['i', ' ', 'a', 'm', ' ', 'a', 'n', 'k', 'u', 's', 'h', ' ', 'g', 'u', 'p', 't', 'a', '.']\n"
     ]
    }
   ],
   "source": [
    "str1=\"i am ankush gupta.\"\n",
    "s=list(str1)    # convert into List indivisualy index\n",
    "print(s)"
   ]
  },
  {
   "cell_type": "code",
   "execution_count": 88,
   "id": "e8af5458",
   "metadata": {},
   "outputs": [
    {
     "name": "stdout",
     "output_type": "stream",
     "text": [
      "I am ankus gupta\n",
      "['i', 'am', 'ankus', 'gupta']\n",
      "['i am ankus gupta']\n",
      "['i am ankus gupta']\n"
     ]
    }
   ],
   "source": [
    "str1=\"i am ankus gupta\"\n",
    "print(str1.capitalize()) # convert Fist charactor in capital.\n",
    "print(str1.split())   # convert into List into many index.\n",
    "print(str1.split(\"&\"))\n",
    "print(str1.split(\",\"))   # convert into one index of List"
   ]
  },
  {
   "cell_type": "code",
   "execution_count": 92,
   "id": "1508d4ec",
   "metadata": {},
   "outputs": [
    {
     "name": "stdout",
     "output_type": "stream",
     "text": [
      "['i ', ' am ', ' ankush ', ' gupta']\n"
     ]
    }
   ],
   "source": [
    "str1=\"i oo am oo ankush oo gupta\"\n",
    "print(str1.split(\"oo\"))   # can be remove particuler sentense and than convert into List."
   ]
  },
  {
   "cell_type": "code",
   "execution_count": 96,
   "id": "d0cb1971",
   "metadata": {},
   "outputs": [
    {
     "name": "stdout",
     "output_type": "stream",
     "text": [
      "1*2*3*4\n",
      "<class 'str'>\n"
     ]
    }
   ],
   "source": [
    "str1=[\"1\",\"2\",\"3\",\"4\"]\n",
    "s=\"*\".join(str1)   # convert into string\n",
    "print(s)        \n",
    "print(type(s))\n"
   ]
  },
  {
   "cell_type": "code",
   "execution_count": 97,
   "id": "dbd37e4b",
   "metadata": {},
   "outputs": [
    {
     "name": "stdout",
     "output_type": "stream",
     "text": [
      "1234\n",
      "<class 'str'>\n"
     ]
    }
   ],
   "source": [
    "str1=[\"1\",\"2\",\"3\",\"4\"]\n",
    "s=\"\".join(str1)\n",
    "print(s) \n",
    "print(type(s))"
   ]
  }
 ],
 "metadata": {
  "kernelspec": {
   "display_name": "Python 3 (ipykernel)",
   "language": "python",
   "name": "python3"
  },
  "language_info": {
   "codemirror_mode": {
    "name": "ipython",
    "version": 3
   },
   "file_extension": ".py",
   "mimetype": "text/x-python",
   "name": "python",
   "nbconvert_exporter": "python",
   "pygments_lexer": "ipython3",
   "version": "3.11.3"
  }
 },
 "nbformat": 4,
 "nbformat_minor": 5
}
